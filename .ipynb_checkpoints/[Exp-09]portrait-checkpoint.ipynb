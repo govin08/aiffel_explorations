{
 "cells": [
  {
   "cell_type": "code",
   "execution_count": 2,
   "id": "d167eb23",
   "metadata": {},
   "outputs": [
    {
     "name": "stderr",
     "output_type": "stream",
     "text": [
      "ERROR: Could not find a version that satisfies the requirement opencv (from versions: none)\n",
      "ERROR: No matching distribution found for opencv\n"
     ]
    }
   ],
   "source": [
    "!pip install opencv"
   ]
  },
  {
   "cell_type": "code",
   "execution_count": 1,
   "id": "c29b9b36",
   "metadata": {},
   "outputs": [
    {
     "ename": "ModuleNotFoundError",
     "evalue": "No module named 'cv2'",
     "output_type": "error",
     "traceback": [
      "\u001b[1;31m---------------------------------------------------------------------------\u001b[0m",
      "\u001b[1;31mModuleNotFoundError\u001b[0m                       Traceback (most recent call last)",
      "\u001b[1;32m~\\AppData\\Local\\Temp/ipykernel_12492/2698349439.py\u001b[0m in \u001b[0;36m<module>\u001b[1;34m\u001b[0m\n\u001b[0;32m      8\u001b[0m \u001b[1;32mimport\u001b[0m \u001b[0mos\u001b[0m\u001b[1;33m\u001b[0m\u001b[1;33m\u001b[0m\u001b[0m\n\u001b[0;32m      9\u001b[0m \u001b[1;32mimport\u001b[0m \u001b[0murllib\u001b[0m\u001b[1;33m\u001b[0m\u001b[1;33m\u001b[0m\u001b[0m\n\u001b[1;32m---> 10\u001b[1;33m \u001b[1;32mimport\u001b[0m \u001b[0mcv2\u001b[0m\u001b[1;33m\u001b[0m\u001b[1;33m\u001b[0m\u001b[0m\n\u001b[0m\u001b[0;32m     11\u001b[0m \u001b[1;32mimport\u001b[0m \u001b[0mnumpy\u001b[0m \u001b[1;32mas\u001b[0m \u001b[0mnp\u001b[0m\u001b[1;33m\u001b[0m\u001b[1;33m\u001b[0m\u001b[0m\n\u001b[0;32m     12\u001b[0m \u001b[1;32mfrom\u001b[0m \u001b[0mpixellib\u001b[0m\u001b[1;33m.\u001b[0m\u001b[0msemantic\u001b[0m \u001b[1;32mimport\u001b[0m \u001b[0msemantic_segmentation\u001b[0m\u001b[1;33m\u001b[0m\u001b[1;33m\u001b[0m\u001b[0m\n",
      "\u001b[1;31mModuleNotFoundError\u001b[0m: No module named 'cv2'"
     ]
    }
   ],
   "source": [
    "# os: Operating System의 줄임말로, 운영체제에서 제공되는 여러 기능을 파이썬에서 사용할 수 있도록 함 (Ex. 디렉토리 경로 이동, 시스템 환경 변수 가져오기 등)\n",
    "# urllib: URL 작업을 위한 여러 모듈을 모은 패키지. (Ex. urllib.request, urllib.parse, ...)\n",
    "# cv2: OpenCV 라이브러리로, 실시간 컴퓨터 비전을 목적으로 한 프로그래밍 라이브러리\n",
    "# numpy(NumPy): 행렬이나 대규모 다차원 배열을 쉽게 처리할 수 있도록 지원하는 라이브러리. 데이터 구조 외에도 수치 계산을 위해 효율적으로 구현된 기능을 제공\n",
    "# pixellib: 이미지 및 비디오 segmentation을 수행하기 위한 라이브러리. \n",
    "# pixellib.semantic: segmentation 기법 중, semantic segmentation을 쉽게 사용할 수 있도록 만든 라이브러리\n",
    "# matplotlib: 파이썬 프로그래밍 언어 및 수학적 확장 NumPy 라이브러리를 활용한 플로팅 라이브러리로, 데이터 시각화 도구\n",
    "import os\n",
    "import urllib\n",
    "import cv2\n",
    "import numpy as np\n",
    "from pixellib.semantic import semantic_segmentation\n",
    "from matplotlib import pyplot as plt\n",
    "\n",
    "print('슝=3')"
   ]
  },
  {
   "cell_type": "code",
   "execution_count": null,
   "id": "9c1d49b4",
   "metadata": {},
   "outputs": [],
   "source": [
    "# os 모듈에 있는 getenv() 함수를 이용하여 읽고싶은 파일의 경로를 file_path에 저장\n",
    "# 준비한 이미지 파일의 경로를 이용하여, 이미지 파일을 읽음\n",
    "# cv2.imread(경로): 경로에 해당하는 이미지 파일을 읽어서 변수에 저장\n",
    "img_path = os.getenv('HOME')+'/aiffel/human_segmentation/images/my_image.png'  \n",
    "img_orig = cv2.imread(img_path) \n",
    "\n",
    "print(img_orig.shape)\n",
    "\n",
    "# cv2.cvtColor(입력 이미지, 색상 변환 코드): 입력 이미지의 색상 채널을 변경\n",
    "# cv2.COLOR_BGR2RGB: 이미지 색상 채널을 변경 (BGR 형식을 RGB 형식으로 변경)\n",
    "# plt.imshow(): 저장된 데이터를 이미지의 형식으로 표시, 입력은 RGB(A) 데이터 혹은 2D 스칼라 데이터\n",
    "# https://matplotlib.org/stable/api/_as_gen/matplotlib.pyplot.imshow.html\n",
    "# plt.show(): 현재 열려있는 모든 figure를 표시 (여기서 figure는 이미지, 그래프 등)\n",
    "# https://matplotlib.org/stable/api/_as_gen/matplotlib.pyplot.show.html\n",
    "plt.imshow(cv2.cvtColor(img_orig, cv2.COLOR_BGR2RGB))\n",
    "plt.show()"
   ]
  },
  {
   "cell_type": "code",
   "execution_count": null,
   "id": "93031122",
   "metadata": {},
   "outputs": [],
   "source": [
    "# 저장할 파일 이름을 결정합니다\n",
    "# 1. os.getenv(x)함수는 환경 변수x의 값을 포함하는 문자열 변수를 반환합니다. model_dir 에 \"/aiffel/human_segmentation/models\" 저장\n",
    "# 2. #os.path.join(a, b)는 경로를 병합하여 새 경로 생성 model_file 에 \"/aiffel/aiffel/human_segmentation/models/deeplabv3_xception_tf_dim_ordering_tf_kernels.h5\" 저장\n",
    "# 1\n",
    "model_dir = os.getenv('HOME')+'/aiffel/human_segmentation/models' \n",
    "# 2\n",
    "model_file = os.path.join(model_dir, 'deeplabv3_xception_tf_dim_ordering_tf_kernels.h5') \n",
    "\n",
    "# PixelLib가 제공하는 모델의 url입니다\n",
    "model_url = 'https://github.com/ayoolaolafenwa/PixelLib/releases/download/1.1/deeplabv3_xception_tf_dim_ordering_tf_kernels.h5' \n",
    "\n",
    "# 다운로드를 시작합니다\n",
    "urllib.request.urlretrieve(model_url, model_file) # urllib 패키지 내에 있는 request 모듈의 urlretrieve 함수를 이용해서 model_url에 있는 파일을 다운로드 해서 model_file 파일명으로 저장"
   ]
  },
  {
   "cell_type": "code",
   "execution_count": null,
   "id": "2101b54b",
   "metadata": {},
   "outputs": [],
   "source": [
    "model = semantic_segmentation() #PixelLib 라이브러리 에서 가져온 클래스를 가져와서 semantic segmentation을 수행하는 클래스 인스턴스를 만듬\n",
    "model.load_pascalvoc_model(model_file) # pascal voc에 대해 훈련된 예외 모델(model_file)을 로드하는 함수를 호출"
   ]
  },
  {
   "cell_type": "code",
   "execution_count": null,
   "id": "3f63e9f3",
   "metadata": {},
   "outputs": [],
   "source": [
    "segvalues, output = model.segmentAsPascalvoc(img_path) # segmentAsPascalvoc()함 수 를 호출 하여 입력된 이미지를 분할, 분할 출력의 배열을 가져옴, 분할 은 pacalvoc 데이터로 학습된 모델을 이용"
   ]
  },
  {
   "cell_type": "code",
   "execution_count": null,
   "id": "13cbedfe",
   "metadata": {},
   "outputs": [],
   "source": [
    "#pascalvoc 데이터의 라벨종류\n",
    "LABEL_NAMES = [\n",
    "    'background', 'aeroplane', 'bicycle', 'bird', 'boat', 'bottle', 'bus',\n",
    "    'car', 'cat', 'chair', 'cow', 'diningtable', 'dog', 'horse', 'motorbike',\n",
    "    'person', 'pottedplant', 'sheep', 'sofa', 'train', 'tv'\n",
    "]\n",
    "len(LABEL_NAMES)"
   ]
  },
  {
   "cell_type": "code",
   "execution_count": null,
   "id": "33c03b0b",
   "metadata": {},
   "outputs": [],
   "source": [
    "#segmentAsPascalvoc() 함수 를 호출하여 입력된 이미지를 분할한 뒤 나온 결과값 중 output을 matplotlib을 이용해 출력\n",
    "plt.imshow(output)\n",
    "plt.show()"
   ]
  },
  {
   "cell_type": "code",
   "execution_count": null,
   "id": "d46a7ea0",
   "metadata": {},
   "outputs": [],
   "source": [
    "segvalues # segmentAsPascalvoc() 함수를 호출하여 입력된 이미지를 분할한 뒤 나온 결과값 중 배열값을 출력"
   ]
  },
  {
   "cell_type": "code",
   "execution_count": null,
   "id": "d0180f6d",
   "metadata": {},
   "outputs": [],
   "source": [
    "#segvalues에 있는 class_ids를 담겨있는 값을 통해 pacalvoc에 담겨있는 라벨을 출력\n",
    "for class_id in segvalues['class_ids']:\n",
    "    print(LABEL_NAMES[class_id])"
   ]
  },
  {
   "cell_type": "code",
   "execution_count": null,
   "id": "8beab078",
   "metadata": {},
   "outputs": [],
   "source": [
    "# 아래 코드를 이해하지 않아도 좋습니다\n",
    "# PixelLib에서 그대로 가져온 코드입니다\n",
    "# 주목해야 할 것은 생상 코드 결과물이예요!\n",
    "\n",
    "#컬러맵 만들기 \n",
    "colormap = np.zeros((256, 3), dtype = int)\n",
    "ind = np.arange(256, dtype=int)\n",
    "\n",
    "for shift in reversed(range(8)):\n",
    "    for channel in range(3):\n",
    "        colormap[:, channel] |= ((ind >> channel) & 1) << shift\n",
    "    ind >>= 3\n",
    "\n",
    "colormap[:20] #생성한 20개의 컬러맵 출력"
   ]
  },
  {
   "cell_type": "code",
   "execution_count": null,
   "id": "df8fc304",
   "metadata": {},
   "outputs": [],
   "source": [
    "colormap[15] #컬러맵 15에 해당하는 배열 출력 (pacalvoc에 LABEL_NAMES 15번째인 사람)"
   ]
  },
  {
   "cell_type": "code",
   "execution_count": null,
   "id": "d70d982d",
   "metadata": {},
   "outputs": [],
   "source": [
    "seg_color = (128,128,192) # 색상순서 변경 - colormap의 배열은 RGB 순이며 output의 배열은 BGR 순서로 채널 배치가 되어 있어서"
   ]
  },
  {
   "cell_type": "code",
   "execution_count": null,
   "id": "2dec4f14",
   "metadata": {},
   "outputs": [],
   "source": [
    "# output의 픽셀 별로 색상이 seg_color와 같다면 1(True), 다르다면 0(False)이 됩니다\n",
    "# seg_color 값이 person을 값이 므로 사람이 있는 위치를 제외하고는 gray로 출력\n",
    "# cmap 값을 변경하면 다른 색상으로 확인이 가능함\n",
    "seg_map = np.all(output==seg_color, axis=-1) \n",
    "print(seg_map.shape) \n",
    "plt.imshow(seg_map, cmap='gray')\n",
    "plt.show()"
   ]
  },
  {
   "cell_type": "code",
   "execution_count": null,
   "id": "357737ce",
   "metadata": {},
   "outputs": [],
   "source": [
    "# 원본이미지를 img_show에 할당한뒤 이미지 사람이 있는 위치와 배경을 분리해서 표현한 color_mask 를 만든뒤 두 이미지를 합쳐서 출력\n",
    "img_show = img_orig.copy()\n",
    "\n",
    "# True과 False인 값을 각각 255과 0으로 바꿔줍니다\n",
    "img_mask = seg_map.astype(np.uint8) * 255\n",
    "\n",
    "# 255와 0을 적당한 색상으로 바꿔봅니다\n",
    "color_mask = cv2.applyColorMap(img_mask, cv2.COLORMAP_JET)\n",
    "\n",
    "# 원본 이미지와 마스트를 적당히 합쳐봅니다\n",
    "# 0.6과 0.4는 두 이미지를 섞는 비율입니다.\n",
    "img_show = cv2.addWeighted(img_show, 0.6, color_mask, 0.4, 0.0)\n",
    "\n",
    "plt.imshow(cv2.cvtColor(img_show, cv2.COLOR_BGR2RGB))\n",
    "plt.show()"
   ]
  },
  {
   "cell_type": "code",
   "execution_count": null,
   "id": "3d3f4517",
   "metadata": {},
   "outputs": [],
   "source": [
    "# (13,13)은 blurring kernel size를 뜻합니다\n",
    "# 다양하게 바꿔보세요\n",
    "img_orig_blur = cv2.blur(img_orig, (13,13))\n",
    "\n",
    "# plt.imshow(): 저장된 데이터를 이미지의 형식으로 표시한다.\n",
    "# cv2.cvtColor(입력 이미지, 색상 변환 코드): 입력 이미지의 색상 채널을 변경\n",
    "# cv2.COLOR_BGR2RGB: 원본이 BGR 순서로 픽셀을 읽다보니\n",
    "# 이미지 색상 채널을 변경해야함 (BGR 형식을 RGB 형식으로 변경)   \n",
    "plt.imshow(cv2.cvtColor(img_orig_blur, cv2.COLOR_BGR2RGB))\n",
    "plt.show()"
   ]
  },
  {
   "cell_type": "code",
   "execution_count": null,
   "id": "50e1e968",
   "metadata": {},
   "outputs": [],
   "source": [
    "# cv2.cvtColor(입력 이미지, 색상 변환 코드): 입력 이미지의 색상 채널을 변경\n",
    "# cv2.COLOR_BGR2RGB: 원본이 BGR 순서로 픽셀을 읽다보니\n",
    "# 이미지 색상 채널을 변경해야함 (BGR 형식을 RGB 형식으로 변경) \n",
    "img_mask_color = cv2.cvtColor(img_mask, cv2.COLOR_GRAY2BGR)\n",
    "\n",
    "# cv2.bitwise_not(): 이미지가 반전됩니다. 배경이 0 사람이 255 였으나\n",
    "# 연산을 하고 나면 배경은 255 사람은 0입니다.\n",
    "img_bg_mask = cv2.bitwise_not(img_mask_color)\n",
    "\n",
    "# cv2.bitwise_and()을 사용하면 배경만 있는 영상을 얻을 수 있습니다.\n",
    "# 0과 어떤 수를 bitwise_and 연산을 해도 0이 되기 때문에 \n",
    "# 사람이 0인 경우에는 사람이 있던 모든 픽셀이 0이 됩니다. 결국 사람이 사라지고 배경만 남아요!\n",
    "img_bg_blur = cv2.bitwise_and(img_orig_blur, img_bg_mask)\n",
    "plt.imshow(cv2.cvtColor(img_bg_blur, cv2.COLOR_BGR2RGB))\n",
    "plt.show()"
   ]
  },
  {
   "cell_type": "code",
   "execution_count": null,
   "id": "20cbb909",
   "metadata": {},
   "outputs": [],
   "source": [
    "# np.where(조건, 참일때, 거짓일때)\n",
    "# 세그멘테이션 마스크가 255인 부분만 원본 이미지 값을 가지고 오고 \n",
    "# 아닌 영역은 블러된 이미지 값을 사용합니다.\n",
    "img_concat = np.where(img_mask_color==255, img_orig, img_bg_blur)\n",
    "# plt.imshow(): 저장된 데이터를 이미지의 형식으로 표시한다.\n",
    "# cv2.cvtColor(입력 이미지, 색상 변환 코드): 입력 이미지의 색상 채널을 변경\n",
    "# cv2.COLOR_BGR2RGB: 원본이 BGR 순서로 픽셀을 읽다보니 \n",
    "# 이미지 색상 채널을 변경해야함 (BGR 형식을 RGB 형식으로 변경)\n",
    "plt.imshow(cv2.cvtColor(img_concat, cv2.COLOR_BGR2RGB))\n",
    "plt.show()"
   ]
  },
  {
   "cell_type": "code",
   "execution_count": null,
   "id": "10b30c22",
   "metadata": {},
   "outputs": [],
   "source": []
  },
  {
   "cell_type": "code",
   "execution_count": null,
   "id": "3d48d053",
   "metadata": {},
   "outputs": [],
   "source": []
  },
  {
   "cell_type": "code",
   "execution_count": null,
   "id": "771c2760",
   "metadata": {},
   "outputs": [],
   "source": []
  }
 ],
 "metadata": {
  "kernelspec": {
   "display_name": "Python 3 (ipykernel)",
   "language": "python",
   "name": "python3"
  },
  "language_info": {
   "codemirror_mode": {
    "name": "ipython",
    "version": 3
   },
   "file_extension": ".py",
   "mimetype": "text/x-python",
   "name": "python",
   "nbconvert_exporter": "python",
   "pygments_lexer": "ipython3",
   "version": "3.9.7"
  }
 },
 "nbformat": 4,
 "nbformat_minor": 5
}
