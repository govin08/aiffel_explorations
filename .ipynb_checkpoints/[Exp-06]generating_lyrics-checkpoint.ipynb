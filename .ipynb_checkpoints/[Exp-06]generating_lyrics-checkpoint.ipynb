{
 "cells": [
  {
   "cell_type": "markdown",
   "id": "2cb26bd3",
   "metadata": {},
   "source": [
    "**루브릭 1. 데이터의 전처리 및 구성과정이 체계적으로 진행되었는가?**  \n",
    "특수문자 제거, 토크나이저 생성, 패딩 처리의 작업들이 빠짐없이 진행되었는가?\n",
    "\n",
    "-> 잘 진행되었습니다.\n",
    "\n",
    "**루브릭 2. 가사 텍스트 생성 모델이 정상적으로 동작하는가?**  \n",
    "텍스트 제너레이션 결과로 생성된 문장이 해석 가능한 문장인가?\n",
    "\n",
    "-> \n",
    "\n",
    "**루브릭 3. 텍스트 생성모델이 안정적으로 학습되었는가?**  \n",
    "텍스트 생성모델의 validation loss가 2.2 이하로 낮아졌는가?\n",
    "\n",
    "-> \n",
    "\n",
    "**참고사항**\n",
    "\n",
    "1. 목차(table of contents) 관련  \n",
    "\n",
    "이전 exploration(05)에서는 jupyter notebook extension의 table of contents(2) 기능을 사용하여 전체 문서를 구조화했습니다.\n",
    "이렇게 하면, 굳이 장번호와 절번호를 매번 명시하지 않아도, 장과 절의 순서가 잘 배열되는 동시에, 목차 또한 생성되어 좋습니다.\n",
    "하지만, 이 기능은 로컬 환경의 jupyter notebook에서만 작용하고, (1) 깃허브에 올라갈 때에는 반영되지 않고, (2) AIFFEL jupyter 환경에서도 작동하지 않으며, (3) colab에서도, 단지 장과 절의 hierarchy만 명시될 뿐 번호가 자동적으로 생성되지 않습니다.\n",
    "\n",
    "이에, 이번에는 문서를 다 작성한 후 목차(table of contents)를 직접(manual 하게) 상단에 적어보았습니다.\n",
    "이렇게 하면, 로컬 환경의 jupyter notebook을 사용해 table of contents(2) 기능을 사용할 경우, 문서가 더 이상하게 보이리라는 단점이 있습니다.\n",
    "\n",
    "향후에, AIFFEL jupyter 환경에서도 (table of contents(2) 기능을 포함한) nbextension을 사용할 수 있다면 참 좋을 것 같습니다.\n",
    "\n",
    "2. 코드 및 주석 관련\n",
    "\n",
    "기존 코드에서 이 문서로 코드를 옮길 때에 최대한 간결하게 쓰려고 했습니다.\n",
    "따라서 기존 코드에 붙어있던 주석들은 최대한 제거했습니다.\n",
    "또한, 이 문서에 직접적으로 필요하지 않은 코드들은 가급적 배제하였습니다.\n",
    "다만, `dataset`이라고 이름 붙여졌던 객체에 대해서는, 이 문서의 전체적인 흐름과는 직접적으로 연관이 있지 않음에도 불구하고, 조금 분석을 해보았습니다.\n",
    "\n",
    "또한, 각 장(1. 사전작업, 2. 모델 생성, 훈련 및 평가)의 맨 앞쪽에 주석들을 추가해, 코드에 대한 설명을 적어보았습니다."
   ]
  },
  {
   "cell_type": "markdown",
   "id": "139ea48d",
   "metadata": {},
   "source": [
    "***"
   ]
  },
  {
   "cell_type": "markdown",
   "id": "66ffacfd",
   "metadata": {},
   "source": [
    "## 목차\n",
    "\n",
    "### 1. 사전작업\n",
    "#### 1.1. 모듈 불러오기\n",
    "#### 1.2. 데이터 불러오기\n",
    "#### 1.3. 데이터 정제하기\n",
    "#### 1.4. 데이터 분리하기\n",
    "#### 1.5. `dataset`에 대한 이해\n",
    "### 2. 모델 구성, 훈련 및 평가\n",
    "#### 2.1. 모델 구성\n",
    "#### 2.2. 모델 훈련 및 평가\n",
    "#### 2.3. 문장 생성\n",
    "### 3. 회고"
   ]
  },
  {
   "cell_type": "markdown",
   "id": "a4fcfa8e",
   "metadata": {},
   "source": [
    "***"
   ]
  },
  {
   "cell_type": "markdown",
   "id": "76ca37fa",
   "metadata": {},
   "source": [
    "# 1. 사전작업"
   ]
  },
  {
   "cell_type": "markdown",
   "id": "5a0c17bd",
   "metadata": {},
   "source": [
    "파일트리\n",
    "\n",
    "Github\n",
    "\n",
    "├── aiffel_explorations\n",
    "\n",
    "    ├── .git\n",
    "    \n",
    "    └── 06.ipynb\n",
    "\n",
    "└── data\n",
    "\n",
    "    └── exploration_06\n",
    "\n",
    "        ├── .git\n",
    "\n",
    "            ├── adele.txt\n",
    "\n",
    "            ├── al-green.txt\n",
    "\n",
    "            ː\n",
    "\n",
    "            └── r-kelly.txt\n",
    "        └── lyrics"
   ]
  },
  {
   "cell_type": "markdown",
   "id": "68678deb",
   "metadata": {},
   "source": [
    " - `raw_corpus`\n",
    "  - 원래 그대로 형태의 문장들을 불러왔습니다(`list`).\n",
    "  - `txt_file_path`로 파일 경로를 불러왔습니다.\n",
    "  - `raw_corpus`에 담긴 문장들은 총 187088개 입니다.\n",
    " - `corpus`\n",
    "  - `raw_corpus`에 있는 문장들 중 일부 문장들을 제외하고 적당히 정제하여 담았습니다(`list`).\n",
    "  - LMS에 제시되어있는 함수 `preprocess_sentence`를 그대로 가져와서 정제하는 데에 사용했습니다.\n",
    "  - 제외한 문장들은 다음과 같습니다.\n",
    "    - 아무 것도 없는 문장\n",
    "    - 정제한 후, 문장에 포함된 단어의 개수가 15개 이상인 문장\n",
    "  - `corpus`에 담긴 문장들은 총 156227개 입니다.\n",
    " - `tensor`\n",
    "  - `corpus`의 각 문장들을 토큰화했습니다. (`np.array`)\n",
    "  - LMS에 제시되어있는 함수 `tokenizer`를 그대로 가져오되,`num_words`를 7000에서 1200으로 변경했습니다.\n",
    "  - `padding`은 원래 주어졌던 대로 'post'로 설정했습니다.\n",
    "  'pre'로 바꿔보았는데, 성능이 떨어졌습니다.\n",
    " - `src_input`, `tgt_input`\n",
    "  - 각 문장의 맨 뒷단어를 잘라내어 `src_input`을 만들고, 각 문장의 맨 앞단어를 잘라내어 `tgt_input`을 만들었습니다.\n",
    " - `enc_train`, `enc_val`, `dec_train`, `dec_val`\n",
    "  - 데이터를 trainset과 testset, input과 label로 나누었습니다.\n",
    " - `dataset`\n",
    "  - 이 부분은 이번 exploration의 흐름과는 관련이 없는 부분이지만, `dataset`이라는 객체에 대한 궁금증에 여러 실험을 해본 것입니다.\n",
    "  - LMS 노드에 적힌 대로 `dataset`을 정의한 후, 이것의 구조를 들여다보았습니다.\n",
    "  `dataset`은 `tf.data.Dataset`와 같은 데이터타입을 가지고 있습니다.\n",
    "  따라서 구조를 들여다보기 어려우나, iterator의 역할을 하는 것 같아 list comprehension을 통해 `list`형식으로 만들고, 형태를 보기 위해 `np.array`로 바꾸었습니다.\n",
    "  - 그 후, shape을 출력해보니, (배치작업을 하기 전에는) (156227, 2, 14)로 나옵니다.\n",
    "  156227은 문장의 개수를, 2는 `src`/`tgt`을 의미하며, 14는 각 문장의 단어의 개수를 의미합니다.\n",
    "  가공한 후의 shape은 (배치작업 후에는) (610, 2, 256, 14)로 바뀝니다.\n",
    "  여기서 610은 한 epoch당 optimizer가 동작하는 횟수을 의미하고, 256은 배치 사이즈를 말합니다."
   ]
  },
  {
   "cell_type": "markdown",
   "id": "287e567d",
   "metadata": {},
   "source": [
    "## 1.1. 모듈 불러오기"
   ]
  },
  {
   "cell_type": "code",
   "execution_count": 1,
   "id": "a940349d",
   "metadata": {},
   "outputs": [],
   "source": [
    "import numpy as np\n",
    "import matplotlib.pyplot as plt\n",
    "\n",
    "import os, re, glob\n",
    "import tensorflow as tf\n",
    "from sklearn.model_selection import train_test_split"
   ]
  },
  {
   "cell_type": "markdown",
   "id": "907465f1",
   "metadata": {},
   "source": [
    "## 1.2. 데이터 불러오기"
   ]
  },
  {
   "cell_type": "code",
   "execution_count": 2,
   "id": "94479de9",
   "metadata": {},
   "outputs": [],
   "source": [
    "txt_file_path = '../data/exploration_06/lyrics/*'\n",
    "txt_list = glob.glob(txt_file_path)"
   ]
  },
  {
   "cell_type": "code",
   "execution_count": 3,
   "id": "ce4b03b9",
   "metadata": {},
   "outputs": [
    {
     "name": "stdout",
     "output_type": "stream",
     "text": [
      "49\n",
      "['../data/exploration_06/lyrics/lin-manuel-miranda.txt'\n",
      " '../data/exploration_06/lyrics/bob-marley.txt'\n",
      " '../data/exploration_06/lyrics/lil-wayne.txt']\n"
     ]
    }
   ],
   "source": [
    "print(len(txt_list))\n",
    "print(np.array(txt_list[:3]))"
   ]
  },
  {
   "cell_type": "code",
   "execution_count": 4,
   "id": "ccc70186",
   "metadata": {},
   "outputs": [
    {
     "name": "stdout",
     "output_type": "stream",
     "text": [
      "<class 'list'>\n",
      "187088\n",
      "['How does a bastard, orphan, son of a whore'\n",
      " 'And a Scotsman, dropped in the middle of a forgotten spot in the Caribbean by providence impoverished,'\n",
      " 'In squalor, grow up to be a hero and a scholar? The ten-dollar founding father without a father']\n"
     ]
    }
   ],
   "source": [
    "raw_corpus = []\n",
    "for txt_file in txt_list:\n",
    "    with open(txt_file, \"r\") as f:\n",
    "        raw = f.read().splitlines()\n",
    "        raw_corpus.extend(raw)\n",
    "print(type(raw_corpus))\n",
    "print(len(raw_corpus))\n",
    "print(np.array(raw_corpus[:3]))"
   ]
  },
  {
   "cell_type": "markdown",
   "id": "9c66df7c",
   "metadata": {},
   "source": [
    "## 1.3. 데이터 정제하기"
   ]
  },
  {
   "cell_type": "code",
   "execution_count": 5,
   "id": "acb68d6c",
   "metadata": {},
   "outputs": [],
   "source": [
    "def preprocess_sentence(sentence):\n",
    "    sentence = sentence.lower().strip() # 1\n",
    "    sentence = re.sub(r\"([?.!,¿])\", r\" \\1 \", sentence) # 2\n",
    "    sentence = re.sub(r'[\" \"]+', \" \", sentence) # 3\n",
    "    sentence = re.sub(r\"[^a-zA-Z?.!,¿]+\", \" \", sentence) # 4\n",
    "    sentence = sentence.strip() # 5\n",
    "    sentence = '<start> ' + sentence + ' <end>' # 6\n",
    "    return sentence"
   ]
  },
  {
   "cell_type": "code",
   "execution_count": 6,
   "id": "a6a12e80",
   "metadata": {
    "scrolled": true
   },
   "outputs": [],
   "source": [
    "corpus = []\n",
    "for sentence in raw_corpus:\n",
    "    if len(sentence) == 0: continue\n",
    "#    if sentence[-1] == \":\": continue\n",
    "    preprocessed_sentence = preprocess_sentence(sentence)\n",
    "    if len(preprocessed_sentence.split(\" \")) > 15: continue\n",
    "    corpus.append(preprocessed_sentence)"
   ]
  },
  {
   "cell_type": "code",
   "execution_count": 7,
   "id": "7b76f70d",
   "metadata": {},
   "outputs": [
    {
     "name": "stdout",
     "output_type": "stream",
     "text": [
      "<class 'list'>\n",
      "156227\n"
     ]
    }
   ],
   "source": [
    "print(type(corpus))\n",
    "print(len(corpus))"
   ]
  },
  {
   "cell_type": "markdown",
   "id": "db46f994",
   "metadata": {},
   "source": [
    "## 1.4. 데이터 분리하기"
   ]
  },
  {
   "cell_type": "code",
   "execution_count": 8,
   "id": "a782ecbf",
   "metadata": {
    "scrolled": false
   },
   "outputs": [
    {
     "name": "stdout",
     "output_type": "stream",
     "text": [
      "[[  2  79 622 ...   3   0   0]\n",
      " [  2  37   9 ...   0   0   0]\n",
      " [  2 115 573 ...   0   0   0]\n",
      " ...\n",
      " [  2   4 117 ...   0   0   0]\n",
      " [  2 258 192 ...  12   3   0]\n",
      " [  2   7  34 ...   0   0   0]] <keras_preprocessing.text.Tokenizer object at 0x7f041f83f8e0>\n",
      "<class 'numpy.ndarray'>\n"
     ]
    }
   ],
   "source": [
    "def tokenize(corpus):\n",
    "    tokenizer = tf.keras.preprocessing.text.Tokenizer(\n",
    "        num_words=12000, filters=' ',oov_token=\"<unk>\")\n",
    "    tokenizer.fit_on_texts(corpus)\n",
    "    tensor = tokenizer.texts_to_sequences(corpus)\n",
    "    tensor = tf.keras.preprocessing.sequence.pad_sequences(\n",
    "        tensor, padding='post')\n",
    "    print(tensor,tokenizer)\n",
    "    return tensor, tokenizer\n",
    "tensor, tokenizer = tokenize(corpus)\n",
    "print(type(tensor))"
   ]
  },
  {
   "cell_type": "code",
   "execution_count": 9,
   "id": "6504904a",
   "metadata": {},
   "outputs": [
    {
     "name": "stdout",
     "output_type": "stream",
     "text": [
      "[    2    79   622     9  4490     5 10334     5   646    20     9  3400\n",
      "     3     0]\n",
      "[   79   622     9  4490     5 10334     5   646    20     9  3400     3\n",
      "     0     0]\n"
     ]
    }
   ],
   "source": [
    "src_input = tensor[:, :-1]\n",
    "tgt_input = tensor[:, 1:]\n",
    "print(src_input[0])\n",
    "print(tgt_input[0])"
   ]
  },
  {
   "cell_type": "code",
   "execution_count": 10,
   "id": "9509b60f",
   "metadata": {},
   "outputs": [],
   "source": [
    "enc_train, enc_val, dec_train, dec_val = train_test_split(src_input,tgt_input, test_size=0.2, random_state=15)"
   ]
  },
  {
   "cell_type": "markdown",
   "id": "a805edb3",
   "metadata": {},
   "source": [
    "## 1.5. `dataset`에 대한 이해"
   ]
  },
  {
   "cell_type": "code",
   "execution_count": 11,
   "id": "7d9fc3a9",
   "metadata": {
    "scrolled": true
   },
   "outputs": [
    {
     "name": "stdout",
     "output_type": "stream",
     "text": [
      "BUFFER_SIZE : 124981\n",
      "BATCH_SIZE : 256\n",
      "steps_per_epoch : 610\n",
      "VOCAB_SIZE : 12001\n"
     ]
    }
   ],
   "source": [
    "BUFFER_SIZE = len(enc_train)\n",
    "print('BUFFER_SIZE :',BUFFER_SIZE)\n",
    "BATCH_SIZE = 256\n",
    "print('BATCH_SIZE :',BATCH_SIZE)\n",
    "steps_per_epoch = len(src_input) // BATCH_SIZE\n",
    "print('steps_per_epoch :',steps_per_epoch)\n",
    "VOCAB_SIZE = tokenizer.num_words + 1\n",
    "print('VOCAB_SIZE :',VOCAB_SIZE)"
   ]
  },
  {
   "cell_type": "code",
   "execution_count": 12,
   "id": "ffc2d5db",
   "metadata": {
    "scrolled": true
   },
   "outputs": [
    {
     "name": "stdout",
     "output_type": "stream",
     "text": [
      "(156227, 2, 14)\n",
      "(156227, 2, 14)\n",
      "(610, 2, 256, 14)\n",
      "<BatchDataset shapes: ((256, 14), (256, 14)), types: (tf.int32, tf.int32)>\n"
     ]
    }
   ],
   "source": [
    "dataset = tf.data.Dataset.from_tensor_slices((src_input, tgt_input))\n",
    "dataset_as_np_array = np.array([data for data in dataset])\n",
    "print(dataset_as_np_array.shape)\n",
    "dataset = dataset.shuffle(BUFFER_SIZE)\n",
    "dataset_as_np_array = np.array([data for data in dataset])\n",
    "print(dataset_as_np_array.shape)\n",
    "dataset = dataset.batch(BATCH_SIZE, drop_remainder=True)\n",
    "dataset_as_np_array = np.array([data for data in dataset])\n",
    "print(dataset_as_np_array.shape)\n",
    "print(dataset)"
   ]
  },
  {
   "cell_type": "markdown",
   "id": "99ac534b",
   "metadata": {},
   "source": [
    "# 2. 모델 구성, 훈련 및 평가"
   ]
  },
  {
   "cell_type": "markdown",
   "id": "f4c99384",
   "metadata": {},
   "source": [
    " - `TextGenerator`\n",
    "  - 모델을 구성하기 전, `TextGenerator` 클래스를 정의했습니다.\n",
    "  이 정의는 LMS에 정의된 코드를 그대로 따랐습니다.\n",
    "  - 이 클래스는, embedding layer 한 개와 LSTM 레이어 두 개, 그리고 fully connected layer 한 개로 구성되어 있습니다.\n",
    "  - LSTM을 두 개 쌓고 있으며, 그 이후에는 FC layer가 나오므로, `return_sequences`는 둘 다 `True`로 놓습니다.\n",
    " - `model`\n",
    "  - `TextGenerator`를 사용하여 모델을 만듭니다.\n",
    "  - `embedding_size`는 512로 둡니다.\n",
    "  이것은 word vector의 차원을 말합니다.\n",
    "  - `hidden_size`는 2048로 둡니다.\n",
    "  이것은 LSTM의 hidden state vector의 차원을 말합니다.\n",
    "  - 이 두 값은 원래, 각각 256, 1024로 되어 있었지만, 원하는 만큼의 성능이 나오지 않아 둘 다 두 배로 늘린 것입니다.\n",
    " - `prd_sample`\n",
    "  - LMS에서 한 대로, `dataset`의 `take` 메서드를 이용하여 하나의 sample을 가지고 `model`에 입력함으로써 `model.build()`를 호출합니다.\n",
    "  - 그 입력에 대한 결과는 `prd_sample`로 임의로 저장해보았습니다.\n",
    "  - `prd_sample`을 `np.array`로 바꾸어 shape을 계산해보면, (256, 14, 12001)이 나옵니다."
   ]
  },
  {
   "cell_type": "markdown",
   "id": "84e762e0",
   "metadata": {},
   "source": [
    "## 2.1. 모델 구성"
   ]
  },
  {
   "cell_type": "code",
   "execution_count": 13,
   "id": "db4b46a7",
   "metadata": {},
   "outputs": [],
   "source": [
    "class TextGenerator(tf.keras.Model):\n",
    "    def __init__(self, vocab_size, embedding_size, hidden_size):\n",
    "        super().__init__()\n",
    "        self.embedding = tf.keras.layers.Embedding(vocab_size, embedding_size) \n",
    "        self.rnn_1 = tf.keras.layers.LSTM(hidden_size, return_sequences=True)  \n",
    "        self.rnn_2 = tf.keras.layers.LSTM(hidden_size, return_sequences=True)\n",
    "        self.linear = tf.keras.layers.Dense(vocab_size)\n",
    "    def call(self, x):\n",
    "        out = self.embedding(x)\n",
    "        out = self.rnn_1(out)\n",
    "        out = self.rnn_2(out)\n",
    "        out = self.linear(out)\n",
    "        return out"
   ]
  },
  {
   "cell_type": "code",
   "execution_count": 14,
   "id": "52305240",
   "metadata": {},
   "outputs": [],
   "source": [
    "embedding_size = 512\n",
    "hidden_size = 2048"
   ]
  },
  {
   "cell_type": "code",
   "execution_count": 15,
   "id": "cde65373",
   "metadata": {},
   "outputs": [],
   "source": [
    "model = TextGenerator(tokenizer.num_words + 1, embedding_size , hidden_size) "
   ]
  },
  {
   "cell_type": "code",
   "execution_count": 22,
   "id": "d59f0f8d",
   "metadata": {},
   "outputs": [
    {
     "name": "stdout",
     "output_type": "stream",
     "text": [
      "<class 'tensorflow.python.framework.ops.EagerTensor'>\n",
      "(256, 14, 12001)\n",
      "tf.Tensor(\n",
      "[[[ -1.9320884    3.2616475  -11.665983   ... -10.587843    -4.488203\n",
      "   -11.506547  ]\n",
      "  [ -3.6160734    6.0042796  -10.070853   ... -12.129986    -5.2112975\n",
      "    -9.952361  ]\n",
      "  [ -0.799966     4.1585784  -10.226746   ... -13.970858    -5.5524487\n",
      "    -9.786928  ]\n",
      "  ...\n",
      "  [ 22.7103       1.7247651  -17.066486   ... -15.405719    -3.7969322\n",
      "   -16.28437   ]\n",
      "  [ 22.964546     1.9736316  -17.711548   ... -16.121782    -3.658985\n",
      "   -16.804665  ]\n",
      "  [ 22.947813     1.9464073  -17.752821   ... -16.154425    -3.9642456\n",
      "   -16.871372  ]]\n",
      "\n",
      " [[ -1.9320884    3.2616475  -11.665983   ... -10.587843    -4.488203\n",
      "   -11.506547  ]\n",
      "  [ -6.5648565    3.4500663  -12.208611   ... -10.36776     -9.0723915\n",
      "   -12.331044  ]\n",
      "  [ -0.5239807    5.122368    -9.667109   ... -12.689533    -4.5545144\n",
      "    -9.513761  ]\n",
      "  ...\n",
      "  [ 22.538195     0.33301508 -17.03061    ... -15.21655     -4.0208035\n",
      "   -16.132662  ]\n",
      "  [ 22.337763     0.47327453 -16.884094   ... -15.302728    -3.889451\n",
      "   -15.969304  ]\n",
      "  [ 22.44469      0.5034012  -17.034014   ... -15.373228    -4.0670433\n",
      "   -16.138716  ]]\n",
      "\n",
      " [[ -1.9320884    3.2616475  -11.665983   ... -10.587843    -4.488203\n",
      "   -11.506547  ]\n",
      "  [ -3.1436334    2.924893   -17.358452   ... -11.5228      -6.69195\n",
      "   -17.59918   ]\n",
      "  [ -5.9525537    4.992765   -15.021924   ... -10.051041    -5.244692\n",
      "   -15.0866165 ]\n",
      "  ...\n",
      "  [ -1.1608621    7.9395685  -14.018647   ... -10.598393    -7.472414\n",
      "   -14.172103  ]\n",
      "  [  1.9485893    7.7769547   -7.8056192  ...  -7.5857477   -5.4552293\n",
      "    -7.8756213 ]\n",
      "  [ -0.38369894   2.3842225  -14.149185   ... -14.229769    -7.4886045\n",
      "   -14.055194  ]]\n",
      "\n",
      " ...\n",
      "\n",
      " [[ -1.9320884    3.2616475  -11.665983   ... -10.587843    -4.488203\n",
      "   -11.506547  ]\n",
      "  [ -0.04698047   7.0918374   -8.062594   ...  -6.612362    -4.1536775\n",
      "    -7.9578586 ]\n",
      "  [ -4.247442     5.4645844   -6.479022   ...  -8.446291    -4.366363\n",
      "    -6.7559724 ]\n",
      "  ...\n",
      "  [ 22.301989     1.4143856  -17.43023    ... -15.734223    -5.3287015\n",
      "   -16.657572  ]\n",
      "  [ 22.682964     1.4543679  -17.728289   ... -15.724939    -5.015324\n",
      "   -16.834332  ]\n",
      "  [ 22.676813     1.550385   -17.637726   ... -15.581239    -4.979527\n",
      "   -16.734005  ]]\n",
      "\n",
      " [[ -1.9320884    3.2616475  -11.665983   ... -10.587843    -4.488203\n",
      "   -11.506547  ]\n",
      "  [ -1.54341      5.9214787  -10.345817   ...  -8.80783     -6.9802346\n",
      "   -10.031076  ]\n",
      "  [ -3.0776043    3.9157977  -10.633622   ...  -7.653798    -9.788175\n",
      "   -10.29411   ]\n",
      "  ...\n",
      "  [ 22.87523      2.6791544  -18.216461   ... -15.644073    -5.059\n",
      "   -17.2608    ]\n",
      "  [ 22.861202     2.8319404  -18.136633   ... -15.539702    -4.7681704\n",
      "   -17.171944  ]\n",
      "  [ 22.719572     2.9654589  -18.004562   ... -15.568653    -4.5242686\n",
      "   -17.058826  ]]\n",
      "\n",
      " [[ -1.9320884    3.2616475  -11.665983   ... -10.587843    -4.488203\n",
      "   -11.506547  ]\n",
      "  [ -6.629025     5.268987   -13.475191   ...  -7.620327    -6.852808\n",
      "   -13.508632  ]\n",
      "  [ -1.4816277    7.9985347  -11.488652   ... -15.366823    -3.1705928\n",
      "   -11.114819  ]\n",
      "  ...\n",
      "  [ 20.900696     3.4346926  -17.797209   ... -16.59572     -4.1025033\n",
      "   -17.00621   ]\n",
      "  [ 22.411375     2.0503383  -17.365103   ... -15.759097    -4.1249294\n",
      "   -16.500145  ]\n",
      "  [ 22.653584     2.2817392  -17.654768   ... -15.816581    -3.912758\n",
      "   -16.71793   ]]], shape=(256, 14, 12001), dtype=float32)\n"
     ]
    }
   ],
   "source": [
    "for src_sample, tgt_sample in dataset.take(1): break\n",
    "prd_sample = model(src_sample)\n",
    "print(type(prd_sample))\n",
    "print(np.array(prd_sample).shape)\n",
    "#print(prd_sample)"
   ]
  },
  {
   "cell_type": "code",
   "execution_count": 17,
   "id": "34ee1ea6",
   "metadata": {
    "scrolled": true
   },
   "outputs": [
    {
     "name": "stdout",
     "output_type": "stream",
     "text": [
      "Model: \"text_generator\"\n",
      "_________________________________________________________________\n",
      "Layer (type)                 Output Shape              Param #   \n",
      "=================================================================\n",
      "embedding (Embedding)        multiple                  6144512   \n",
      "_________________________________________________________________\n",
      "lstm (LSTM)                  multiple                  20979712  \n",
      "_________________________________________________________________\n",
      "lstm_1 (LSTM)                multiple                  33562624  \n",
      "_________________________________________________________________\n",
      "dense (Dense)                multiple                  24590049  \n",
      "=================================================================\n",
      "Total params: 85,276,897\n",
      "Trainable params: 85,276,897\n",
      "Non-trainable params: 0\n",
      "_________________________________________________________________\n"
     ]
    }
   ],
   "source": [
    "model.summary()"
   ]
  },
  {
   "cell_type": "code",
   "execution_count": 18,
   "id": "e8878c7a",
   "metadata": {},
   "outputs": [],
   "source": [
    "optimizer = tf.keras.optimizers.Adam()\n",
    "loss = tf.keras.losses.SparseCategoricalCrossentropy(\n",
    "    from_logits=True, reduction='none')\n",
    "model.compile(loss=loss, optimizer=optimizer)"
   ]
  },
  {
   "cell_type": "markdown",
   "id": "46c1fc37",
   "metadata": {},
   "source": [
    "## 2.2. 모델 훈련 및 평가"
   ]
  },
  {
   "cell_type": "code",
   "execution_count": 19,
   "id": "e41eb9e6",
   "metadata": {
    "scrolled": false
   },
   "outputs": [
    {
     "name": "stdout",
     "output_type": "stream",
     "text": [
      "Epoch 1/10\n",
      "489/489 [==============================] - 261s 530ms/step - loss: 3.3111 - val_loss: 2.9605\n",
      "Epoch 2/10\n",
      "489/489 [==============================] - 259s 530ms/step - loss: 2.7807 - val_loss: 2.7061\n",
      "Epoch 3/10\n",
      "489/489 [==============================] - 260s 531ms/step - loss: 2.4931 - val_loss: 2.5330\n",
      "Epoch 4/10\n",
      "489/489 [==============================] - 260s 531ms/step - loss: 2.2204 - val_loss: 2.4068\n",
      "Epoch 5/10\n",
      "489/489 [==============================] - 260s 532ms/step - loss: 1.9604 - val_loss: 2.3050\n",
      "Epoch 6/10\n",
      "489/489 [==============================] - 260s 531ms/step - loss: 1.7186 - val_loss: 2.2338\n",
      "Epoch 7/10\n",
      "489/489 [==============================] - 260s 533ms/step - loss: 1.5049 - val_loss: 2.1827\n",
      "Epoch 8/10\n",
      "489/489 [==============================] - 260s 533ms/step - loss: 1.3262 - val_loss: 2.1582\n",
      "Epoch 9/10\n",
      "489/489 [==============================] - 261s 533ms/step - loss: 1.1862 - val_loss: 2.1550\n",
      "Epoch 10/10\n",
      "489/489 [==============================] - 260s 533ms/step - loss: 1.0854 - val_loss: 2.1745\n"
     ]
    }
   ],
   "source": [
    "hist = model.fit(enc_train, dec_train,batch_size=256,\n",
    "                 validation_data = (enc_val,dec_val), epochs=10)"
   ]
  },
  {
   "cell_type": "code",
   "execution_count": 20,
   "id": "1e30cbf6",
   "metadata": {},
   "outputs": [
    {
     "ename": "KeyError",
     "evalue": "'accuracy'",
     "output_type": "error",
     "traceback": [
      "\u001b[0;31m---------------------------------------------------------------------------\u001b[0m",
      "\u001b[0;31mKeyError\u001b[0m                                  Traceback (most recent call last)",
      "\u001b[0;32m/tmp/ipykernel_803/1369969732.py\u001b[0m in \u001b[0;36m<module>\u001b[0;34m\u001b[0m\n\u001b[1;32m      8\u001b[0m \u001b[0;34m\u001b[0m\u001b[0m\n\u001b[1;32m      9\u001b[0m \u001b[0mplt\u001b[0m\u001b[0;34m.\u001b[0m\u001b[0msubplot\u001b[0m\u001b[0;34m(\u001b[0m\u001b[0;36m122\u001b[0m\u001b[0;34m)\u001b[0m\u001b[0;34m\u001b[0m\u001b[0;34m\u001b[0m\u001b[0m\n\u001b[0;32m---> 10\u001b[0;31m \u001b[0mplt\u001b[0m\u001b[0;34m.\u001b[0m\u001b[0mplot\u001b[0m\u001b[0;34m(\u001b[0m\u001b[0mhist\u001b[0m\u001b[0;34m.\u001b[0m\u001b[0mhistory\u001b[0m\u001b[0;34m[\u001b[0m\u001b[0;34m'accuracy'\u001b[0m\u001b[0;34m]\u001b[0m\u001b[0;34m)\u001b[0m\u001b[0;34m\u001b[0m\u001b[0;34m\u001b[0m\u001b[0m\n\u001b[0m\u001b[1;32m     11\u001b[0m \u001b[0mplt\u001b[0m\u001b[0;34m.\u001b[0m\u001b[0mplot\u001b[0m\u001b[0;34m(\u001b[0m\u001b[0mhist\u001b[0m\u001b[0;34m.\u001b[0m\u001b[0mhistory\u001b[0m\u001b[0;34m[\u001b[0m\u001b[0;34m'val_accuracy'\u001b[0m\u001b[0;34m]\u001b[0m\u001b[0;34m)\u001b[0m\u001b[0;34m\u001b[0m\u001b[0;34m\u001b[0m\u001b[0m\n\u001b[1;32m     12\u001b[0m \u001b[0mplt\u001b[0m\u001b[0;34m.\u001b[0m\u001b[0mxlabel\u001b[0m\u001b[0;34m(\u001b[0m\u001b[0;34m'epoch'\u001b[0m\u001b[0;34m)\u001b[0m\u001b[0;34m\u001b[0m\u001b[0;34m\u001b[0m\u001b[0m\n",
      "\u001b[0;31mKeyError\u001b[0m: 'accuracy'"
     ]
    },
    {
     "data": {
      "image/png": "[encoded data removed]",
      "text/plain": [
       "<Figure size 864x288 with 2 Axes>"
      ]
     },
     "metadata": {
      "needs_background": "light"
     },
     "output_type": "display_data"
    }
   ],
   "source": [
    "plt.rcParams[\"figure.figsize\"] = (12,4)\n",
    "plt.subplot(121)\n",
    "plt.plot(hist.history['loss'])\n",
    "plt.plot(hist.history['val_loss'])\n",
    "plt.xlabel('epoch')\n",
    "plt.ylabel('loss')\n",
    "plt.legend(['loss','val_loss'])\n",
    "\n",
    "plt.subplot(122)\n",
    "plt.plot(hist.history['accuracy'])\n",
    "plt.plot(hist.history['val_accuracy'])\n",
    "plt.xlabel('epoch')\n",
    "plt.ylabel('accuracy')\n",
    "plt.legend(['accuracy','val_accuracy'])"
   ]
  },
  {
   "cell_type": "markdown",
   "id": "0ae79c80",
   "metadata": {},
   "source": [
    "## 2.3. 문장 생성"
   ]
  },
  {
   "cell_type": "code",
   "execution_count": null,
   "id": "ff2b127b",
   "metadata": {},
   "outputs": [],
   "source": [
    "def generate_text(model, tokenizer, init_sentence=\"<start>\", max_len=15):\n",
    "    test_input = tokenizer.texts_to_sequences([init_sentence])\n",
    "    test_tensor = tf.convert_to_tensor(test_input, dtype=tf.int64)\n",
    "    end_token = tokenizer.word_index[\"<end>\"]\n",
    "    while True:\n",
    "        predict = model(test_tensor) \n",
    "        predict_word = tf.argmax(tf.nn.softmax(predict, axis=-1), axis=-1)[:, -1] \n",
    "        test_tensor = tf.concat([test_tensor, tf.expand_dims(predict_word, axis=0)], axis=-1)\n",
    "        if predict_word.numpy()[0] == end_token: break\n",
    "        if test_tensor.shape[1] >= max_len: break\n",
    "    generated = \"\"\n",
    "    for word_index in test_tensor[0].numpy():\n",
    "        generated += tokenizer.index_word[word_index] + \" \"\n",
    "    return generated"
   ]
  },
  {
   "cell_type": "code",
   "execution_count": null,
   "id": "0ae7e144",
   "metadata": {},
   "outputs": [],
   "source": [
    "generate_text(model, tokenizer, init_sentence=\"<start> i love\", max_len=20)"
   ]
  },
  {
   "cell_type": "markdown",
   "id": "588be86c",
   "metadata": {},
   "source": [
    "# 3. 회고"
   ]
  }
 ],
 "metadata": {
  "kernelspec": {
   "display_name": "Python 3 (ipykernel)",
   "language": "python",
   "name": "python3"
  },
  "language_info": {
   "codemirror_mode": {
    "name": "ipython",
    "version": 3
   },
   "file_extension": ".py",
   "mimetype": "text/x-python",
   "name": "python",
   "nbconvert_exporter": "python",
   "pygments_lexer": "ipython3",
   "version": "3.9.7"
  }
 },
 "nbformat": 4,
 "nbformat_minor": 5
}
