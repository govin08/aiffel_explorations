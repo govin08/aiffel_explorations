{
 "cells": [
  {
   "cell_type": "markdown",
   "id": "651d5b79",
   "metadata": {},
   "source": [
    "# 요약 : "
   ]
  },
  {
   "cell_type": "markdown",
   "id": "29c0bd9c",
   "metadata": {},
   "source": [
    " - **2.12. 프로젝트 1 : 당뇨병 수치 맞추기**\n",
    "   - `load_diabetes()`로 데이터를 불러왔습니다.\n",
    "   - 따로 전처리는 하지 않고, 각각의 sample들을 적당히 나누는 작업만을 시행하였고, 다음과 같은 네 개의 데이터 객체를 만들었습니다."
   ]
  },
  {
   "cell_type": "markdown",
   "id": "c44811e8",
   "metadata": {},
   "source": [
    "|데이터   |설명                     |shape    |dtype|\n",
    "|:-:      |:-:                      |:-:      |:-:|\n",
    "|`X_train`|training dataset, feature|(353, 10)|`np.array`|\n",
    "|`X_test` |test dataset, feature    |(89, 10) |`np.array`|\n",
    "|`y_train`|training dataset, label  |(353, )  |`np.array`|\n",
    "|`y_test` |test dataset, label      |(89, )   |`np.array`|"
   ]
  },
  {
   "cell_type": "markdown",
   "id": "4d6bc88e",
   "metadata": {},
   "source": [
    "   - feature들은 모두 10개로, 다음과 같습니다.\n",
    "   각각 해당 환자에 대한 여러가지 정보들을 의미합니다.\n",
    "      - `'age'`\n",
    "      - `'sex'`\n",
    "      - `'bmi'`\n",
    "      - `'s1'`\n",
    "      - `'s2'`\n",
    "      - `'s3'`\n",
    "      - `'s4'`\n",
    "      - `'s5'`\n",
    "      - `'s6'`\n",
    "   - label은 해당 환자의 당뇨병의 진행정도를 수치로 나타낸 값입니다. ([출처](https://www.kaggle.com/datasets/mathchi/diabetes-data-set))\n",
    "   이것에 대해 따로 이름은 붙여져 있지 않은 걸로 보였고, 임의로 `'disease progress'`라는 이름을 붙였습니다.\n",
    "      \n",
    "      - `'disease progress'`\n",
    "      \n",
    "   - 모델로서 affine function $y=wx+b$을 설정했습니다.\n",
    "   즉, 다변수 선형회귀 모델이고, $x$는 10차원의 벡터(열벡터), $w$는 10차원의 벡터(행벡터), $y$와 $b$는 실수값이라고 생각할 수 있습니다.\n",
    "   이것을 코드 상으로는 `y=XW+b`의 형태로 구현하는데, 353개의 sample $x$를 대입하여 353개의 예측값 $y$를 얻는 것이므로, (전체적으로 transpose되어 있다는 점을 고려하면) 똑같은 작용입니다.\n",
    "   - `MSE`, `loss`, `gradient` 등의 함수를 설정했습니다.\n",
    "   - `LEARNING_RATE`을 0.1로 설정하고, 'epoch 수'에 해당하는 값을 100,000으로 두어 학습을 진행했습니다.\n",
    "   학습에는 약 14초 정도가 소요되었습니다.\n",
    "   - **test dataset (`X_test`, `y_test`) 에 대한 손실함수(MSE)의 값을 계산하였습니다.\n",
    "   그 값은 약 `2992.5578`입니다.**\n",
    "   - `X_test`의 첫번째 feature에 대하여 `y_test`와 `predictions`에 대한 산점도 그래프를 그렸습니다.\n",
    "   이 문제는 단일변수의 선형회귀가 아닌 다변수의 선형회귀이므로, 단일변수의 선형회귀에서처럼 이 점들이 한 직선 위에 있을 필요는 없다고 보았습니다.\n",
    "   이것은 **예측결과 시각화**에 해당하고, **데이터개수 시각화**도 따로 진행했습니다."
   ]
  },
  {
   "cell_type": "markdown",
   "id": "8c71d5fe",
   "metadata": {},
   "source": [
    " - **2.13. 프로젝트 2 : 자전거 수요 맞추기**\n",
    "   - 주어진 경로에서 데이터 `train.csv`를 불러와 `bike_train`이라는 객체로 저장했습니다.\n",
    "   - 전처리 과정을 통해 유의미할 것으로 예상되는 feature들 12개를 만들어내었습니다.\n",
    "   다음은 feature들의 목록입니다.\n",
    "  \n",
    "      - `'year'`\n",
    "      - `'month'`\n",
    "      - `'day'`\n",
    "      - `'hour'`\n",
    "      - `'season'`\n",
    "      - `'holiday'`\n",
    "      - `'workingday'`\n",
    "      - `'weather'`\n",
    "      - `'temp'`\n",
    "      - `'atemp'`\n",
    "      - `'humidity'`\n",
    "      - '`windspeed'`\n",
    "   \n",
    "   - 한편, label에 해당하는 값은 해당 시간구간 동안 얼마나 많은 자전거를 빌려갔느냐를 센 값입니다.\n",
    "   이것을 `count`라고도 불렀습니다.\n",
    "      - `count`\n",
    "   \n",
    "   - 전처리 과정의 결과로 네 개의 데이터 객체를 만들었습니다."
   ]
  },
  {
   "cell_type": "markdown",
   "id": "8f961684",
   "metadata": {},
   "source": [
    "|데이터   |설명                     |shape     |dtype|\n",
    "|:-:      |:-:                      |:-:       |:-:|\n",
    "|`X_train`|training dataset, feature|(8708, 12)|`np.array`|\n",
    "|`X_test` |test dataset, feature    |(2178, 12)|`np.array`|\n",
    "|`y_train`|training dataset, label  |(8708, )  |`np.array`|\n",
    "|`y_test` |test dataset, label      |(2178, )  |`np.array`|"
   ]
  },
  {
   "cell_type": "markdown",
   "id": "7998a4ed",
   "metadata": {},
   "source": [
    "   - `sklearn`의 모듈 `sklearn.linear_model.LinearRegression`을 사용합니다.\n",
    "   즉, affine function $y=wx+b$라는 모델을 고려하되, testset에 가장 잘 맞는 `w`와 `b`를 계산합니다.\n",
    "   그러니까 이 때에 학습을 진행하는 것은 아닙니다.\n",
    "   [이곳](https://scikit-learn.org/stable/modules/generated/sklearn.linear_model.LinearRegression.html)의 설명에 따르면, 최소자승법(least square method)을 통해, 손실함수가 최솟값을 가지는 때의 벡터 `w`와 스칼라 `b`를 수치적으로 계산하는 것입니다.\n",
    "   - **test dataset (`X_test`, `y_test`) 에 대한 손실함수(RMSE)의 값을 계산하였습니다.\n",
    "   그 값은 약 `145.2337`입니다.**\n",
    "   - `X_test`의 여러 feature들 중 `temp`와 `humidity`를 종속변수로 삼아, 독립변수`y_test`와 `predictions`에 대해 각각 산점도 그래프를 그렸습니다.\n",
    "   이것은 **예측결과 시각화**에 해당하고, **데이터개수 시각화**도 따로 진행했습니다."
   ]
  },
  {
   "cell_type": "markdown",
   "id": "f2b9cd76",
   "metadata": {},
   "source": [
    "두 subproject 모두에서, markdown으로 설명을 적는 것은 최대한 피하였고, EDA 과정이나 테스트 과정에서 생긴 불필요한 셀들 또한 보이지 않게 했습니다.\n",
    "시간적 여유가 없기도 했거니와, 이것들을 표시하는 것이 결과적으로 전체 문서의 모습을 혼란스럽게 보이게 했기 때문입니다.\n",
    "그래서 요점이 되는 코드들만 적었습니다."
   ]
  },
  {
   "cell_type": "markdown",
   "id": "679c1521",
   "metadata": {},
   "source": [
    "## 2.12. 프로젝트 1 : 손수 설계하는 선형회귀, 당뇨병 수치를 맞춰보자!"
   ]
  },
  {
   "cell_type": "markdown",
   "id": "0222c17b",
   "metadata": {},
   "source": [
    "### (1) 데이터 가져오기"
   ]
  },
  {
   "cell_type": "code",
   "execution_count": 1,
   "id": "511bc981",
   "metadata": {},
   "outputs": [],
   "source": [
    "import numpy as np\n",
    "import pandas as pd\n",
    "import matplotlib.pyplot as plt\n",
    "\n",
    "from sklearn.datasets import load_diabetes\n",
    "from sklearn.model_selection import train_test_split"
   ]
  },
  {
   "cell_type": "code",
   "execution_count": 2,
   "id": "5d1680e3",
   "metadata": {},
   "outputs": [],
   "source": [
    "diabetes = load_diabetes()"
   ]
  },
  {
   "cell_type": "code",
   "execution_count": 3,
   "id": "d2d2c405",
   "metadata": {},
   "outputs": [],
   "source": [
    "diabetes_data = diabetes.data\n",
    "diabetes_label = diabetes.target"
   ]
  },
  {
   "cell_type": "code",
   "execution_count": 4,
   "id": "3eb7a3cf",
   "metadata": {},
   "outputs": [
    {
     "name": "stdout",
     "output_type": "stream",
     "text": [
      "<class 'numpy.ndarray'>\n",
      "(442, 10)\n",
      "[ 0.03807591  0.05068012  0.06169621  0.02187235 -0.0442235  -0.03482076\n",
      " -0.04340085 -0.00259226  0.01990842 -0.01764613]\n"
     ]
    }
   ],
   "source": [
    "print(type(diabetes_data))\n",
    "print(diabetes_data.shape)\n",
    "print(diabetes_data[0])"
   ]
  },
  {
   "cell_type": "code",
   "execution_count": 5,
   "id": "09ee63be",
   "metadata": {},
   "outputs": [
    {
     "name": "stdout",
     "output_type": "stream",
     "text": [
      "<class 'numpy.ndarray'>\n",
      "(442,)\n",
      "151.0\n"
     ]
    }
   ],
   "source": [
    "print(type(diabetes_label))\n",
    "print(diabetes_label.shape)\n",
    "print(diabetes_label[0])"
   ]
  },
  {
   "cell_type": "markdown",
   "id": "0d29714d",
   "metadata": {},
   "source": [
    "### (2) 모델에 입력할 데이터 X 준비하기"
   ]
  },
  {
   "cell_type": "code",
   "execution_count": 6,
   "id": "0dfc2191",
   "metadata": {
    "scrolled": true
   },
   "outputs": [
    {
     "data": {
      "text/html": [
       "<div>\n",
       "<style scoped>\n",
       "    .dataframe tbody tr th:only-of-type {\n",
       "        vertical-align: middle;\n",
       "    }\n",
       "\n",
       "    .dataframe tbody tr th {\n",
       "        vertical-align: top;\n",
       "    }\n",
       "\n",
       "    .dataframe thead th {\n",
       "        text-align: right;\n",
       "    }\n",
       "</style>\n",
       "<table border=\"1\" class=\"dataframe\">\n",
       "  <thead>\n",
       "    <tr style=\"text-align: right;\">\n",
       "      <th></th>\n",
       "      <th>age</th>\n",
       "      <th>sex</th>\n",
       "      <th>bmi</th>\n",
       "      <th>bp</th>\n",
       "      <th>s1</th>\n",
       "      <th>s2</th>\n",
       "      <th>s3</th>\n",
       "      <th>s4</th>\n",
       "      <th>s5</th>\n",
       "      <th>s6</th>\n",
       "    </tr>\n",
       "  </thead>\n",
       "  <tbody>\n",
       "    <tr>\n",
       "      <th>0</th>\n",
       "      <td>0.038076</td>\n",
       "      <td>0.050680</td>\n",
       "      <td>0.061696</td>\n",
       "      <td>0.021872</td>\n",
       "      <td>-0.044223</td>\n",
       "      <td>-0.034821</td>\n",
       "      <td>-0.043401</td>\n",
       "      <td>-0.002592</td>\n",
       "      <td>0.019908</td>\n",
       "      <td>-0.017646</td>\n",
       "    </tr>\n",
       "    <tr>\n",
       "      <th>1</th>\n",
       "      <td>-0.001882</td>\n",
       "      <td>-0.044642</td>\n",
       "      <td>-0.051474</td>\n",
       "      <td>-0.026328</td>\n",
       "      <td>-0.008449</td>\n",
       "      <td>-0.019163</td>\n",
       "      <td>0.074412</td>\n",
       "      <td>-0.039493</td>\n",
       "      <td>-0.068330</td>\n",
       "      <td>-0.092204</td>\n",
       "    </tr>\n",
       "    <tr>\n",
       "      <th>2</th>\n",
       "      <td>0.085299</td>\n",
       "      <td>0.050680</td>\n",
       "      <td>0.044451</td>\n",
       "      <td>-0.005671</td>\n",
       "      <td>-0.045599</td>\n",
       "      <td>-0.034194</td>\n",
       "      <td>-0.032356</td>\n",
       "      <td>-0.002592</td>\n",
       "      <td>0.002864</td>\n",
       "      <td>-0.025930</td>\n",
       "    </tr>\n",
       "    <tr>\n",
       "      <th>3</th>\n",
       "      <td>-0.089063</td>\n",
       "      <td>-0.044642</td>\n",
       "      <td>-0.011595</td>\n",
       "      <td>-0.036656</td>\n",
       "      <td>0.012191</td>\n",
       "      <td>0.024991</td>\n",
       "      <td>-0.036038</td>\n",
       "      <td>0.034309</td>\n",
       "      <td>0.022692</td>\n",
       "      <td>-0.009362</td>\n",
       "    </tr>\n",
       "    <tr>\n",
       "      <th>4</th>\n",
       "      <td>0.005383</td>\n",
       "      <td>-0.044642</td>\n",
       "      <td>-0.036385</td>\n",
       "      <td>0.021872</td>\n",
       "      <td>0.003935</td>\n",
       "      <td>0.015596</td>\n",
       "      <td>0.008142</td>\n",
       "      <td>-0.002592</td>\n",
       "      <td>-0.031991</td>\n",
       "      <td>-0.046641</td>\n",
       "    </tr>\n",
       "    <tr>\n",
       "      <th>...</th>\n",
       "      <td>...</td>\n",
       "      <td>...</td>\n",
       "      <td>...</td>\n",
       "      <td>...</td>\n",
       "      <td>...</td>\n",
       "      <td>...</td>\n",
       "      <td>...</td>\n",
       "      <td>...</td>\n",
       "      <td>...</td>\n",
       "      <td>...</td>\n",
       "    </tr>\n",
       "    <tr>\n",
       "      <th>437</th>\n",
       "      <td>0.041708</td>\n",
       "      <td>0.050680</td>\n",
       "      <td>0.019662</td>\n",
       "      <td>0.059744</td>\n",
       "      <td>-0.005697</td>\n",
       "      <td>-0.002566</td>\n",
       "      <td>-0.028674</td>\n",
       "      <td>-0.002592</td>\n",
       "      <td>0.031193</td>\n",
       "      <td>0.007207</td>\n",
       "    </tr>\n",
       "    <tr>\n",
       "      <th>438</th>\n",
       "      <td>-0.005515</td>\n",
       "      <td>0.050680</td>\n",
       "      <td>-0.015906</td>\n",
       "      <td>-0.067642</td>\n",
       "      <td>0.049341</td>\n",
       "      <td>0.079165</td>\n",
       "      <td>-0.028674</td>\n",
       "      <td>0.034309</td>\n",
       "      <td>-0.018118</td>\n",
       "      <td>0.044485</td>\n",
       "    </tr>\n",
       "    <tr>\n",
       "      <th>439</th>\n",
       "      <td>0.041708</td>\n",
       "      <td>0.050680</td>\n",
       "      <td>-0.015906</td>\n",
       "      <td>0.017282</td>\n",
       "      <td>-0.037344</td>\n",
       "      <td>-0.013840</td>\n",
       "      <td>-0.024993</td>\n",
       "      <td>-0.011080</td>\n",
       "      <td>-0.046879</td>\n",
       "      <td>0.015491</td>\n",
       "    </tr>\n",
       "    <tr>\n",
       "      <th>440</th>\n",
       "      <td>-0.045472</td>\n",
       "      <td>-0.044642</td>\n",
       "      <td>0.039062</td>\n",
       "      <td>0.001215</td>\n",
       "      <td>0.016318</td>\n",
       "      <td>0.015283</td>\n",
       "      <td>-0.028674</td>\n",
       "      <td>0.026560</td>\n",
       "      <td>0.044528</td>\n",
       "      <td>-0.025930</td>\n",
       "    </tr>\n",
       "    <tr>\n",
       "      <th>441</th>\n",
       "      <td>-0.045472</td>\n",
       "      <td>-0.044642</td>\n",
       "      <td>-0.073030</td>\n",
       "      <td>-0.081414</td>\n",
       "      <td>0.083740</td>\n",
       "      <td>0.027809</td>\n",
       "      <td>0.173816</td>\n",
       "      <td>-0.039493</td>\n",
       "      <td>-0.004220</td>\n",
       "      <td>0.003064</td>\n",
       "    </tr>\n",
       "  </tbody>\n",
       "</table>\n",
       "<p>442 rows × 10 columns</p>\n",
       "</div>"
      ],
      "text/plain": [
       "          age       sex       bmi        bp        s1        s2        s3  \\\n",
       "0    0.038076  0.050680  0.061696  0.021872 -0.044223 -0.034821 -0.043401   \n",
       "1   -0.001882 -0.044642 -0.051474 -0.026328 -0.008449 -0.019163  0.074412   \n",
       "2    0.085299  0.050680  0.044451 -0.005671 -0.045599 -0.034194 -0.032356   \n",
       "3   -0.089063 -0.044642 -0.011595 -0.036656  0.012191  0.024991 -0.036038   \n",
       "4    0.005383 -0.044642 -0.036385  0.021872  0.003935  0.015596  0.008142   \n",
       "..        ...       ...       ...       ...       ...       ...       ...   \n",
       "437  0.041708  0.050680  0.019662  0.059744 -0.005697 -0.002566 -0.028674   \n",
       "438 -0.005515  0.050680 -0.015906 -0.067642  0.049341  0.079165 -0.028674   \n",
       "439  0.041708  0.050680 -0.015906  0.017282 -0.037344 -0.013840 -0.024993   \n",
       "440 -0.045472 -0.044642  0.039062  0.001215  0.016318  0.015283 -0.028674   \n",
       "441 -0.045472 -0.044642 -0.073030 -0.081414  0.083740  0.027809  0.173816   \n",
       "\n",
       "           s4        s5        s6  \n",
       "0   -0.002592  0.019908 -0.017646  \n",
       "1   -0.039493 -0.068330 -0.092204  \n",
       "2   -0.002592  0.002864 -0.025930  \n",
       "3    0.034309  0.022692 -0.009362  \n",
       "4   -0.002592 -0.031991 -0.046641  \n",
       "..        ...       ...       ...  \n",
       "437 -0.002592  0.031193  0.007207  \n",
       "438  0.034309 -0.018118  0.044485  \n",
       "439 -0.011080 -0.046879  0.015491  \n",
       "440  0.026560  0.044528 -0.025930  \n",
       "441 -0.039493 -0.004220  0.003064  \n",
       "\n",
       "[442 rows x 10 columns]"
      ]
     },
     "execution_count": 6,
     "metadata": {},
     "output_type": "execute_result"
    }
   ],
   "source": [
    "df_X = pd.DataFrame(diabetes_data, columns=diabetes.feature_names)\n",
    "df_X"
   ]
  },
  {
   "cell_type": "code",
   "execution_count": 7,
   "id": "9f228467",
   "metadata": {},
   "outputs": [],
   "source": [
    "X = df_X.to_numpy()"
   ]
  },
  {
   "cell_type": "markdown",
   "id": "1f564d8d",
   "metadata": {},
   "source": [
    "### (3) 모델에 입력할 데이터 y 준비하기"
   ]
  },
  {
   "cell_type": "code",
   "execution_count": 8,
   "id": "9a31e00c",
   "metadata": {},
   "outputs": [],
   "source": [
    "df_y = pd.DataFrame(diabetes_label, columns=['disease progress'])"
   ]
  },
  {
   "cell_type": "code",
   "execution_count": 9,
   "id": "e31e1579",
   "metadata": {},
   "outputs": [],
   "source": [
    "y = df_y.to_numpy().flatten()"
   ]
  },
  {
   "cell_type": "code",
   "execution_count": 10,
   "id": "645744b6",
   "metadata": {},
   "outputs": [
    {
     "name": "stdout",
     "output_type": "stream",
     "text": [
      "(442, 10)\n",
      "(442,)\n"
     ]
    }
   ],
   "source": [
    "print(X.shape)\n",
    "print(y.shape)"
   ]
  },
  {
   "cell_type": "code",
   "execution_count": 56,
   "id": "0e33db4f",
   "metadata": {},
   "outputs": [
    {
     "data": {
      "text/plain": [
       "Text(0.5, 1.0, 'bp')"
      ]
     },
     "execution_count": 56,
     "metadata": {},
     "output_type": "execute_result"
    },
    {
     "data": {
      "image/png": "[encoded data removed]",
      "text/plain": [
       "<Figure size 720x360 with 4 Axes>"
      ]
     },
     "metadata": {
      "needs_background": "light"
     },
     "output_type": "display_data"
    }
   ],
   "source": [
    "fig, axes = plt.subplots(2, 2, figsize=(10, 5))\n",
    "\n",
    "fig.suptitle('counts for four features')\n",
    "\n",
    "sns.countplot(ax=axes[0,0], x='age', data = df_X)\n",
    "axes[0,0].set_title('age')\n",
    "sns.countplot(ax=axes[0,1], x='sex', data = df_X)\n",
    "axes[0,1].set_title('sex')\n",
    "sns.countplot(ax=axes[1,0], x='bmi', data = df_X)\n",
    "axes[1,0].set_title('bmi')\n",
    "sns.countplot(ax=axes[1,1], x='bp', data = df_X)\n",
    "axes[1,1].set_title('bp')"
   ]
  },
  {
   "cell_type": "markdown",
   "id": "c91b7a99",
   "metadata": {},
   "source": [
    "### (4) train 데이터와 test 데이터로 분리하기"
   ]
  },
  {
   "cell_type": "code",
   "execution_count": 11,
   "id": "efef8b91",
   "metadata": {},
   "outputs": [
    {
     "name": "stdout",
     "output_type": "stream",
     "text": [
      "(353, 10) (353,)\n",
      "(89, 10) (89,)\n"
     ]
    }
   ],
   "source": [
    "X_train, X_test, y_train, y_test = train_test_split(X, y, test_size=0.2, random_state=1)\n",
    "\n",
    "print(X_train.shape, y_train.shape)\n",
    "print(X_test.shape, y_test.shape)"
   ]
  },
  {
   "cell_type": "code",
   "execution_count": 12,
   "id": "e99abedf",
   "metadata": {},
   "outputs": [
    {
     "name": "stdout",
     "output_type": "stream",
     "text": [
      "(353, 10)\n",
      "(89, 10)\n",
      "(353,)\n",
      "(89,)\n"
     ]
    }
   ],
   "source": [
    "print(X_train.shape)\n",
    "print(X_test.shape)\n",
    "print(y_train.shape)\n",
    "print(y_test.shape)"
   ]
  },
  {
   "cell_type": "markdown",
   "id": "3874543b",
   "metadata": {},
   "source": [
    "### (5) 모델 준비하기"
   ]
  },
  {
   "cell_type": "code",
   "execution_count": 13,
   "id": "de1c13ec",
   "metadata": {},
   "outputs": [],
   "source": [
    "W = np.random.rand(10)\n",
    "b = np.random.rand()"
   ]
  },
  {
   "cell_type": "code",
   "execution_count": 14,
   "id": "5534ec3b",
   "metadata": {},
   "outputs": [],
   "source": [
    "def model(X, W, b):\n",
    "    predictions = 0\n",
    "    for i in range(len(W)):\n",
    "        predictions += X[:, i] * W[i]\n",
    "    predictions += b\n",
    "    return predictions"
   ]
  },
  {
   "cell_type": "markdown",
   "id": "1848ce34",
   "metadata": {},
   "source": [
    "### (6) 손실함수 loss 정의하기"
   ]
  },
  {
   "cell_type": "code",
   "execution_count": 15,
   "id": "befd6295",
   "metadata": {},
   "outputs": [],
   "source": [
    "def MSE(a, b):\n",
    "    mse = ((a - b) ** 2).mean()\n",
    "    return mse"
   ]
  },
  {
   "cell_type": "code",
   "execution_count": 16,
   "id": "b50a8fc8",
   "metadata": {},
   "outputs": [],
   "source": [
    "def loss(X, W, b, y):\n",
    "    predictions = model(X, W, b)\n",
    "    L = MSE(predictions, y)\n",
    "    return L"
   ]
  },
  {
   "cell_type": "markdown",
   "id": "11b9c82f",
   "metadata": {},
   "source": [
    "### (7) 기울기를 구하는 gradient 함수 구현하기"
   ]
  },
  {
   "cell_type": "code",
   "execution_count": 17,
   "id": "dae6b63e",
   "metadata": {},
   "outputs": [],
   "source": [
    "def gradient(X, W, b, y):\n",
    "    N = len(W)\n",
    "    y_pred = model(X, W, b)\n",
    "    dW = 1/N * 2 * X.T.dot(y_pred - y)\n",
    "    db = 2 * (y_pred - y).mean()\n",
    "    return dW, db"
   ]
  },
  {
   "cell_type": "code",
   "execution_count": 18,
   "id": "76f03ea9",
   "metadata": {},
   "outputs": [
    {
     "name": "stdout",
     "output_type": "stream",
     "text": [
      "dW: [ -51.2099464    -0.19123764 -177.91086503 -126.82220788  -61.38117874\n",
      "  -48.78222207  114.36662623 -126.19668949 -160.11416513 -121.33108656]\n",
      "db: -305.9639831802238\n"
     ]
    }
   ],
   "source": [
    "dW, db = gradient(X_train, W, b, y_train)\n",
    "print(\"dW:\", dW)\n",
    "print(\"db:\", db)"
   ]
  },
  {
   "cell_type": "markdown",
   "id": "fa23152f",
   "metadata": {},
   "source": [
    "### (8) 하이퍼 파라미터인 학습률 설정하기"
   ]
  },
  {
   "cell_type": "code",
   "execution_count": 19,
   "id": "43b17746",
   "metadata": {},
   "outputs": [],
   "source": [
    "LEARNING_RATE = 0.1"
   ]
  },
  {
   "cell_type": "markdown",
   "id": "491eab50",
   "metadata": {},
   "source": [
    "### (9) 모델 학습하기"
   ]
  },
  {
   "cell_type": "code",
   "execution_count": 20,
   "id": "d2a26bc2",
   "metadata": {},
   "outputs": [
    {
     "name": "stdout",
     "output_type": "stream",
     "text": [
      "Iteration 10000 : Loss 2835.7781\n",
      "Iteration 20000 : Loss 2835.0821\n",
      "Iteration 30000 : Loss 2835.0384\n",
      "Iteration 40000 : Loss 2835.0357\n",
      "Iteration 50000 : Loss 2835.0355\n",
      "Iteration 60000 : Loss 2835.0355\n",
      "Iteration 70000 : Loss 2835.0355\n",
      "Iteration 80000 : Loss 2835.0355\n",
      "Iteration 90000 : Loss 2835.0355\n",
      "13.29807\n"
     ]
    }
   ],
   "source": [
    "import time\n",
    "\n",
    "start = time.perf_counter()\n",
    "\n",
    "losses = []\n",
    "\n",
    "n_epoch = 100000\n",
    "\n",
    "for i in range(1, n_epoch):\n",
    "    dW, db = gradient(X_train, W, b, y_train)\n",
    "    W = W - LEARNING_RATE * dW\n",
    "    b -= LEARNING_RATE * db\n",
    "    L = loss(X_train, W, b, y_train)\n",
    "    losses.append(L)\n",
    "    if i % 10000 == 0:\n",
    "        print('Iteration %d : Loss %0.4f' % (i, L))\n",
    "\n",
    "end = time.perf_counter()\n",
    "\n",
    "print(f'{end-start:.5f}')"
   ]
  },
  {
   "cell_type": "code",
   "execution_count": 21,
   "id": "a57f227d",
   "metadata": {},
   "outputs": [
    {
     "name": "stdout",
     "output_type": "stream",
     "text": [
      "2835.0355260719866\n"
     ]
    }
   ],
   "source": [
    "print(losses[-1])"
   ]
  },
  {
   "cell_type": "code",
   "execution_count": 22,
   "id": "f310217a",
   "metadata": {
    "scrolled": true
   },
   "outputs": [
    {
     "data": {
      "image/png": "[encoded data removed]",
      "text/plain": [
       "<Figure size 432x288 with 1 Axes>"
      ]
     },
     "metadata": {
      "needs_background": "light"
     },
     "output_type": "display_data"
    }
   ],
   "source": [
    "import matplotlib.pyplot as plt\n",
    "plt.plot(losses)\n",
    "plt.show()"
   ]
  },
  {
   "cell_type": "code",
   "execution_count": 23,
   "id": "baa564cc",
   "metadata": {
    "scrolled": true
   },
   "outputs": [
    {
     "data": {
      "text/plain": [
       "(array([ -30.62168293, -272.25451421,  528.84444912,  327.70268652,\n",
       "        -581.01359329,  332.96244519,  -27.97630891,  139.2844124 ,\n",
       "         665.07501089,   61.90596641]),\n",
       " 151.43006888196703)"
      ]
     },
     "execution_count": 23,
     "metadata": {},
     "output_type": "execute_result"
    }
   ],
   "source": [
    "W, b"
   ]
  },
  {
   "cell_type": "markdown",
   "id": "48fd1316",
   "metadata": {},
   "source": [
    "### (10) test 데이터에 대한 성능 확인하기"
   ]
  },
  {
   "cell_type": "code",
   "execution_count": 24,
   "id": "49c6268f",
   "metadata": {},
   "outputs": [
    {
     "data": {
      "text/plain": [
       "2992.557729054969"
      ]
     },
     "execution_count": 24,
     "metadata": {},
     "output_type": "execute_result"
    }
   ],
   "source": [
    "prediction = model(X_test, W, b)\n",
    "mse = loss(X_test, W, b, y_test)\n",
    "mse"
   ]
  },
  {
   "cell_type": "markdown",
   "id": "7fa9d6a7",
   "metadata": {},
   "source": [
    "### (11) 정답 데이터와 예측한 데이터 시각화하기"
   ]
  },
  {
   "cell_type": "code",
   "execution_count": 25,
   "id": "45cf7410",
   "metadata": {
    "scrolled": true
   },
   "outputs": [
    {
     "data": {
      "image/png": "[encoded data removed]",
      "text/plain": [
       "<Figure size 432x288 with 1 Axes>"
      ]
     },
     "metadata": {
      "needs_background": "light"
     },
     "output_type": "display_data"
    }
   ],
   "source": [
    "plt.scatter(X_test[:, 0], y_test)\n",
    "plt.scatter(X_test[:, 0], prediction)\n",
    "plt.show()"
   ]
  },
  {
   "cell_type": "markdown",
   "id": "6ece8b82",
   "metadata": {},
   "source": [
    "## 2.13. 프로젝트 2 : 날씨 좋은 월요일 오후 세 시, 자전거 타는 사람은 몇 명?"
   ]
  },
  {
   "cell_type": "code",
   "execution_count": 26,
   "id": "db166b27",
   "metadata": {},
   "outputs": [],
   "source": [
    "import numpy as np\n",
    "import pandas as pd\n",
    "import matplotlib.pyplot as plt\n",
    "import seaborn as sns\n",
    "from sklearn.model_selection import train_test_split\n",
    "from sklearn.linear_model import LinearRegression\n",
    "from sklearn.metrics import mean_squared_error"
   ]
  },
  {
   "cell_type": "markdown",
   "id": "e6b907b0",
   "metadata": {},
   "source": [
    "### (1) 데이터 가져오기"
   ]
  },
  {
   "cell_type": "code",
   "execution_count": 27,
   "id": "177d6430",
   "metadata": {},
   "outputs": [],
   "source": [
    "bike_train = pd.read_csv('../../../data/data/bike-sharing-demand/train.csv')\n",
    "bike_test  = pd.read_csv('../../../data/data/bike-sharing-demand/test.csv')"
   ]
  },
  {
   "cell_type": "code",
   "execution_count": 28,
   "id": "e807e8ac",
   "metadata": {},
   "outputs": [
    {
     "name": "stdout",
     "output_type": "stream",
     "text": [
      "<class 'pandas.core.frame.DataFrame'>\n",
      "(10886, 12)\n"
     ]
    }
   ],
   "source": [
    "print(type(bike_train))\n",
    "print(bike_train.shape)"
   ]
  },
  {
   "cell_type": "code",
   "execution_count": 29,
   "id": "8a8a330b",
   "metadata": {
    "scrolled": true
   },
   "outputs": [
    {
     "name": "stdout",
     "output_type": "stream",
     "text": [
      "4    2734\n",
      "2    2733\n",
      "3    2733\n",
      "1    2686\n",
      "Name: season, dtype: int64\n",
      "0    10575\n",
      "1      311\n",
      "Name: holiday, dtype: int64\n",
      "1    7412\n",
      "0    3474\n",
      "Name: workingday, dtype: int64\n",
      "1    7192\n",
      "2    2834\n",
      "3     859\n",
      "4       1\n",
      "Name: weather, dtype: int64\n"
     ]
    }
   ],
   "source": [
    "print(bike_train['season'].value_counts())\n",
    "print(bike_train['holiday'].value_counts())\n",
    "print(bike_train['workingday'].value_counts())\n",
    "print(bike_train['weather'].value_counts())"
   ]
  },
  {
   "cell_type": "markdown",
   "id": "7c7b2644",
   "metadata": {},
   "source": [
    "### (2) `datetime` 컬럼을 `datetime` 자료형으로 변환하고 연, 월, 일, 시, 분, 초까지 6가지 컬럼 생성하기"
   ]
  },
  {
   "cell_type": "code",
   "execution_count": 30,
   "id": "afd8fcb6",
   "metadata": {
    "scrolled": true
   },
   "outputs": [
    {
     "data": {
      "text/html": [
       "<div>\n",
       "<style scoped>\n",
       "    .dataframe tbody tr th:only-of-type {\n",
       "        vertical-align: middle;\n",
       "    }\n",
       "\n",
       "    .dataframe tbody tr th {\n",
       "        vertical-align: top;\n",
       "    }\n",
       "\n",
       "    .dataframe thead th {\n",
       "        text-align: right;\n",
       "    }\n",
       "</style>\n",
       "<table border=\"1\" class=\"dataframe\">\n",
       "  <thead>\n",
       "    <tr style=\"text-align: right;\">\n",
       "      <th></th>\n",
       "      <th>year</th>\n",
       "      <th>month</th>\n",
       "      <th>day</th>\n",
       "      <th>hour</th>\n",
       "      <th>minute</th>\n",
       "      <th>second</th>\n",
       "      <th>season</th>\n",
       "      <th>holiday</th>\n",
       "      <th>workingday</th>\n",
       "      <th>weather</th>\n",
       "      <th>temp</th>\n",
       "      <th>atemp</th>\n",
       "      <th>humidity</th>\n",
       "      <th>windspeed</th>\n",
       "      <th>count</th>\n",
       "    </tr>\n",
       "  </thead>\n",
       "  <tbody>\n",
       "    <tr>\n",
       "      <th>0</th>\n",
       "      <td>2011</td>\n",
       "      <td>1</td>\n",
       "      <td>1</td>\n",
       "      <td>0</td>\n",
       "      <td>0</td>\n",
       "      <td>0</td>\n",
       "      <td>1</td>\n",
       "      <td>0</td>\n",
       "      <td>0</td>\n",
       "      <td>1</td>\n",
       "      <td>9.84</td>\n",
       "      <td>14.395</td>\n",
       "      <td>81</td>\n",
       "      <td>0.0</td>\n",
       "      <td>16</td>\n",
       "    </tr>\n",
       "    <tr>\n",
       "      <th>1</th>\n",
       "      <td>2011</td>\n",
       "      <td>1</td>\n",
       "      <td>1</td>\n",
       "      <td>1</td>\n",
       "      <td>0</td>\n",
       "      <td>0</td>\n",
       "      <td>1</td>\n",
       "      <td>0</td>\n",
       "      <td>0</td>\n",
       "      <td>1</td>\n",
       "      <td>9.02</td>\n",
       "      <td>13.635</td>\n",
       "      <td>80</td>\n",
       "      <td>0.0</td>\n",
       "      <td>40</td>\n",
       "    </tr>\n",
       "    <tr>\n",
       "      <th>2</th>\n",
       "      <td>2011</td>\n",
       "      <td>1</td>\n",
       "      <td>1</td>\n",
       "      <td>2</td>\n",
       "      <td>0</td>\n",
       "      <td>0</td>\n",
       "      <td>1</td>\n",
       "      <td>0</td>\n",
       "      <td>0</td>\n",
       "      <td>1</td>\n",
       "      <td>9.02</td>\n",
       "      <td>13.635</td>\n",
       "      <td>80</td>\n",
       "      <td>0.0</td>\n",
       "      <td>32</td>\n",
       "    </tr>\n",
       "    <tr>\n",
       "      <th>3</th>\n",
       "      <td>2011</td>\n",
       "      <td>1</td>\n",
       "      <td>1</td>\n",
       "      <td>3</td>\n",
       "      <td>0</td>\n",
       "      <td>0</td>\n",
       "      <td>1</td>\n",
       "      <td>0</td>\n",
       "      <td>0</td>\n",
       "      <td>1</td>\n",
       "      <td>9.84</td>\n",
       "      <td>14.395</td>\n",
       "      <td>75</td>\n",
       "      <td>0.0</td>\n",
       "      <td>13</td>\n",
       "    </tr>\n",
       "    <tr>\n",
       "      <th>4</th>\n",
       "      <td>2011</td>\n",
       "      <td>1</td>\n",
       "      <td>1</td>\n",
       "      <td>4</td>\n",
       "      <td>0</td>\n",
       "      <td>0</td>\n",
       "      <td>1</td>\n",
       "      <td>0</td>\n",
       "      <td>0</td>\n",
       "      <td>1</td>\n",
       "      <td>9.84</td>\n",
       "      <td>14.395</td>\n",
       "      <td>75</td>\n",
       "      <td>0.0</td>\n",
       "      <td>1</td>\n",
       "    </tr>\n",
       "  </tbody>\n",
       "</table>\n",
       "</div>"
      ],
      "text/plain": [
       "   year  month  day  hour  minute  second  season  holiday  workingday  \\\n",
       "0  2011      1    1     0       0       0       1        0           0   \n",
       "1  2011      1    1     1       0       0       1        0           0   \n",
       "2  2011      1    1     2       0       0       1        0           0   \n",
       "3  2011      1    1     3       0       0       1        0           0   \n",
       "4  2011      1    1     4       0       0       1        0           0   \n",
       "\n",
       "   weather  temp   atemp  humidity  windspeed  count  \n",
       "0        1  9.84  14.395        81        0.0     16  \n",
       "1        1  9.02  13.635        80        0.0     40  \n",
       "2        1  9.02  13.635        80        0.0     32  \n",
       "3        1  9.84  14.395        75        0.0     13  \n",
       "4        1  9.84  14.395        75        0.0      1  "
      ]
     },
     "execution_count": 30,
     "metadata": {},
     "output_type": "execute_result"
    }
   ],
   "source": [
    "bike_train['year'] = pd.DatetimeIndex(bike_train['datetime']).year\n",
    "bike_train['month'] = pd.DatetimeIndex(bike_train['datetime']).month\n",
    "bike_train['day'] = pd.DatetimeIndex(bike_train['datetime']).day\n",
    "bike_train['hour'] = pd.DatetimeIndex(bike_train['datetime']).hour\n",
    "bike_train['minute'] = pd.DatetimeIndex(bike_train['datetime']).minute\n",
    "bike_train['second'] = pd.DatetimeIndex(bike_train['datetime']).second\n",
    "bike_train = bike_train[['year', 'month', 'day', 'hour','minute','second',\n",
    "                        'season','holiday','workingday','weather','temp',\n",
    "                        'atemp','humidity','windspeed','count']]\n",
    "bike_train.head()"
   ]
  },
  {
   "cell_type": "code",
   "execution_count": 31,
   "id": "19c43672",
   "metadata": {},
   "outputs": [
    {
     "data": {
      "text/plain": [
       "(10886, 15)"
      ]
     },
     "execution_count": 31,
     "metadata": {},
     "output_type": "execute_result"
    }
   ],
   "source": [
    "bike_train.shape"
   ]
  },
  {
   "cell_type": "markdown",
   "id": "c4fbaa27",
   "metadata": {},
   "source": [
    "### (3) year, month, day, hour, minute, second 데이터 개수 시각화하기"
   ]
  },
  {
   "cell_type": "code",
   "execution_count": 32,
   "id": "50e25854",
   "metadata": {},
   "outputs": [
    {
     "data": {
      "text/plain": [
       "Text(0.5, 1.0, 'second')"
      ]
     },
     "execution_count": 32,
     "metadata": {},
     "output_type": "execute_result"
    },
    {
     "data": {
      "image/png": "[encoded data removed]",
      "text/plain": [
       "<Figure size 1296x720 with 6 Axes>"
      ]
     },
     "metadata": {
      "needs_background": "light"
     },
     "output_type": "display_data"
    }
   ],
   "source": [
    "fig, axes = plt.subplots(2, 3, figsize=(18, 10))\n",
    "\n",
    "fig.suptitle('counts for six types of time data')\n",
    "\n",
    "sns.countplot(ax=axes[0,0], x='year', data = bike_train)\n",
    "axes[0,0].set_title('year')\n",
    "sns.countplot(ax=axes[0,1], x='month', data = bike_train)\n",
    "axes[0,1].set_title('month')\n",
    "sns.countplot(ax=axes[0,2], x='day', data = bike_train)\n",
    "axes[0,2].set_title('day')\n",
    "sns.countplot(ax=axes[1,0], x='hour', data = bike_train)\n",
    "axes[1,0].set_title('hour')\n",
    "sns.countplot(ax=axes[1,1], x='minute', data = bike_train)\n",
    "axes[1,1].set_title('minute')\n",
    "sns.countplot(ax=axes[1,2], x='second', data = bike_train)\n",
    "axes[1,2].set_title('second')"
   ]
  },
  {
   "cell_type": "markdown",
   "id": "b4719acd",
   "metadata": {},
   "source": [
    "### (4) X, y 컬럼 선택 및 train/test 데이터 분리"
   ]
  },
  {
   "cell_type": "code",
   "execution_count": 33,
   "id": "6c99aa3c",
   "metadata": {},
   "outputs": [
    {
     "data": {
      "text/plain": [
       "Index(['year', 'month', 'day', 'hour', 'minute', 'second', 'season', 'holiday',\n",
       "       'workingday', 'weather', 'temp', 'atemp', 'humidity', 'windspeed',\n",
       "       'count'],\n",
       "      dtype='object')"
      ]
     },
     "execution_count": 33,
     "metadata": {},
     "output_type": "execute_result"
    }
   ],
   "source": [
    "bike_train.columns"
   ]
  },
  {
   "cell_type": "code",
   "execution_count": 34,
   "id": "180c15f6",
   "metadata": {},
   "outputs": [],
   "source": [
    "X = bike_train[['year', 'month', 'day', 'hour', 'season', 'holiday', 'workingday',\n",
    "                      'weather','temp','atemp','humidity','windspeed']].values\n",
    "y = bike_train['count'].values"
   ]
  },
  {
   "cell_type": "code",
   "execution_count": 35,
   "id": "70a9646d",
   "metadata": {},
   "outputs": [
    {
     "name": "stdout",
     "output_type": "stream",
     "text": [
      "<class 'numpy.ndarray'>\n",
      "<class 'numpy.ndarray'>\n",
      "(10886, 12)\n",
      "(10886,)\n"
     ]
    }
   ],
   "source": [
    "print(type(X))\n",
    "print(type(y))\n",
    "print(X.shape)\n",
    "print(y.shape)"
   ]
  },
  {
   "cell_type": "code",
   "execution_count": 36,
   "id": "11c0d7a8",
   "metadata": {},
   "outputs": [],
   "source": [
    "X_train, X_test, y_train, y_test = train_test_split(X, y, test_size=0.2, random_state=1)"
   ]
  },
  {
   "cell_type": "code",
   "execution_count": 37,
   "id": "70864cd2",
   "metadata": {},
   "outputs": [
    {
     "name": "stdout",
     "output_type": "stream",
     "text": [
      "<class 'numpy.ndarray'>\n",
      "(8708, 12)\n",
      "<class 'numpy.ndarray'>\n",
      "(2178, 12)\n",
      "<class 'numpy.ndarray'>\n",
      "(8708,)\n",
      "<class 'numpy.ndarray'>\n",
      "(2178,)\n"
     ]
    }
   ],
   "source": [
    "print(type(X_train))\n",
    "print(X_train.shape)\n",
    "print(type(X_test))\n",
    "print(X_test.shape)\n",
    "print(type(y_train))\n",
    "print(y_train.shape)\n",
    "print(type(y_test))\n",
    "print(y_test.shape)"
   ]
  },
  {
   "cell_type": "markdown",
   "id": "fd878ae5",
   "metadata": {},
   "source": [
    "### (5) LinearRegression 모델 학습"
   ]
  },
  {
   "cell_type": "code",
   "execution_count": 38,
   "id": "af3897d3",
   "metadata": {},
   "outputs": [],
   "source": [
    "model = LinearRegression()"
   ]
  },
  {
   "cell_type": "markdown",
   "id": "ad4616d1",
   "metadata": {},
   "source": [
    "### (6) 학습된 모델로 X_test에 대한 예측값 출력 및 손실함수값 계산"
   ]
  },
  {
   "cell_type": "code",
   "execution_count": 39,
   "id": "3eeac827",
   "metadata": {
    "scrolled": true
   },
   "outputs": [
    {
     "data": {
      "text/plain": [
       "LinearRegression()"
      ]
     },
     "execution_count": 39,
     "metadata": {},
     "output_type": "execute_result"
    }
   ],
   "source": [
    "model.fit(X_train, y_train)"
   ]
  },
  {
   "cell_type": "code",
   "execution_count": 40,
   "id": "f7188425",
   "metadata": {},
   "outputs": [
    {
     "name": "stdout",
     "output_type": "stream",
     "text": [
      "[308  14 539 ...  52 244 213]\n",
      "[183.45804656  65.66257346 382.35151225 ...  67.21021625 277.56414586\n",
      " 161.73883052]\n"
     ]
    }
   ],
   "source": [
    "predictions = model.predict(X_test)\n",
    "print(y_test)\n",
    "print(predictions)"
   ]
  },
  {
   "cell_type": "code",
   "execution_count": 41,
   "id": "48bb7164",
   "metadata": {
    "scrolled": true
   },
   "outputs": [
    {
     "data": {
      "text/html": [
       "<div>\n",
       "<style scoped>\n",
       "    .dataframe tbody tr th:only-of-type {\n",
       "        vertical-align: middle;\n",
       "    }\n",
       "\n",
       "    .dataframe tbody tr th {\n",
       "        vertical-align: top;\n",
       "    }\n",
       "\n",
       "    .dataframe thead th {\n",
       "        text-align: right;\n",
       "    }\n",
       "</style>\n",
       "<table border=\"1\" class=\"dataframe\">\n",
       "  <thead>\n",
       "    <tr style=\"text-align: right;\">\n",
       "      <th></th>\n",
       "      <th>0</th>\n",
       "      <th>1</th>\n",
       "    </tr>\n",
       "  </thead>\n",
       "  <tbody>\n",
       "    <tr>\n",
       "      <th>0</th>\n",
       "      <td>308.0</td>\n",
       "      <td>183.458047</td>\n",
       "    </tr>\n",
       "    <tr>\n",
       "      <th>1</th>\n",
       "      <td>14.0</td>\n",
       "      <td>65.662573</td>\n",
       "    </tr>\n",
       "    <tr>\n",
       "      <th>2</th>\n",
       "      <td>539.0</td>\n",
       "      <td>382.351512</td>\n",
       "    </tr>\n",
       "    <tr>\n",
       "      <th>3</th>\n",
       "      <td>143.0</td>\n",
       "      <td>313.406088</td>\n",
       "    </tr>\n",
       "    <tr>\n",
       "      <th>4</th>\n",
       "      <td>1.0</td>\n",
       "      <td>172.466294</td>\n",
       "    </tr>\n",
       "    <tr>\n",
       "      <th>...</th>\n",
       "      <td>...</td>\n",
       "      <td>...</td>\n",
       "    </tr>\n",
       "    <tr>\n",
       "      <th>2173</th>\n",
       "      <td>41.0</td>\n",
       "      <td>152.379164</td>\n",
       "    </tr>\n",
       "    <tr>\n",
       "      <th>2174</th>\n",
       "      <td>5.0</td>\n",
       "      <td>85.272216</td>\n",
       "    </tr>\n",
       "    <tr>\n",
       "      <th>2175</th>\n",
       "      <td>52.0</td>\n",
       "      <td>67.210216</td>\n",
       "    </tr>\n",
       "    <tr>\n",
       "      <th>2176</th>\n",
       "      <td>244.0</td>\n",
       "      <td>277.564146</td>\n",
       "    </tr>\n",
       "    <tr>\n",
       "      <th>2177</th>\n",
       "      <td>213.0</td>\n",
       "      <td>161.738831</td>\n",
       "    </tr>\n",
       "  </tbody>\n",
       "</table>\n",
       "<p>2178 rows × 2 columns</p>\n",
       "</div>"
      ],
      "text/plain": [
       "          0           1\n",
       "0     308.0  183.458047\n",
       "1      14.0   65.662573\n",
       "2     539.0  382.351512\n",
       "3     143.0  313.406088\n",
       "4       1.0  172.466294\n",
       "...     ...         ...\n",
       "2173   41.0  152.379164\n",
       "2174    5.0   85.272216\n",
       "2175   52.0   67.210216\n",
       "2176  244.0  277.564146\n",
       "2177  213.0  161.738831\n",
       "\n",
       "[2178 rows x 2 columns]"
      ]
     },
     "execution_count": 41,
     "metadata": {},
     "output_type": "execute_result"
    }
   ],
   "source": [
    "y_test_and_predictions = pd.DataFrame(np.array([y_test,predictions]).T)\n",
    "y_test_and_predictions"
   ]
  },
  {
   "cell_type": "code",
   "execution_count": 42,
   "id": "bae3e3a8",
   "metadata": {},
   "outputs": [
    {
     "data": {
      "text/plain": [
       "145.23373923745692"
      ]
     },
     "execution_count": 42,
     "metadata": {},
     "output_type": "execute_result"
    }
   ],
   "source": [
    "rmse = mean_squared_error(y_test, predictions)**.5\n",
    "rmse"
   ]
  },
  {
   "cell_type": "markdown",
   "id": "89a9e7b0",
   "metadata": {},
   "source": [
    "### (7) x축은 temp 또는 humidity로, y축은 count로 예측 결과 시각화하기"
   ]
  },
  {
   "cell_type": "code",
   "execution_count": 43,
   "id": "d45e3b6d",
   "metadata": {
    "scrolled": true
   },
   "outputs": [
    {
     "name": "stdout",
     "output_type": "stream",
     "text": [
      "2178\n",
      "2178\n",
      "2178\n"
     ]
    }
   ],
   "source": [
    "print(len(y_test))\n",
    "print(len(X_test[:,8]))\n",
    "print(len(X_test[:,10]))"
   ]
  },
  {
   "cell_type": "code",
   "execution_count": 44,
   "id": "2dda596f",
   "metadata": {},
   "outputs": [
    {
     "name": "stdout",
     "output_type": "stream",
     "text": [
      "(2178,)\n",
      "(2178,)\n",
      "(2178,)\n"
     ]
    }
   ],
   "source": [
    "print(y_test.shape)\n",
    "print(X_test[:,8].shape)\n",
    "print(X_test[:,10].shape)"
   ]
  },
  {
   "cell_type": "code",
   "execution_count": 45,
   "id": "164dc12c",
   "metadata": {},
   "outputs": [
    {
     "data": {
      "text/plain": [
       "array([28.7 , 17.22, 26.24, ...,  8.2 , 22.14, 22.96])"
      ]
     },
     "execution_count": 45,
     "metadata": {},
     "output_type": "execute_result"
    }
   ],
   "source": [
    "X_test[:,8]"
   ]
  },
  {
   "cell_type": "code",
   "execution_count": 46,
   "id": "f9d6767e",
   "metadata": {},
   "outputs": [
    {
     "data": {
      "text/plain": [
       "array([74., 94., 44., ..., 40., 64., 88.])"
      ]
     },
     "execution_count": 46,
     "metadata": {},
     "output_type": "execute_result"
    }
   ],
   "source": [
    "X_test[:,10]"
   ]
  },
  {
   "cell_type": "code",
   "execution_count": 47,
   "id": "c8194b08",
   "metadata": {},
   "outputs": [
    {
     "data": {
      "text/html": [
       "<div>\n",
       "<style scoped>\n",
       "    .dataframe tbody tr th:only-of-type {\n",
       "        vertical-align: middle;\n",
       "    }\n",
       "\n",
       "    .dataframe tbody tr th {\n",
       "        vertical-align: top;\n",
       "    }\n",
       "\n",
       "    .dataframe thead th {\n",
       "        text-align: right;\n",
       "    }\n",
       "</style>\n",
       "<table border=\"1\" class=\"dataframe\">\n",
       "  <thead>\n",
       "    <tr style=\"text-align: right;\">\n",
       "      <th></th>\n",
       "      <th>0</th>\n",
       "      <th>1</th>\n",
       "      <th>2</th>\n",
       "    </tr>\n",
       "  </thead>\n",
       "  <tbody>\n",
       "    <tr>\n",
       "      <th>0</th>\n",
       "      <td>28.70</td>\n",
       "      <td>74.0</td>\n",
       "      <td>308.0</td>\n",
       "    </tr>\n",
       "    <tr>\n",
       "      <th>1</th>\n",
       "      <td>17.22</td>\n",
       "      <td>94.0</td>\n",
       "      <td>14.0</td>\n",
       "    </tr>\n",
       "    <tr>\n",
       "      <th>2</th>\n",
       "      <td>26.24</td>\n",
       "      <td>44.0</td>\n",
       "      <td>539.0</td>\n",
       "    </tr>\n",
       "    <tr>\n",
       "      <th>3</th>\n",
       "      <td>31.16</td>\n",
       "      <td>23.0</td>\n",
       "      <td>143.0</td>\n",
       "    </tr>\n",
       "    <tr>\n",
       "      <th>4</th>\n",
       "      <td>16.40</td>\n",
       "      <td>66.0</td>\n",
       "      <td>1.0</td>\n",
       "    </tr>\n",
       "    <tr>\n",
       "      <th>...</th>\n",
       "      <td>...</td>\n",
       "      <td>...</td>\n",
       "      <td>...</td>\n",
       "    </tr>\n",
       "    <tr>\n",
       "      <th>2173</th>\n",
       "      <td>26.24</td>\n",
       "      <td>89.0</td>\n",
       "      <td>41.0</td>\n",
       "    </tr>\n",
       "    <tr>\n",
       "      <th>2174</th>\n",
       "      <td>18.04</td>\n",
       "      <td>67.0</td>\n",
       "      <td>5.0</td>\n",
       "    </tr>\n",
       "    <tr>\n",
       "      <th>2175</th>\n",
       "      <td>8.20</td>\n",
       "      <td>40.0</td>\n",
       "      <td>52.0</td>\n",
       "    </tr>\n",
       "    <tr>\n",
       "      <th>2176</th>\n",
       "      <td>22.14</td>\n",
       "      <td>64.0</td>\n",
       "      <td>244.0</td>\n",
       "    </tr>\n",
       "    <tr>\n",
       "      <th>2177</th>\n",
       "      <td>22.96</td>\n",
       "      <td>88.0</td>\n",
       "      <td>213.0</td>\n",
       "    </tr>\n",
       "  </tbody>\n",
       "</table>\n",
       "<p>2178 rows × 3 columns</p>\n",
       "</div>"
      ],
      "text/plain": [
       "          0     1      2\n",
       "0     28.70  74.0  308.0\n",
       "1     17.22  94.0   14.0\n",
       "2     26.24  44.0  539.0\n",
       "3     31.16  23.0  143.0\n",
       "4     16.40  66.0    1.0\n",
       "...     ...   ...    ...\n",
       "2173  26.24  89.0   41.0\n",
       "2174  18.04  67.0    5.0\n",
       "2175   8.20  40.0   52.0\n",
       "2176  22.14  64.0  244.0\n",
       "2177  22.96  88.0  213.0\n",
       "\n",
       "[2178 rows x 3 columns]"
      ]
     },
     "execution_count": 47,
     "metadata": {},
     "output_type": "execute_result"
    }
   ],
   "source": [
    "pd.DataFrame(np.array([X_test[:,8],X_test[:,10],y_test]).T)"
   ]
  },
  {
   "cell_type": "code",
   "execution_count": 48,
   "id": "f6e0dda2",
   "metadata": {},
   "outputs": [
    {
     "data": {
      "image/png": "[encoded data removed]",
      "text/plain": [
       "<Figure size 432x288 with 1 Axes>"
      ]
     },
     "metadata": {
      "needs_background": "light"
     },
     "output_type": "display_data"
    }
   ],
   "source": [
    "plt.scatter(X_test[:, 8], y_test, label=\"true\")\n",
    "plt.scatter(X_test[:, 8], predictions, label=\"pred\")\n",
    "plt.legend()\n",
    "plt.show()"
   ]
  },
  {
   "cell_type": "code",
   "execution_count": 49,
   "id": "c9068e14",
   "metadata": {
    "scrolled": true
   },
   "outputs": [
    {
     "data": {
      "image/png": "[encoded data removed]",
      "text/plain": [
       "<Figure size 432x288 with 1 Axes>"
      ]
     },
     "metadata": {
      "needs_background": "light"
     },
     "output_type": "display_data"
    }
   ],
   "source": [
    "plt.scatter(X_test[:, 10], y_test, label=\"true\")\n",
    "plt.scatter(X_test[:, 10], predictions, label=\"pred\")\n",
    "plt.legend()\n",
    "plt.show()"
   ]
  },
  {
   "cell_type": "code",
   "execution_count": null,
   "id": "6d5e9858",
   "metadata": {},
   "outputs": [],
   "source": []
  }
 ],
 "metadata": {
  "kernelspec": {
   "display_name": "Python 3 (ipykernel)",
   "language": "python",
   "name": "python3"
  },
  "language_info": {
   "codemirror_mode": {
    "name": "ipython",
    "version": 3
   },
   "file_extension": ".py",
   "mimetype": "text/x-python",
   "name": "python",
   "nbconvert_exporter": "python",
   "pygments_lexer": "ipython3",
   "version": "3.9.7"
  }
 },
 "nbformat": 4,
 "nbformat_minor": 5
}
