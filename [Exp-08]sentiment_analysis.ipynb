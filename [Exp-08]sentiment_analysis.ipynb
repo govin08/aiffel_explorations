{
 "cells": [
  {
   "cell_type": "markdown",
   "id": "ca1ecee0",
   "metadata": {},
   "source": [
    "**루브릭 1. 다양한 방법으로 Text Classification 태스크를 성공적으로 구현하였다.**  \n",
    "3가지 이상의 모델이 성공적으로 시도됨  \n",
    "-> 3가지 방법(`LSTM`, `1D-CNN`, `GlobalMaxPooling`)으로 모델을 구성했고, 잘 나왔습니다.\n",
    "\n",
    "**루브릭 2. `gensim`을 활용하여 자체학습된 혹은 사전학습된 임베딩 레이어를 분석하였다.**  \n",
    "gensim의 유사단어 찾기를 활용하여 자체학습한 임베딩과 사전학습 임베딩을 비교 분석함\n",
    "\n",
    "-> \n",
    "\n",
    "**루브릭 3. 한국어 Word2Vec을 활용하여 가시적인 성능향상을 달성했다.**  \n",
    "네이버 영화리뷰 데이터 감성분석 정확도를 85% 이상 달성함\n",
    "\n",
    "-> "
   ]
  },
  {
   "cell_type": "markdown",
   "id": "487e170c",
   "metadata": {},
   "source": [
    "2022/10/19 (수)  \n",
    " - 마감기한은 어제(18일, 화요일)였습니다만, 다 마무리하지 못했습니다.\n",
    " - github 주소를 일단 올려놓은 상태이고, 추가적으로 작업하고 있습니다.\n",
    " - 오늘 안으로는 어떻게든 완성본으로 바꾸어놓겠습니다.\n",
    " - 마감기한까지 내지 못하였으니 바로 채점을 하셔도 될 것이고 (아마 루브릭을 하나도 받지 못할 것 같습니다.) 혹시라도 감점을 감수하고 조금 더 내용을 채울 수 있다고 하면, 오늘까지는 완성본으로 만들어놓겠습니다.\n",
    " - 어떻게 채점하시건 상관없이, 제 공부를 위해, 이 깃허브 주소의 jupyter notebook은 계속 업데이트해나갈 예정입니다.\n",
    " - 번거롭게 해드려 죄송합니다."
   ]
  },
  {
   "cell_type": "markdown",
   "id": "7c872883",
   "metadata": {},
   "source": [
    "# 목차\n",
    "*** \n",
    "### 1. 사전작업\n",
    "#### 1.1. 모듈 불러오기\n",
    "#### 1.2. 데이터 불러오기\n",
    "#### 1.3. 중복된 데이터 제거\n",
    "#### 1.4. 결측치 제거\n",
    "#### 1.5. 온점 및 구두점 제거\n",
    "#### 1.6. 불용어(stopwords) 제거 및 형태소 분해\n",
    "#### 1.7. `word_to_index`\n",
    "#### 1.8. 토큰화 (words → vectors)\n",
    "### 2. 모델 생성 및 학습\n",
    "#### 2.1. LSTM 모델\n",
    "#### 2.2. 1D CNN 모델\n",
    "#### 2.3. `GlobalMaxPooling` 모델\n",
    "#### 2.4. 유사단어 찾기\n",
    "### 3. `word2vec` 활용하기\n"
   ]
  },
  {
   "cell_type": "markdown",
   "id": "a351cec8",
   "metadata": {},
   "source": [
    "# 1. 사전작업"
   ]
  },
  {
   "cell_type": "markdown",
   "id": "560c2a82",
   "metadata": {},
   "source": [
    "## 1.1. 모듈 불러오기"
   ]
  },
  {
   "cell_type": "code",
   "execution_count": 54,
   "id": "2c7f3a5d",
   "metadata": {},
   "outputs": [],
   "source": [
    "import pandas as pd\n",
    "import numpy as np\n",
    "import matplotlib.pyplot as plt\n",
    "import tensorflow as tf\n",
    "import re, os, copy\n",
    "import urllib.request\n",
    "from konlpy.tag import Okt\n",
    "from tqdm import tqdm\n",
    "from tensorflow.keras.preprocessing.text import Tokenizer\n",
    "from tensorflow.keras.preprocessing.sequence import pad_sequences\n",
    "from gensim.models.keyedvectors import Word2VecKeyedVectors"
   ]
  },
  {
   "cell_type": "markdown",
   "id": "048fe75b",
   "metadata": {},
   "source": [
    "## 1.2. 데이터 불러오기"
   ]
  },
  {
   "cell_type": "code",
   "execution_count": 2,
   "id": "4752b41d",
   "metadata": {
    "scrolled": false
   },
   "outputs": [
    {
     "data": {
      "text/html": [
       "<div>\n",
       "<style scoped>\n",
       "    .dataframe tbody tr th:only-of-type {\n",
       "        vertical-align: middle;\n",
       "    }\n",
       "\n",
       "    .dataframe tbody tr th {\n",
       "        vertical-align: top;\n",
       "    }\n",
       "\n",
       "    .dataframe thead th {\n",
       "        text-align: right;\n",
       "    }\n",
       "</style>\n",
       "<table border=\"1\" class=\"dataframe\">\n",
       "  <thead>\n",
       "    <tr style=\"text-align: right;\">\n",
       "      <th></th>\n",
       "      <th>id</th>\n",
       "      <th>document</th>\n",
       "      <th>label</th>\n",
       "    </tr>\n",
       "  </thead>\n",
       "  <tbody>\n",
       "    <tr>\n",
       "      <th>0</th>\n",
       "      <td>9976970</td>\n",
       "      <td>아 더빙.. 진짜 짜증나네요 목소리</td>\n",
       "      <td>0</td>\n",
       "    </tr>\n",
       "    <tr>\n",
       "      <th>1</th>\n",
       "      <td>3819312</td>\n",
       "      <td>흠...포스터보고 초딩영화줄....오버연기조차 가볍지 않구나</td>\n",
       "      <td>1</td>\n",
       "    </tr>\n",
       "    <tr>\n",
       "      <th>2</th>\n",
       "      <td>10265843</td>\n",
       "      <td>너무재밓었다그래서보는것을추천한다</td>\n",
       "      <td>0</td>\n",
       "    </tr>\n",
       "    <tr>\n",
       "      <th>3</th>\n",
       "      <td>9045019</td>\n",
       "      <td>교도소 이야기구먼 ..솔직히 재미는 없다..평점 조정</td>\n",
       "      <td>0</td>\n",
       "    </tr>\n",
       "    <tr>\n",
       "      <th>4</th>\n",
       "      <td>6483659</td>\n",
       "      <td>사이몬페그의 익살스런 연기가 돋보였던 영화!스파이더맨에서 늙어보이기만 했던 커스틴 ...</td>\n",
       "      <td>1</td>\n",
       "    </tr>\n",
       "  </tbody>\n",
       "</table>\n",
       "</div>"
      ],
      "text/plain": [
       "         id                                           document  label\n",
       "0   9976970                                아 더빙.. 진짜 짜증나네요 목소리      0\n",
       "1   3819312                  흠...포스터보고 초딩영화줄....오버연기조차 가볍지 않구나      1\n",
       "2  10265843                                  너무재밓었다그래서보는것을추천한다      0\n",
       "3   9045019                      교도소 이야기구먼 ..솔직히 재미는 없다..평점 조정      0\n",
       "4   6483659  사이몬페그의 익살스런 연기가 돋보였던 영화!스파이더맨에서 늙어보이기만 했던 커스틴 ...      1"
      ]
     },
     "execution_count": 2,
     "metadata": {},
     "output_type": "execute_result"
    }
   ],
   "source": [
    "train_data = pd.read_table('~/aiffel/sentiment_classification/data/ratings_train.txt')\n",
    "test_data = pd.read_table('~/aiffel/sentiment_classification/data/ratings_test.txt')\n",
    "\n",
    "train_data.head()"
   ]
  },
  {
   "cell_type": "markdown",
   "id": "d5975eb1",
   "metadata": {},
   "source": [
    "## 1.3. 중복된 데이터 제거"
   ]
  },
  {
   "cell_type": "code",
   "execution_count": 3,
   "id": "d9681ce2",
   "metadata": {},
   "outputs": [
    {
     "name": "stdout",
     "output_type": "stream",
     "text": [
      "<class 'pandas.core.frame.DataFrame'>\n",
      "<class 'pandas.core.frame.DataFrame'>\n",
      "(150000, 3)\n",
      "(50000, 3)\n"
     ]
    }
   ],
   "source": [
    "print(type(train_data))\n",
    "print(type(test_data))\n",
    "print(train_data.shape)\n",
    "print(test_data.shape)"
   ]
  },
  {
   "cell_type": "code",
   "execution_count": 4,
   "id": "145d31c7",
   "metadata": {},
   "outputs": [],
   "source": [
    "train_data.drop_duplicates(subset=['document'], inplace=True)\n",
    "test_data.drop_duplicates(subset=['document'], inplace=True)"
   ]
  },
  {
   "cell_type": "code",
   "execution_count": 5,
   "id": "8128df06",
   "metadata": {},
   "outputs": [
    {
     "name": "stdout",
     "output_type": "stream",
     "text": [
      "(146183, 3)\n",
      "(49158, 3)\n"
     ]
    }
   ],
   "source": [
    "print(train_data.shape)\n",
    "print(test_data.shape)"
   ]
  },
  {
   "cell_type": "markdown",
   "id": "47849ecc",
   "metadata": {},
   "source": [
    "## 1.4. 결측치 제거"
   ]
  },
  {
   "cell_type": "code",
   "execution_count": 6,
   "id": "fdf8cc8e",
   "metadata": {},
   "outputs": [
    {
     "name": "stdout",
     "output_type": "stream",
     "text": [
      "id          0\n",
      "document    1\n",
      "label       0\n",
      "dtype: int64\n",
      "id          0\n",
      "document    1\n",
      "label       0\n",
      "dtype: int64\n"
     ]
    }
   ],
   "source": [
    "print(train_data.isnull().sum())\n",
    "print(test_data.isnull().sum())"
   ]
  },
  {
   "cell_type": "code",
   "execution_count": 7,
   "id": "b8afbe90",
   "metadata": {
    "scrolled": true
   },
   "outputs": [
    {
     "data": {
      "text/html": [
       "<div>\n",
       "<style scoped>\n",
       "    .dataframe tbody tr th:only-of-type {\n",
       "        vertical-align: middle;\n",
       "    }\n",
       "\n",
       "    .dataframe tbody tr th {\n",
       "        vertical-align: top;\n",
       "    }\n",
       "\n",
       "    .dataframe thead th {\n",
       "        text-align: right;\n",
       "    }\n",
       "</style>\n",
       "<table border=\"1\" class=\"dataframe\">\n",
       "  <thead>\n",
       "    <tr style=\"text-align: right;\">\n",
       "      <th></th>\n",
       "      <th>id</th>\n",
       "      <th>document</th>\n",
       "      <th>label</th>\n",
       "    </tr>\n",
       "  </thead>\n",
       "  <tbody>\n",
       "    <tr>\n",
       "      <th>25857</th>\n",
       "      <td>2172111</td>\n",
       "      <td>NaN</td>\n",
       "      <td>1</td>\n",
       "    </tr>\n",
       "  </tbody>\n",
       "</table>\n",
       "</div>"
      ],
      "text/plain": [
       "            id document  label\n",
       "25857  2172111      NaN      1"
      ]
     },
     "execution_count": 7,
     "metadata": {},
     "output_type": "execute_result"
    }
   ],
   "source": [
    "train_data.loc[train_data['document'].isna()]"
   ]
  },
  {
   "cell_type": "code",
   "execution_count": 8,
   "id": "150c1a8e",
   "metadata": {
    "scrolled": true
   },
   "outputs": [
    {
     "data": {
      "text/html": [
       "<div>\n",
       "<style scoped>\n",
       "    .dataframe tbody tr th:only-of-type {\n",
       "        vertical-align: middle;\n",
       "    }\n",
       "\n",
       "    .dataframe tbody tr th {\n",
       "        vertical-align: top;\n",
       "    }\n",
       "\n",
       "    .dataframe thead th {\n",
       "        text-align: right;\n",
       "    }\n",
       "</style>\n",
       "<table border=\"1\" class=\"dataframe\">\n",
       "  <thead>\n",
       "    <tr style=\"text-align: right;\">\n",
       "      <th></th>\n",
       "      <th>id</th>\n",
       "      <th>document</th>\n",
       "      <th>label</th>\n",
       "    </tr>\n",
       "  </thead>\n",
       "  <tbody>\n",
       "    <tr>\n",
       "      <th>5746</th>\n",
       "      <td>402110</td>\n",
       "      <td>NaN</td>\n",
       "      <td>1</td>\n",
       "    </tr>\n",
       "  </tbody>\n",
       "</table>\n",
       "</div>"
      ],
      "text/plain": [
       "          id document  label\n",
       "5746  402110      NaN      1"
      ]
     },
     "execution_count": 8,
     "metadata": {},
     "output_type": "execute_result"
    }
   ],
   "source": [
    "test_data.loc[test_data['document'].isna()]"
   ]
  },
  {
   "cell_type": "code",
   "execution_count": 9,
   "id": "8345f6c8",
   "metadata": {},
   "outputs": [],
   "source": [
    "train_data = train_data.dropna(how = 'any')\n",
    "test_data = test_data.dropna(how = 'any')"
   ]
  },
  {
   "cell_type": "code",
   "execution_count": 10,
   "id": "93ee9cb1",
   "metadata": {
    "scrolled": false
   },
   "outputs": [
    {
     "name": "stdout",
     "output_type": "stream",
     "text": [
      "id          0\n",
      "document    0\n",
      "label       0\n",
      "dtype: int64\n",
      "id          0\n",
      "document    0\n",
      "label       0\n",
      "dtype: int64\n"
     ]
    }
   ],
   "source": [
    "print(train_data.isnull().sum())\n",
    "print(test_data.isnull().sum())"
   ]
  },
  {
   "cell_type": "code",
   "execution_count": 11,
   "id": "dd0eb5f7",
   "metadata": {},
   "outputs": [
    {
     "name": "stdout",
     "output_type": "stream",
     "text": [
      "(146182, 3)\n",
      "(49157, 3)\n"
     ]
    }
   ],
   "source": [
    "print(train_data.shape)\n",
    "print(test_data.shape)"
   ]
  },
  {
   "cell_type": "markdown",
   "id": "a06efd17",
   "metadata": {},
   "source": [
    "## 1.5. 온점 및 구두점 등 제거"
   ]
  },
  {
   "cell_type": "code",
   "execution_count": 12,
   "id": "b9d328e3",
   "metadata": {
    "scrolled": true
   },
   "outputs": [
    {
     "data": {
      "text/html": [
       "<div>\n",
       "<style scoped>\n",
       "    .dataframe tbody tr th:only-of-type {\n",
       "        vertical-align: middle;\n",
       "    }\n",
       "\n",
       "    .dataframe tbody tr th {\n",
       "        vertical-align: top;\n",
       "    }\n",
       "\n",
       "    .dataframe thead th {\n",
       "        text-align: right;\n",
       "    }\n",
       "</style>\n",
       "<table border=\"1\" class=\"dataframe\">\n",
       "  <thead>\n",
       "    <tr style=\"text-align: right;\">\n",
       "      <th></th>\n",
       "      <th>id</th>\n",
       "      <th>document</th>\n",
       "      <th>label</th>\n",
       "    </tr>\n",
       "  </thead>\n",
       "  <tbody>\n",
       "    <tr>\n",
       "      <th>0</th>\n",
       "      <td>9976970</td>\n",
       "      <td>아 더빙.. 진짜 짜증나네요 목소리</td>\n",
       "      <td>0</td>\n",
       "    </tr>\n",
       "    <tr>\n",
       "      <th>1</th>\n",
       "      <td>3819312</td>\n",
       "      <td>흠...포스터보고 초딩영화줄....오버연기조차 가볍지 않구나</td>\n",
       "      <td>1</td>\n",
       "    </tr>\n",
       "    <tr>\n",
       "      <th>2</th>\n",
       "      <td>10265843</td>\n",
       "      <td>너무재밓었다그래서보는것을추천한다</td>\n",
       "      <td>0</td>\n",
       "    </tr>\n",
       "    <tr>\n",
       "      <th>3</th>\n",
       "      <td>9045019</td>\n",
       "      <td>교도소 이야기구먼 ..솔직히 재미는 없다..평점 조정</td>\n",
       "      <td>0</td>\n",
       "    </tr>\n",
       "    <tr>\n",
       "      <th>4</th>\n",
       "      <td>6483659</td>\n",
       "      <td>사이몬페그의 익살스런 연기가 돋보였던 영화!스파이더맨에서 늙어보이기만 했던 커스틴 ...</td>\n",
       "      <td>1</td>\n",
       "    </tr>\n",
       "  </tbody>\n",
       "</table>\n",
       "</div>"
      ],
      "text/plain": [
       "         id                                           document  label\n",
       "0   9976970                                아 더빙.. 진짜 짜증나네요 목소리      0\n",
       "1   3819312                  흠...포스터보고 초딩영화줄....오버연기조차 가볍지 않구나      1\n",
       "2  10265843                                  너무재밓었다그래서보는것을추천한다      0\n",
       "3   9045019                      교도소 이야기구먼 ..솔직히 재미는 없다..평점 조정      0\n",
       "4   6483659  사이몬페그의 익살스런 연기가 돋보였던 영화!스파이더맨에서 늙어보이기만 했던 커스틴 ...      1"
      ]
     },
     "execution_count": 12,
     "metadata": {},
     "output_type": "execute_result"
    }
   ],
   "source": [
    "train_data[:5]"
   ]
  },
  {
   "cell_type": "code",
   "execution_count": 13,
   "id": "afab2b95",
   "metadata": {
    "scrolled": true
   },
   "outputs": [
    {
     "name": "stderr",
     "output_type": "stream",
     "text": [
      "/tmp/ipykernel_48/2798799149.py:1: FutureWarning: The default value of regex will change from True to False in a future version.\n",
      "  train_data['document'] = train_data['document'].str.replace(\"[^ㄱ-ㅎㅏ-ㅣ가-힣 ]\",\"\")\n",
      "/tmp/ipykernel_48/2798799149.py:2: FutureWarning: The default value of regex will change from True to False in a future version.\n",
      "  test_data['document'] = test_data['document'].str.replace(\"[^ㄱ-ㅎㅏ-ㅣ가-힣 ]\",\"\")\n"
     ]
    },
    {
     "data": {
      "text/html": [
       "<div>\n",
       "<style scoped>\n",
       "    .dataframe tbody tr th:only-of-type {\n",
       "        vertical-align: middle;\n",
       "    }\n",
       "\n",
       "    .dataframe tbody tr th {\n",
       "        vertical-align: top;\n",
       "    }\n",
       "\n",
       "    .dataframe thead th {\n",
       "        text-align: right;\n",
       "    }\n",
       "</style>\n",
       "<table border=\"1\" class=\"dataframe\">\n",
       "  <thead>\n",
       "    <tr style=\"text-align: right;\">\n",
       "      <th></th>\n",
       "      <th>id</th>\n",
       "      <th>document</th>\n",
       "      <th>label</th>\n",
       "    </tr>\n",
       "  </thead>\n",
       "  <tbody>\n",
       "    <tr>\n",
       "      <th>0</th>\n",
       "      <td>9976970</td>\n",
       "      <td>아 더빙 진짜 짜증나네요 목소리</td>\n",
       "      <td>0</td>\n",
       "    </tr>\n",
       "    <tr>\n",
       "      <th>1</th>\n",
       "      <td>3819312</td>\n",
       "      <td>흠포스터보고 초딩영화줄오버연기조차 가볍지 않구나</td>\n",
       "      <td>1</td>\n",
       "    </tr>\n",
       "    <tr>\n",
       "      <th>2</th>\n",
       "      <td>10265843</td>\n",
       "      <td>너무재밓었다그래서보는것을추천한다</td>\n",
       "      <td>0</td>\n",
       "    </tr>\n",
       "    <tr>\n",
       "      <th>3</th>\n",
       "      <td>9045019</td>\n",
       "      <td>교도소 이야기구먼 솔직히 재미는 없다평점 조정</td>\n",
       "      <td>0</td>\n",
       "    </tr>\n",
       "    <tr>\n",
       "      <th>4</th>\n",
       "      <td>6483659</td>\n",
       "      <td>사이몬페그의 익살스런 연기가 돋보였던 영화스파이더맨에서 늙어보이기만 했던 커스틴 던...</td>\n",
       "      <td>1</td>\n",
       "    </tr>\n",
       "  </tbody>\n",
       "</table>\n",
       "</div>"
      ],
      "text/plain": [
       "         id                                           document  label\n",
       "0   9976970                                  아 더빙 진짜 짜증나네요 목소리      0\n",
       "1   3819312                         흠포스터보고 초딩영화줄오버연기조차 가볍지 않구나      1\n",
       "2  10265843                                  너무재밓었다그래서보는것을추천한다      0\n",
       "3   9045019                          교도소 이야기구먼 솔직히 재미는 없다평점 조정      0\n",
       "4   6483659  사이몬페그의 익살스런 연기가 돋보였던 영화스파이더맨에서 늙어보이기만 했던 커스틴 던...      1"
      ]
     },
     "execution_count": 13,
     "metadata": {},
     "output_type": "execute_result"
    }
   ],
   "source": [
    "train_data['document'] = train_data['document'].str.replace(\"[^ㄱ-ㅎㅏ-ㅣ가-힣 ]\",\"\")\n",
    "test_data['document'] = test_data['document'].str.replace(\"[^ㄱ-ㅎㅏ-ㅣ가-힣 ]\",\"\")\n",
    "train_data[:5]"
   ]
  },
  {
   "cell_type": "code",
   "execution_count": 14,
   "id": "02a65136",
   "metadata": {
    "scrolled": true
   },
   "outputs": [
    {
     "name": "stderr",
     "output_type": "stream",
     "text": [
      "/tmp/ipykernel_48/4202506870.py:1: FutureWarning: The default value of regex will change from True to False in a future version.\n",
      "  train_data['document'] = train_data['document'].str.replace('^ +', \"\") # white space 데이터를 empty value로 변경\n"
     ]
    },
    {
     "name": "stdout",
     "output_type": "stream",
     "text": [
      "id            0\n",
      "document    789\n",
      "label         0\n",
      "dtype: int64\n",
      "id            0\n",
      "document    305\n",
      "label         0\n",
      "dtype: int64\n"
     ]
    },
    {
     "name": "stderr",
     "output_type": "stream",
     "text": [
      "/tmp/ipykernel_48/4202506870.py:3: FutureWarning: The default value of regex will change from True to False in a future version.\n",
      "  test_data['document'] = test_data['document'].str.replace('^ +', \"\") # white space 데이터를 empty value로 변경\n"
     ]
    }
   ],
   "source": [
    "train_data['document'] = train_data['document'].str.replace('^ +', \"\") # white space 데이터를 empty value로 변경\n",
    "train_data['document'].replace('', np.nan, inplace=True)\n",
    "test_data['document'] = test_data['document'].str.replace('^ +', \"\") # white space 데이터를 empty value로 변경\n",
    "test_data['document'].replace('', np.nan, inplace=True)\n",
    "print(train_data.isnull().sum())\n",
    "print(test_data.isnull().sum())"
   ]
  },
  {
   "cell_type": "code",
   "execution_count": 15,
   "id": "21310063",
   "metadata": {
    "scrolled": false
   },
   "outputs": [
    {
     "name": "stdout",
     "output_type": "stream",
     "text": [
      "(145393, 3)\n",
      "(48852, 3)\n"
     ]
    }
   ],
   "source": [
    "train_data = train_data.dropna(how = 'any')\n",
    "test_data = test_data.dropna(how = 'any')\n",
    "print(train_data.shape)\n",
    "print(test_data.shape)"
   ]
  },
  {
   "cell_type": "markdown",
   "id": "dce7155b",
   "metadata": {},
   "source": [
    "## 1.6. 불용어(stopwords) 제거 및 형태소 분해"
   ]
  },
  {
   "cell_type": "code",
   "execution_count": 16,
   "id": "42466f86",
   "metadata": {},
   "outputs": [],
   "source": [
    "stopwords = ['의','가','이','은','들','는','좀','잘','걍','과','도','를','으로','자','에','와','한','하다']"
   ]
  },
  {
   "cell_type": "code",
   "execution_count": 17,
   "id": "3299c0e1",
   "metadata": {
    "scrolled": true
   },
   "outputs": [
    {
     "data": {
      "text/plain": [
       "['오다', '이렇다', '것', '도', '영화', '라고', '차라리', '뮤직비디오', '를', '만들다', '게', '나다', '뻔']"
      ]
     },
     "execution_count": 17,
     "metadata": {},
     "output_type": "execute_result"
    }
   ],
   "source": [
    "okt = Okt()\n",
    "okt.morphs('와 이런 것도 영화라고 차라리 뮤직비디오를 만드는 게 나을 뻔', stem = True)"
   ]
  },
  {
   "cell_type": "code",
   "execution_count": 18,
   "id": "11cb50c2",
   "metadata": {},
   "outputs": [
    {
     "name": "stderr",
     "output_type": "stream",
     "text": [
      "100%|██████████| 145393/145393 [07:23<00:00, 327.53it/s]\n"
     ]
    }
   ],
   "source": [
    "X_train = []\n",
    "for sentence in tqdm(train_data['document']):\n",
    "    tokenized_sentence = okt.morphs(sentence, stem=True) # 토큰화\n",
    "    stopwords_removed_sentence = [word for word in tokenized_sentence if not word in stopwords] # 불용어 제거\n",
    "    X_train.append(stopwords_removed_sentence)"
   ]
  },
  {
   "cell_type": "code",
   "execution_count": 19,
   "id": "f47baf69",
   "metadata": {},
   "outputs": [
    {
     "name": "stdout",
     "output_type": "stream",
     "text": [
      "[['아', '더빙', '진짜', '짜증나다', '목소리'], ['흠', '포스터', '보고', '초딩', '영화', '줄', '오버', '연기', '조차', '가볍다', '않다'], ['너', '무재', '밓었', '다그', '래서', '보다', '추천', '다']]\n"
     ]
    }
   ],
   "source": [
    "print(X_train[:3])"
   ]
  },
  {
   "cell_type": "code",
   "execution_count": 20,
   "id": "f4d1c21a",
   "metadata": {},
   "outputs": [
    {
     "name": "stderr",
     "output_type": "stream",
     "text": [
      "100%|██████████| 48852/48852 [02:41<00:00, 303.32it/s]\n"
     ]
    }
   ],
   "source": [
    "X_test = []\n",
    "for sentence in tqdm(test_data['document']):\n",
    "    tokenized_sentence = okt.morphs(sentence, stem=True) # 토큰화\n",
    "    stopwords_removed_sentence = [word for word in tokenized_sentence if not word in stopwords] # 불용어 제거\n",
    "    X_test.append(stopwords_removed_sentence)"
   ]
  },
  {
   "cell_type": "code",
   "execution_count": 21,
   "id": "52ef3082",
   "metadata": {},
   "outputs": [],
   "source": [
    "X_train_copied = copy.deepcopy(X_train)\n",
    "X_test_copied = copy.deepcopy(X_test)"
   ]
  },
  {
   "cell_type": "code",
   "execution_count": 22,
   "id": "2e12df96",
   "metadata": {},
   "outputs": [
    {
     "name": "stdout",
     "output_type": "stream",
     "text": [
      "<class 'list'>\n",
      "<class 'list'>\n",
      "145393\n",
      "48852\n"
     ]
    }
   ],
   "source": [
    "print(type(X_train))\n",
    "print(type(X_test))\n",
    "print(len(X_train))\n",
    "print(len(X_test))"
   ]
  },
  {
   "cell_type": "code",
   "execution_count": 99,
   "id": "32b17e5a",
   "metadata": {},
   "outputs": [],
   "source": [
    "# X_train, X_test의 실행시간이 너무 많이 걸리므로, X_train과 X_test를\n",
    "# 다시 초기화하고 싶으면 이 셀을 실행하면 된다.\n",
    "X_train = X_train_copied\n",
    "X_test = X_test_copied"
   ]
  },
  {
   "cell_type": "markdown",
   "id": "6fd27c29",
   "metadata": {},
   "source": [
    "## 1.7. `word_to_index`"
   ]
  },
  {
   "cell_type": "code",
   "execution_count": 100,
   "id": "e3334517",
   "metadata": {},
   "outputs": [],
   "source": [
    "tokenizer = Tokenizer()\n",
    "tokenizer.fit_on_texts(X_train)"
   ]
  },
  {
   "cell_type": "code",
   "execution_count": 101,
   "id": "dd0fca84",
   "metadata": {},
   "outputs": [
    {
     "name": "stdout",
     "output_type": "stream",
     "text": [
      "1\n",
      "영화\n"
     ]
    }
   ],
   "source": [
    "word_to_index = tokenizer.word_index\n",
    "word_to_index_copied = copy.deepcopy(word_to_index)\n",
    "index_to_word = {index:word for word, index in word_to_index.items()}\n",
    "print(word_to_index['영화'])\n",
    "print(index_to_word[1])"
   ]
  },
  {
   "cell_type": "code",
   "execution_count": 102,
   "id": "5202c006",
   "metadata": {
    "scrolled": true
   },
   "outputs": [
    {
     "name": "stdout",
     "output_type": "stream",
     "text": [
      "<class 'dict'>\n",
      "43752\n"
     ]
    }
   ],
   "source": [
    "print(type(word_to_index))\n",
    "print(len(word_to_index))"
   ]
  },
  {
   "cell_type": "code",
   "execution_count": 103,
   "id": "d75fde37",
   "metadata": {},
   "outputs": [
    {
     "name": "stdout",
     "output_type": "stream",
     "text": [
      "단어 집합(vocabulary)의 크기 : 43752\n",
      "등장 빈도가 2번 이하인 희귀 단어의 수: 24337\n",
      "단어 집합에서 희귀 단어의 비율: 0.5562488571950996\n",
      "전체 등장 빈도에서 희귀 단어 등장 빈도 비율: 0.018715872104872903\n",
      "19415\n"
     ]
    }
   ],
   "source": [
    "threshold = 3\n",
    "total_cnt = len(tokenizer.word_index) # 단어의 수\n",
    "rare_cnt = 0 # 등장 빈도수가 threshold보다 작은 단어의 개수를 카운트\n",
    "total_freq = 0 # 훈련 데이터의 전체 단어 빈도수 총 합\n",
    "rare_freq = 0 # 등장 빈도수가 threshold보다 작은 단어의 등장 빈도수의 총 합\n",
    "\n",
    "frequent_words=[]\n",
    "\n",
    "# 단어와 빈도수의 쌍(pair)을 key와 value로 받는다.\n",
    "for key, value in tokenizer.word_counts.items():\n",
    "    total_freq = total_freq + value\n",
    "\n",
    "    # 단어의 등장 빈도수가 threshold보다 작으면\n",
    "    if(value < threshold):\n",
    "        rare_cnt = rare_cnt + 1\n",
    "        rare_freq = rare_freq + value\n",
    "    else:\n",
    "        frequent_words.append(key)\n",
    "\n",
    "word_to_index = {key:word_to_index[key] for key in frequent_words}\n",
    "index_to_word = {index:word for word, index in word_to_index.items()}\n",
    "\n",
    "print('단어 집합(vocabulary)의 크기 :',total_cnt)\n",
    "print('등장 빈도가 %s번 이하인 희귀 단어의 수: %s'%(threshold - 1, rare_cnt))\n",
    "print(\"단어 집합에서 희귀 단어의 비율:\", (rare_cnt / total_cnt))\n",
    "print(\"전체 등장 빈도에서 희귀 단어 등장 빈도 비율:\", (rare_freq / total_freq))\n",
    "print(len(frequent_words))"
   ]
  },
  {
   "cell_type": "code",
   "execution_count": 104,
   "id": "44dafdba",
   "metadata": {
    "scrolled": true
   },
   "outputs": [
    {
     "name": "stdout",
     "output_type": "stream",
     "text": [
      "19415\n",
      "19415\n"
     ]
    }
   ],
   "source": [
    "print(len(word_to_index))\n",
    "print(len(index_to_word))"
   ]
  },
  {
   "cell_type": "code",
   "execution_count": 105,
   "id": "059bba7b",
   "metadata": {},
   "outputs": [
    {
     "name": "stdout",
     "output_type": "stream",
     "text": [
      "단어 집합의 크기 : 19416\n"
     ]
    }
   ],
   "source": [
    "# 전체 단어 개수 중 빈도수 2이하인 단어는 제거.\n",
    "# 0번 패딩 토큰을 고려하여 + 1\n",
    "vocab_size = total_cnt - rare_cnt + 1\n",
    "print('단어 집합의 크기 :',vocab_size)"
   ]
  },
  {
   "cell_type": "markdown",
   "id": "f656b540",
   "metadata": {},
   "source": [
    "## 1.8. 토큰화 (words → vectors)"
   ]
  },
  {
   "cell_type": "code",
   "execution_count": 106,
   "id": "b23403f4",
   "metadata": {},
   "outputs": [
    {
     "name": "stdout",
     "output_type": "stream",
     "text": [
      "<class 'list'>\n",
      "['아', '더빙', '진짜', '짜증나다', '목소리']\n",
      "['흠', '포스터', '보고', '초딩', '영화', '줄', '오버', '연기', '조차', '가볍다', '않다']\n",
      "['너', '무재', '밓었', '다그', '래서', '보다', '추천', '다']\n"
     ]
    }
   ],
   "source": [
    "print(type(X_train))\n",
    "print(X_train[0])\n",
    "print(X_train[1])\n",
    "print(X_train[2])"
   ]
  },
  {
   "cell_type": "code",
   "execution_count": 107,
   "id": "0170d76c",
   "metadata": {
    "scrolled": true
   },
   "outputs": [],
   "source": [
    "tokenizer = Tokenizer(vocab_size) \n",
    "tokenizer.fit_on_texts(X_train)\n",
    "X_train = tokenizer.texts_to_sequences(X_train)\n",
    "X_test = tokenizer.texts_to_sequences(X_test)"
   ]
  },
  {
   "cell_type": "code",
   "execution_count": 108,
   "id": "f2e48149",
   "metadata": {
    "scrolled": true
   },
   "outputs": [
    {
     "name": "stdout",
     "output_type": "stream",
     "text": [
      "<class 'list'>\n",
      "[50, 454, 16, 260, 659]\n",
      "[933, 457, 41, 602, 1, 214, 1449, 24, 961, 675, 19]\n",
      "[386, 2444, 2315, 5671, 2, 222, 9]\n",
      "145393\n"
     ]
    }
   ],
   "source": [
    "print(type(X_train))\n",
    "print(X_train[0])\n",
    "print(X_train[1])\n",
    "print(X_train[2])\n",
    "print(len(X_train))"
   ]
  },
  {
   "cell_type": "code",
   "execution_count": 109,
   "id": "da981c5f",
   "metadata": {},
   "outputs": [],
   "source": [
    "y_train = np.array(train_data['label'])\n",
    "y_test = np.array(test_data['label'])"
   ]
  },
  {
   "cell_type": "code",
   "execution_count": 110,
   "id": "b1d45df6",
   "metadata": {},
   "outputs": [
    {
     "name": "stdout",
     "output_type": "stream",
     "text": [
      "145393\n",
      "48852\n",
      "145393\n",
      "48852\n"
     ]
    }
   ],
   "source": [
    "print(len(X_train))\n",
    "print(len(X_test))\n",
    "print(len(y_train))\n",
    "print(len(y_test))"
   ]
  },
  {
   "cell_type": "code",
   "execution_count": 111,
   "id": "e40fa26e",
   "metadata": {},
   "outputs": [
    {
     "name": "stdout",
     "output_type": "stream",
     "text": [
      "231\n",
      "107\n"
     ]
    }
   ],
   "source": [
    "drop_train = [index for index, sentence in enumerate(X_train) if len(sentence) < 1]\n",
    "drop_test = [index for index, sentence in enumerate(X_test) if len(sentence) < 1]\n",
    "print(len(drop_train))\n",
    "print(len(drop_test))"
   ]
  },
  {
   "cell_type": "code",
   "execution_count": 112,
   "id": "2a626302",
   "metadata": {},
   "outputs": [
    {
     "name": "stdout",
     "output_type": "stream",
     "text": [
      "145162\n",
      "145162\n",
      "48745\n",
      "48745\n"
     ]
    }
   ],
   "source": [
    "# 빈 샘플들을 제거\n",
    "X_train = np.delete(X_train, drop_train, axis=0)\n",
    "y_train = np.delete(y_train, drop_train, axis=0)\n",
    "X_test = np.delete(X_test, drop_test, axis=0)\n",
    "y_test = np.delete(y_test, drop_test, axis=0)\n",
    "print(len(X_train))\n",
    "print(len(y_train))\n",
    "print(len(X_test))\n",
    "print(len(y_test))"
   ]
  },
  {
   "cell_type": "code",
   "execution_count": 113,
   "id": "7eab1397",
   "metadata": {},
   "outputs": [
    {
     "name": "stdout",
     "output_type": "stream",
     "text": [
      "리뷰의 최대 길이 : 69\n",
      "리뷰의 평균 길이 : 10.812485361182679\n"
     ]
    },
    {
     "data": {
      "image/png": "[encoded data removed]",
      "text/plain": [
       "<Figure size 864x288 with 1 Axes>"
      ]
     },
     "metadata": {
      "needs_background": "light"
     },
     "output_type": "display_data"
    }
   ],
   "source": [
    "print('리뷰의 최대 길이 :',max(len(review) for review in X_train))\n",
    "print('리뷰의 평균 길이 :',sum(map(len, X_train))/len(X_train))\n",
    "plt.hist([len(review) for review in X_train], bins=50)\n",
    "plt.xlabel('length of samples')\n",
    "plt.ylabel('number of samples')\n",
    "plt.show()"
   ]
  },
  {
   "cell_type": "code",
   "execution_count": 114,
   "id": "ccd2566f",
   "metadata": {},
   "outputs": [],
   "source": [
    "def below_threshold_len(max_len, nested_list):\n",
    "  count = 0\n",
    "  for sentence in nested_list:\n",
    "    if(len(sentence) <= max_len):\n",
    "        count = count + 1\n",
    "  print('전체 샘플 중 길이가 %s 이하인 샘플의 비율: %s'%(max_len, (count / len(nested_list))*100))"
   ]
  },
  {
   "cell_type": "code",
   "execution_count": 115,
   "id": "40e6d3ed",
   "metadata": {
    "scrolled": false
   },
   "outputs": [
    {
     "name": "stdout",
     "output_type": "stream",
     "text": [
      "전체 샘플 중 길이가 30 이하인 샘플의 비율: 94.31944999380003\n"
     ]
    }
   ],
   "source": [
    "max_len = 30\n",
    "below_threshold_len(max_len, X_train)"
   ]
  },
  {
   "cell_type": "code",
   "execution_count": 116,
   "id": "3776c355",
   "metadata": {},
   "outputs": [],
   "source": [
    "X_train = pad_sequences(X_train, maxlen=max_len)\n",
    "X_test = pad_sequences(X_test, maxlen=max_len)"
   ]
  },
  {
   "cell_type": "code",
   "execution_count": 117,
   "id": "7773f1b7",
   "metadata": {
    "scrolled": true
   },
   "outputs": [
    {
     "name": "stdout",
     "output_type": "stream",
     "text": [
      "(145162, 30)\n",
      "(48745, 30)\n",
      "(145162,)\n",
      "(48745,)\n"
     ]
    }
   ],
   "source": [
    "print(X_train.shape)\n",
    "print(X_test.shape)\n",
    "print(y_train.shape)\n",
    "print(y_test.shape)"
   ]
  },
  {
   "cell_type": "markdown",
   "id": "75afa57f",
   "metadata": {},
   "source": [
    "# 2. 모델 생성 및 학습"
   ]
  },
  {
   "cell_type": "code",
   "execution_count": 119,
   "id": "152b3c8a",
   "metadata": {},
   "outputs": [],
   "source": [
    "word_vector_dim = 32  # 단어 하나를 표현하는 임베딩 벡터의 차원수입니다\n",
    "epochs = 20"
   ]
  },
  {
   "cell_type": "markdown",
   "id": "1aa20fc8",
   "metadata": {},
   "source": [
    "## 2.1. LSTM 모델"
   ]
  },
  {
   "cell_type": "code",
   "execution_count": 120,
   "id": "012aea38",
   "metadata": {},
   "outputs": [
    {
     "name": "stdout",
     "output_type": "stream",
     "text": [
      "Epoch 1/20\n",
      "284/284 [==============================] - 4s 8ms/step - loss: 0.4789 - accuracy: 0.7969 - val_loss: 0.3700 - val_accuracy: 0.8411\n",
      "Epoch 2/20\n",
      "284/284 [==============================] - 2s 6ms/step - loss: 0.3338 - accuracy: 0.8595 - val_loss: 0.3617 - val_accuracy: 0.8427\n",
      "Epoch 3/20\n",
      "284/284 [==============================] - 2s 6ms/step - loss: 0.3078 - accuracy: 0.8737 - val_loss: 0.3657 - val_accuracy: 0.8417\n",
      "Epoch 4/20\n",
      "284/284 [==============================] - 2s 6ms/step - loss: 0.2908 - accuracy: 0.8816 - val_loss: 0.3732 - val_accuracy: 0.8427\n",
      "Epoch 5/20\n",
      "284/284 [==============================] - 2s 6ms/step - loss: 0.2751 - accuracy: 0.8892 - val_loss: 0.3791 - val_accuracy: 0.8413\n",
      "Epoch 6/20\n",
      "284/284 [==============================] - 2s 6ms/step - loss: 0.2608 - accuracy: 0.8958 - val_loss: 0.3875 - val_accuracy: 0.8396\n",
      "Epoch 7/20\n",
      "284/284 [==============================] - 2s 6ms/step - loss: 0.2467 - accuracy: 0.9024 - val_loss: 0.3990 - val_accuracy: 0.8383\n",
      "Epoch 8/20\n",
      "284/284 [==============================] - 2s 6ms/step - loss: 0.2335 - accuracy: 0.9079 - val_loss: 0.4094 - val_accuracy: 0.8370\n",
      "Epoch 9/20\n",
      "284/284 [==============================] - 2s 6ms/step - loss: 0.2226 - accuracy: 0.9128 - val_loss: 0.4212 - val_accuracy: 0.8339\n",
      "Epoch 10/20\n",
      "284/284 [==============================] - 2s 6ms/step - loss: 0.2105 - accuracy: 0.9180 - val_loss: 0.4476 - val_accuracy: 0.8342\n",
      "Epoch 11/20\n",
      "284/284 [==============================] - 2s 6ms/step - loss: 0.1998 - accuracy: 0.9225 - val_loss: 0.4588 - val_accuracy: 0.8334\n",
      "Epoch 12/20\n",
      "284/284 [==============================] - 2s 6ms/step - loss: 0.1891 - accuracy: 0.9266 - val_loss: 0.4796 - val_accuracy: 0.8318\n",
      "Epoch 13/20\n",
      "284/284 [==============================] - 2s 6ms/step - loss: 0.1786 - accuracy: 0.9309 - val_loss: 0.5088 - val_accuracy: 0.8311\n",
      "Epoch 14/20\n",
      "284/284 [==============================] - 2s 6ms/step - loss: 0.1699 - accuracy: 0.9351 - val_loss: 0.5173 - val_accuracy: 0.8308\n",
      "Epoch 15/20\n",
      "284/284 [==============================] - 2s 6ms/step - loss: 0.1610 - accuracy: 0.9391 - val_loss: 0.5473 - val_accuracy: 0.8318\n",
      "Epoch 16/20\n",
      "284/284 [==============================] - 2s 6ms/step - loss: 0.1523 - accuracy: 0.9425 - val_loss: 0.5735 - val_accuracy: 0.8298\n",
      "Epoch 17/20\n",
      "284/284 [==============================] - 2s 6ms/step - loss: 0.1451 - accuracy: 0.9458 - val_loss: 0.5986 - val_accuracy: 0.8288\n",
      "Epoch 18/20\n",
      "284/284 [==============================] - 2s 6ms/step - loss: 0.1375 - accuracy: 0.9486 - val_loss: 0.6295 - val_accuracy: 0.8288\n",
      "Epoch 19/20\n",
      "284/284 [==============================] - 2s 6ms/step - loss: 0.1323 - accuracy: 0.9510 - val_loss: 0.6547 - val_accuracy: 0.8266\n",
      "Epoch 20/20\n",
      "284/284 [==============================] - 2s 6ms/step - loss: 0.1277 - accuracy: 0.9524 - val_loss: 0.6657 - val_accuracy: 0.8259\n"
     ]
    }
   ],
   "source": [
    "model1 = tf.keras.Sequential()\n",
    "model1.add(tf.keras.layers.Embedding(vocab_size, word_vector_dim, input_shape=(None,)))\n",
    "model1.add(tf.keras.layers.LSTM(8))   # 가장 널리 쓰이는 RNN인 LSTM 레이어를 사용하였습니다. 이때 LSTM state 벡터의 차원수는 8로 하였습니다. (변경 가능)\n",
    "model1.add(tf.keras.layers.Dense(8, activation='relu'))\n",
    "model1.add(tf.keras.layers.Dense(1, activation='sigmoid'))  # 최종 출력은 긍정/부정을 나타내는 1dim 입니다.\n",
    "\n",
    "model1.compile(optimizer='adam',loss='binary_crossentropy',metrics=['accuracy'])\n",
    "\n",
    "hist = model1.fit(X_train,y_train,epochs=epochs,batch_size=512,\n",
    "                    validation_data=(X_test, y_test),verbose=1)"
   ]
  },
  {
   "cell_type": "code",
   "execution_count": 121,
   "id": "967df14b",
   "metadata": {},
   "outputs": [
    {
     "name": "stdout",
     "output_type": "stream",
     "text": [
      "1524/1524 - 3s - loss: 0.6657 - accuracy: 0.8259\n",
      "[0.6656725406646729, 0.8258898258209229]\n"
     ]
    },
    {
     "data": {
      "image/png": "[encoded data removed]",
      "text/plain": [
       "<Figure size 864x288 with 2 Axes>"
      ]
     },
     "metadata": {
      "needs_background": "light"
     },
     "output_type": "display_data"
    }
   ],
   "source": [
    "plt.rcParams[\"figure.figsize\"] = (12,4)\n",
    "plt.subplot(121)\n",
    "plt.plot(hist.history['loss'])\n",
    "plt.plot(hist.history['val_loss'])\n",
    "plt.xlabel('epoch')\n",
    "plt.ylabel('loss')\n",
    "plt.legend(['loss','val_loss'])\n",
    "\n",
    "plt.subplot(122)\n",
    "plt.plot(hist.history['accuracy'])\n",
    "plt.plot(hist.history['val_accuracy'])\n",
    "plt.xlabel('epoch')\n",
    "plt.ylabel('accuracy')\n",
    "plt.legend(['accuracy','val_accuracy'])\n",
    "\n",
    "results = model1.evaluate(X_test,  y_test, verbose=2)\n",
    "\n",
    "print(results)"
   ]
  },
  {
   "cell_type": "markdown",
   "id": "00fd1136",
   "metadata": {},
   "source": [
    "## 2.2. 1D-CNN 모델"
   ]
  },
  {
   "cell_type": "code",
   "execution_count": 122,
   "id": "41e099cb",
   "metadata": {},
   "outputs": [
    {
     "name": "stdout",
     "output_type": "stream",
     "text": [
      "(145162, 30)\n",
      "(145162,)\n",
      "(48745, 30)\n",
      "(48745,)\n"
     ]
    }
   ],
   "source": [
    "print(X_train.shape)\n",
    "print(y_train.shape)\n",
    "print(X_test.shape)\n",
    "print(y_test.shape)"
   ]
  },
  {
   "cell_type": "code",
   "execution_count": 123,
   "id": "ed26721f",
   "metadata": {},
   "outputs": [
    {
     "name": "stdout",
     "output_type": "stream",
     "text": [
      "Epoch 1/20\n",
      "284/284 [==============================] - 3s 6ms/step - loss: 0.5731 - accuracy: 0.6754 - val_loss: 0.5010 - val_accuracy: 0.7338\n",
      "Epoch 2/20\n",
      "284/284 [==============================] - 1s 5ms/step - loss: 0.4588 - accuracy: 0.7653 - val_loss: 0.4948 - val_accuracy: 0.7408\n",
      "Epoch 3/20\n",
      "284/284 [==============================] - 1s 5ms/step - loss: 0.4178 - accuracy: 0.7875 - val_loss: 0.5069 - val_accuracy: 0.7365\n",
      "Epoch 4/20\n",
      "284/284 [==============================] - 1s 5ms/step - loss: 0.3793 - accuracy: 0.8101 - val_loss: 0.5243 - val_accuracy: 0.7326\n",
      "Epoch 5/20\n",
      "284/284 [==============================] - 1s 5ms/step - loss: 0.3405 - accuracy: 0.8294 - val_loss: 0.5608 - val_accuracy: 0.7282\n",
      "Epoch 6/20\n",
      "284/284 [==============================] - 1s 5ms/step - loss: 0.3041 - accuracy: 0.8475 - val_loss: 0.6057 - val_accuracy: 0.7272\n",
      "Epoch 7/20\n",
      "284/284 [==============================] - 1s 5ms/step - loss: 0.2729 - accuracy: 0.8603 - val_loss: 0.6569 - val_accuracy: 0.7234\n",
      "Epoch 8/20\n",
      "284/284 [==============================] - 1s 5ms/step - loss: 0.2483 - accuracy: 0.8702 - val_loss: 0.7144 - val_accuracy: 0.7152\n",
      "Epoch 9/20\n",
      "284/284 [==============================] - 1s 5ms/step - loss: 0.2290 - accuracy: 0.8795 - val_loss: 0.7760 - val_accuracy: 0.7128\n",
      "Epoch 10/20\n",
      "284/284 [==============================] - 1s 5ms/step - loss: 0.2140 - accuracy: 0.8846 - val_loss: 0.8436 - val_accuracy: 0.7138\n",
      "Epoch 11/20\n",
      "284/284 [==============================] - 1s 5ms/step - loss: 0.2030 - accuracy: 0.8888 - val_loss: 0.9042 - val_accuracy: 0.7113\n",
      "Epoch 12/20\n",
      "284/284 [==============================] - 1s 5ms/step - loss: 0.1945 - accuracy: 0.8921 - val_loss: 0.9511 - val_accuracy: 0.7099\n",
      "Epoch 13/20\n",
      "284/284 [==============================] - 1s 5ms/step - loss: 0.1877 - accuracy: 0.8956 - val_loss: 1.0330 - val_accuracy: 0.7092\n",
      "Epoch 14/20\n",
      "284/284 [==============================] - 1s 5ms/step - loss: 0.1815 - accuracy: 0.8967 - val_loss: 1.0785 - val_accuracy: 0.7068\n",
      "Epoch 15/20\n",
      "284/284 [==============================] - 1s 5ms/step - loss: 0.1767 - accuracy: 0.8978 - val_loss: 1.1570 - val_accuracy: 0.7052\n",
      "Epoch 16/20\n",
      "284/284 [==============================] - 1s 5ms/step - loss: 0.1738 - accuracy: 0.8991 - val_loss: 1.1973 - val_accuracy: 0.7064\n",
      "Epoch 17/20\n",
      "284/284 [==============================] - 1s 5ms/step - loss: 0.1705 - accuracy: 0.9008 - val_loss: 1.2866 - val_accuracy: 0.7045\n",
      "Epoch 18/20\n",
      "284/284 [==============================] - 1s 5ms/step - loss: 0.1673 - accuracy: 0.9016 - val_loss: 1.3375 - val_accuracy: 0.7034\n",
      "Epoch 19/20\n",
      "284/284 [==============================] - 1s 5ms/step - loss: 0.1656 - accuracy: 0.9010 - val_loss: 1.3761 - val_accuracy: 0.7011\n",
      "Epoch 20/20\n",
      "284/284 [==============================] - 1s 5ms/step - loss: 0.1627 - accuracy: 0.9033 - val_loss: 1.4306 - val_accuracy: 0.7035\n"
     ]
    }
   ],
   "source": [
    "model2 = tf.keras.Sequential()\n",
    "model2.add(tf.keras.layers.Embedding(vocab_size, word_vector_dim, input_shape=(None,)))\n",
    "model2.add(tf.keras.layers.Conv1D(16, 3, activation='relu'))\n",
    "model2.add(tf.keras.layers.MaxPooling1D(5))\n",
    "model2.add(tf.keras.layers.Conv1D(16, 3, activation='relu'))\n",
    "model2.add(tf.keras.layers.GlobalMaxPooling1D())\n",
    "model2.add(tf.keras.layers.Dense(8, activation='relu'))\n",
    "model2.add(tf.keras.layers.Dense(1, activation='sigmoid'))  # 최종 출력은 긍정/부정을 나타내는 1dim 입니다.\n",
    "\n",
    "model2.compile(optimizer='adam',loss='binary_crossentropy',metrics=['accuracy'])\n",
    "\n",
    "hist = model2.fit(X_train,y_train,epochs=epochs,batch_size=512,\n",
    "                    validation_data=(X_test, y_test),verbose=1)"
   ]
  },
  {
   "cell_type": "code",
   "execution_count": 124,
   "id": "49b34ea6",
   "metadata": {},
   "outputs": [
    {
     "name": "stdout",
     "output_type": "stream",
     "text": [
      "1524/1524 - 3s - loss: 1.4306 - accuracy: 0.7035\n",
      "[1.4305983781814575, 0.7034772634506226]\n"
     ]
    },
    {
     "data": {
      "image/png": "[encoded data removed]",
      "text/plain": [
       "<Figure size 864x288 with 2 Axes>"
      ]
     },
     "metadata": {
      "needs_background": "light"
     },
     "output_type": "display_data"
    }
   ],
   "source": [
    "plt.rcParams[\"figure.figsize\"] = (12,4)\n",
    "plt.subplot(121)\n",
    "plt.plot(hist.history['loss'])\n",
    "plt.plot(hist.history['val_loss'])\n",
    "plt.xlabel('epoch')\n",
    "plt.ylabel('loss')\n",
    "plt.legend(['loss','val_loss'])\n",
    "\n",
    "plt.subplot(122)\n",
    "plt.plot(hist.history['accuracy'])\n",
    "plt.plot(hist.history['val_accuracy'])\n",
    "plt.xlabel('epoch')\n",
    "plt.ylabel('accuracy')\n",
    "plt.legend(['accuracy','val_accuracy'])\n",
    "\n",
    "results = model2.evaluate(X_test,  y_test, verbose=2)\n",
    "\n",
    "print(results)"
   ]
  },
  {
   "cell_type": "markdown",
   "id": "629fe728",
   "metadata": {},
   "source": [
    "## 2.3. `GlobalMaxPooling` 모델"
   ]
  },
  {
   "cell_type": "code",
   "execution_count": 125,
   "id": "3b9f668b",
   "metadata": {},
   "outputs": [
    {
     "name": "stdout",
     "output_type": "stream",
     "text": [
      "Epoch 1/20\n",
      "284/284 [==============================] - 2s 4ms/step - loss: 0.5579 - accuracy: 0.7385 - val_loss: 0.4025 - val_accuracy: 0.8285\n",
      "Epoch 2/20\n",
      "284/284 [==============================] - 1s 4ms/step - loss: 0.3538 - accuracy: 0.8508 - val_loss: 0.3624 - val_accuracy: 0.8409\n",
      "Epoch 3/20\n",
      "284/284 [==============================] - 1s 4ms/step - loss: 0.3034 - accuracy: 0.8738 - val_loss: 0.3581 - val_accuracy: 0.8446\n",
      "Epoch 4/20\n",
      "284/284 [==============================] - 1s 4ms/step - loss: 0.2704 - accuracy: 0.8901 - val_loss: 0.3636 - val_accuracy: 0.8444\n",
      "Epoch 5/20\n",
      "284/284 [==============================] - 1s 4ms/step - loss: 0.2436 - accuracy: 0.9034 - val_loss: 0.3749 - val_accuracy: 0.8433\n",
      "Epoch 6/20\n",
      "284/284 [==============================] - 1s 4ms/step - loss: 0.2199 - accuracy: 0.9148 - val_loss: 0.3882 - val_accuracy: 0.8429\n",
      "Epoch 7/20\n",
      "284/284 [==============================] - 1s 4ms/step - loss: 0.1981 - accuracy: 0.9248 - val_loss: 0.4064 - val_accuracy: 0.8401\n",
      "Epoch 8/20\n",
      "284/284 [==============================] - 1s 4ms/step - loss: 0.1785 - accuracy: 0.9346 - val_loss: 0.4277 - val_accuracy: 0.8369\n",
      "Epoch 9/20\n",
      "284/284 [==============================] - 1s 4ms/step - loss: 0.1607 - accuracy: 0.9428 - val_loss: 0.4526 - val_accuracy: 0.8357\n",
      "Epoch 10/20\n",
      "284/284 [==============================] - 1s 4ms/step - loss: 0.1445 - accuracy: 0.9496 - val_loss: 0.4771 - val_accuracy: 0.8330\n",
      "Epoch 11/20\n",
      "284/284 [==============================] - 1s 4ms/step - loss: 0.1296 - accuracy: 0.9563 - val_loss: 0.5051 - val_accuracy: 0.8306\n",
      "Epoch 12/20\n",
      "284/284 [==============================] - 1s 4ms/step - loss: 0.1165 - accuracy: 0.9608 - val_loss: 0.5345 - val_accuracy: 0.8280\n",
      "Epoch 13/20\n",
      "284/284 [==============================] - 1s 4ms/step - loss: 0.1046 - accuracy: 0.9656 - val_loss: 0.5640 - val_accuracy: 0.8268\n",
      "Epoch 14/20\n",
      "284/284 [==============================] - 1s 4ms/step - loss: 0.0942 - accuracy: 0.9700 - val_loss: 0.5959 - val_accuracy: 0.8240\n",
      "Epoch 15/20\n",
      "284/284 [==============================] - 1s 4ms/step - loss: 0.0849 - accuracy: 0.9735 - val_loss: 0.6271 - val_accuracy: 0.8228\n",
      "Epoch 16/20\n",
      "284/284 [==============================] - 1s 4ms/step - loss: 0.0771 - accuracy: 0.9762 - val_loss: 0.6568 - val_accuracy: 0.8217\n",
      "Epoch 17/20\n",
      "284/284 [==============================] - 1s 4ms/step - loss: 0.0705 - accuracy: 0.9784 - val_loss: 0.6882 - val_accuracy: 0.8193\n",
      "Epoch 18/20\n",
      "284/284 [==============================] - 1s 4ms/step - loss: 0.0642 - accuracy: 0.9808 - val_loss: 0.7175 - val_accuracy: 0.8182\n",
      "Epoch 19/20\n",
      "284/284 [==============================] - 1s 4ms/step - loss: 0.0590 - accuracy: 0.9825 - val_loss: 0.7502 - val_accuracy: 0.8163\n",
      "Epoch 20/20\n",
      "284/284 [==============================] - 1s 4ms/step - loss: 0.0542 - accuracy: 0.9840 - val_loss: 0.7829 - val_accuracy: 0.8150\n"
     ]
    }
   ],
   "source": [
    "model3 = tf.keras.Sequential()\n",
    "model3.add(tf.keras.layers.Embedding(vocab_size, word_vector_dim, input_shape=(None,)))\n",
    "model3.add(tf.keras.layers.GlobalMaxPooling1D())\n",
    "model3.add(tf.keras.layers.Dense(8, activation='relu'))\n",
    "model3.add(tf.keras.layers.Dense(1, activation='sigmoid'))  # 최종 출력은 긍정/부정을 나타내는 1dim 입니다.\n",
    "model3.compile(optimizer='adam',loss='binary_crossentropy',metrics=['accuracy'])\n",
    "\n",
    "hist = model3.fit(X_train,y_train,epochs=epochs,batch_size=512,\n",
    "                    validation_data=(X_test, y_test),verbose=1)"
   ]
  },
  {
   "cell_type": "code",
   "execution_count": 126,
   "id": "efa64437",
   "metadata": {},
   "outputs": [
    {
     "name": "stdout",
     "output_type": "stream",
     "text": [
      "1524/1524 - 2s - loss: 0.7829 - accuracy: 0.8150\n",
      "[0.7829136848449707, 0.8149964213371277]\n"
     ]
    },
    {
     "data": {
      "image/png": "[encoded data removed]",
      "text/plain": [
       "<Figure size 864x288 with 2 Axes>"
      ]
     },
     "metadata": {
      "needs_background": "light"
     },
     "output_type": "display_data"
    }
   ],
   "source": [
    "plt.rcParams[\"figure.figsize\"] = (12,4)\n",
    "plt.subplot(121)\n",
    "plt.plot(hist.history['loss'])\n",
    "plt.plot(hist.history['val_loss'])\n",
    "plt.xlabel('epoch')\n",
    "plt.ylabel('loss')\n",
    "plt.legend(['loss','val_loss'])\n",
    "\n",
    "plt.subplot(122)\n",
    "plt.plot(hist.history['accuracy'])\n",
    "plt.plot(hist.history['val_accuracy'])\n",
    "plt.xlabel('epoch')\n",
    "plt.ylabel('accuracy')\n",
    "plt.legend(['accuracy','val_accuracy'])\n",
    "\n",
    "results = model3.evaluate(X_test,  y_test, verbose=2)\n",
    "\n",
    "print(results)"
   ]
  },
  {
   "cell_type": "code",
   "execution_count": 127,
   "id": "70a06a5d",
   "metadata": {},
   "outputs": [
    {
     "name": "stdout",
     "output_type": "stream",
     "text": [
      "(19416, 32)\n"
     ]
    }
   ],
   "source": [
    "embedding_layer1 = model1.layers[0]\n",
    "weights1 = embedding_layer1.get_weights()[0]\n",
    "print(weights1.shape)    # shape: (vocab_size, embedding_dim)"
   ]
  },
  {
   "cell_type": "code",
   "execution_count": 130,
   "id": "340d9508",
   "metadata": {},
   "outputs": [
    {
     "name": "stdout",
     "output_type": "stream",
     "text": [
      "19416\n"
     ]
    }
   ],
   "source": [
    "print(vocab_size)"
   ]
  },
  {
   "cell_type": "code",
   "execution_count": 159,
   "id": "28bfaeab",
   "metadata": {},
   "outputs": [],
   "source": [
    "def similarity_test(model_name = model1, test_word = \"사랑\"):\n",
    "    word2vec_file_path = os.getenv('HOME')+'/aiffel/sentiment_classification/data/word2vec'+str(model_name)+'.txt'\n",
    "    f = open(word2vec_file_path, 'w')\n",
    "    f.write('{} {}\\n'.format(vocab_size-1, word_vector_dim))\n",
    "    vectors = model_name.get_weights()[0]\n",
    "    for i in range(1,vocab_size):\n",
    "        f.write('{} {}\\n'.format(index_to_word[i], ' '.join(map(str, list(vectors[i, :])))))\n",
    "    f.close()\n",
    "    word_vectors = Word2VecKeyedVectors.load_word2vec_format(word2vec_file_path, binary=False)\n",
    "    return word_vectors.similar_by_word(test_word)"
   ]
  },
  {
   "cell_type": "code",
   "execution_count": 163,
   "id": "b248139e",
   "metadata": {},
   "outputs": [
    {
     "data": {
      "text/plain": [
       "[('반하다', 0.9326288104057312),\n",
       " ('가안', 0.9216899275779724),\n",
       " ('홧팅', 0.9146195650100708),\n",
       " ('만능', 0.9132843017578125),\n",
       " ('으로까지', 0.9107911586761475),\n",
       " ('상큼', 0.9092661738395691),\n",
       " ('돌아보다', 0.906960129737854),\n",
       " ('대론', 0.9063361287117004),\n",
       " ('도모', 0.9061749577522278),\n",
       " ('명화', 0.9050577878952026)]"
      ]
     },
     "execution_count": 163,
     "metadata": {},
     "output_type": "execute_result"
    }
   ],
   "source": [
    "similarity_test(model1, \"사랑\")"
   ]
  },
  {
   "cell_type": "code",
   "execution_count": 164,
   "id": "3f4027e4",
   "metadata": {},
   "outputs": [
    {
     "data": {
      "text/plain": [
       "[('수익', 0.7191662788391113),\n",
       " ('틸드', 0.7151320576667786),\n",
       " ('비인간', 0.697028398513794),\n",
       " ('미소녀', 0.6876201629638672),\n",
       " ('빅토리아', 0.6750011444091797),\n",
       " ('패러다임', 0.6703755259513855),\n",
       " ('트랙', 0.6538108587265015),\n",
       " ('시끌벅적', 0.6533161997795105),\n",
       " ('더미', 0.6512889266014099),\n",
       " ('최원영', 0.6459721326828003)]"
      ]
     },
     "execution_count": 164,
     "metadata": {},
     "output_type": "execute_result"
    }
   ],
   "source": [
    "similarity_test(model2, \"사랑\")"
   ]
  },
  {
   "cell_type": "code",
   "execution_count": 165,
   "id": "2cc991a8",
   "metadata": {},
   "outputs": [
    {
     "data": {
      "text/plain": [
       "[('아주', 0.8375513553619385),\n",
       " ('우디', 0.8326077461242676),\n",
       " ('기도', 0.8323318958282471),\n",
       " ('개인', 0.812653660774231),\n",
       " ('박진', 0.8111234307289124),\n",
       " ('이맘때', 0.8093159794807434),\n",
       " ('돌아서다', 0.8048248887062073),\n",
       " ('베댓', 0.8013456463813782),\n",
       " ('블랙코미디', 0.7918063402175903),\n",
       " ('유희', 0.7832778096199036)]"
      ]
     },
     "execution_count": 165,
     "metadata": {},
     "output_type": "execute_result"
    }
   ],
   "source": [
    "similarity_test(model3, \"사랑\")"
   ]
  },
  {
   "cell_type": "code",
   "execution_count": null,
   "id": "c7753b79",
   "metadata": {},
   "outputs": [],
   "source": []
  }
 ],
 "metadata": {
  "kernelspec": {
   "display_name": "Python 3 (ipykernel)",
   "language": "python",
   "name": "python3"
  },
  "language_info": {
   "codemirror_mode": {
    "name": "ipython",
    "version": 3
   },
   "file_extension": ".py",
   "mimetype": "text/x-python",
   "name": "python",
   "nbconvert_exporter": "python",
   "pygments_lexer": "ipython3",
   "version": "3.9.7"
  }
 },
 "nbformat": 4,
 "nbformat_minor": 5
}
