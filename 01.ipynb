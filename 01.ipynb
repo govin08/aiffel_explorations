{
 "cells": [
  {
   "cell_type": "markdown",
   "id": "7e502438",
   "metadata": {},
   "source": [
    "# 프로젝트 제출\n",
    "\n",
    "이 파일은, aiffel 2022년도 3기의 노드 중 하나인\n",
    " - EXPLORATION_SO3 : 1. Iris의 세 가지 품종, 분류해볼 수 있겠어요?\n",
    " \n",
    "와 관련한 프로젝트입니다.\n",
    "(저는 aiffel 교육생 김선중 입니다.)\n",
    "\n",
    "## 목차\n",
    "1. `digits` dataset\n",
    "\n",
    "2. `wine` dataset\n",
    "\n",
    "3. `breast_cancer` dataset"
   ]
  },
  {
   "cell_type": "markdown",
   "id": "db4ac71a",
   "metadata": {},
   "source": [
    "|평가문항|상세기준|\n",
    "|:-|:-|\n",
    "|데이터셋의 구성을 파악하고, 데이터를 이해하는 과정이 포함되어있는가?|feature와 label 선정을 위한 데이터 분석과정을 전개함|\n",
    "|데이터셋에 대해 각각 5가지 모델을 이용하여 학습을 수행하고 결과값을 얻었는가?|모델학습 및 테스트가 정상적으로 수행되고, 결과값을 얻었음|\n",
    "|데이터셋에 대해 모델의 평가 지표를 선택하고, 그 이유를 근거를 바탕으로 서술하였는가?|모델학습을 통해 얻은 결과물을 바탕으로 평가지표를 선택하고, 본인의 의견을 서술하였음|\n",
    "\n",
    "1. 데이터셋의 구성을 파악하고, 데이터를 이해하기\n",
    " - 노드에 진행된 것과 비슷하게 진행했습니다.\n",
    "2. 데이터셋에 대해 각각 5가지 모델을 이용하여 학습을 수행하고 결과값을 얻기\n",
    " - 노드에 진행된 것과 비슷하게 진행했습니다.\n",
    "3. 데이터셋에 대해 모델의 평가 지표를 선택하기\n",
    " - 평가지표(evaluation metric)에 관해서는 LMS에는 이진분류에 관한 평가지표만 소개되어 있고 다중분류에 대한 평가지표가 소개되어 있지 않았으므로 따로 [공부](https://github.com/govin08/aiffel/blob/master/004_articles_and_materials/0906_evaluation_metrics.ipynb)해 보았습니다.\n",
    " 여기에서 공부한 evaluation metric들은 다음과 같습니다.\n",
    "    - 이진분류 문제 : accuracy / precision / recall / F1-score\n",
    "    - 다중분류 문제 : macro-precision / macro-recall / macro-F1-score / weighted-accuracy / weighted-precision / macro-recall / macro-F1-score\n",
    "    - 다중분류 문제 : Cohen's kappa\n",
    " - `digits` 데이터셋의 경우 다중분류문제입니다.\n",
    " 이 데이터셋에 대한 모델이 \"은행 창구의 비밀번호 입력\"과 같은 절차에 사용된다고 할 때, FP의 경우가 발생하는 것이 치명적입니다.\n",
    " 다시 말해, 비밀번호가 실제로 3인데, 다른 숫자나 다른 모양이 입력되었는데도 불구하고(actual negative), 우리 모델이 그것을 3으로 인식하는(predicted positive) 경우에는 심각한 보안상의 문제가 발생할 수 있습니다.\n",
    " 따라서 FP를 막기 위해 precision을 사용해야 한다고 보았습니다.\n",
    " 다만, 여기서의 precision의 의미는, 다중분류에서의 precision이므로, macro-precision이나 weighted precision을 고려해야 한다고 봤습니다.\n",
    " 한편, 다중분류이니만큼, 전체적인 상황을 아울러서 평가할 수 있는 Cohen's kappa를 사용하는 것도 괜찮은 대안이라고 보았습니다.\n",
    " - `wine` 데이터셋의 경우 다중 분류문제입니다.\n",
    " 여기에서는 특별히 FP나 FN이 대단한 피해를 주거나 하는 것이 없습니다.\n",
    " 따라서 이 경우에는 FP와 FN을 골고루 고려하는, 즉, recall과 precision을 골고루 고려하는 F1-score를 사용하는 것이 맞다고 보았습니다.\n",
    " 이번에도, 여기서의 F1-score의 의미는 macro-precision이나 weighted precision입니다.\n",
    " 마찬가지로, 다중분류이니만큼, 전체적인 상황을 아울러서 평가할 수 있는 Cohen's kappa를 사용하는 것도 괜찮은 대안이라고 보았습니다.\n",
    " - `breast_cancer` 데이터셋은 이진분류문제입니다.\n",
    " 이 문제의 경우 FN(false negative)가 발생하면 치명적입니다.\n",
    " 다시 말해, 실제로 암에 걸렸는데, 암이라고 진단하지 못한 경우가 발생하는 것은 어떻게 해서든 막아야 합니다.\n",
    " 따라서, recall을 사용하는 것이 맞다고 보았습니다."
   ]
  },
  {
   "cell_type": "markdown",
   "id": "ce664669",
   "metadata": {},
   "source": [
    "# 1. `digits` dataset"
   ]
  },
  {
   "cell_type": "markdown",
   "id": "6b9a0901",
   "metadata": {},
   "source": [
    "## 1.1. 필요한 모듈 import 하기"
   ]
  },
  {
   "cell_type": "code",
   "execution_count": 1,
   "id": "37183551",
   "metadata": {},
   "outputs": [],
   "source": [
    "import numpy as np\n",
    "import matplotlib.pyplot as plt\n",
    "\n",
    "from sklearn.datasets import load_digits\n",
    "from sklearn.model_selection import train_test_split\n",
    "from sklearn import preprocessing\n",
    "\n",
    "from sklearn.tree import DecisionTreeClassifier # _dt\n",
    "from sklearn.ensemble import RandomForestClassifier # _rf\n",
    "from sklearn import svm # _svm`\n",
    "from sklearn.linear_model import SGDClassifier, LogisticRegression # _sgd,  _lr\n",
    "\n",
    "from sklearn.metrics import confusion_matrix, ConfusionMatrixDisplay\n",
    "from sklearn.metrics import accuracy_score, precision_score, cohen_kappa_score"
   ]
  },
  {
   "cell_type": "markdown",
   "id": "6b262a33",
   "metadata": {},
   "source": [
    "모듈들을 import합니다.\n",
    " - line 1-2 : 기본 모듈들인 `numpy`와 `matplotlib`을 불러옵니다.\n",
    " - line 4-6 : `digits` dataset을 불러오기 위해 `load_digits` 모듈을 불러옵니다.\n",
    " training set과 testset을 분리하기 위해 `train_test_split` 모듈을 불러옵니다.\n",
    " 전처리과정을 위해 `preprocessing` 모듈을 불러옵니다.\n",
    " - line 8-11 : 다섯 개의 서로 다른 모델 (decision tree classifier, random forest classifier, support vector machine, stochastic gradient descent classifier, logistic regression)을 사용하기 위해 해당 모듈들을 불러옵니다.\n",
    " - line 13-14 : confusion matrix를 불러오거나 그리는 데 필요한 모듈들을 불러옵니다.\n",
    " 또한, 모델의 평가지표를 나타내기 위한 `classification_report`, `precision_score`, `cohen_kappa_score`를 불러옵니다."
   ]
  },
  {
   "cell_type": "markdown",
   "id": "ef84d02e",
   "metadata": {},
   "source": [
    "## 1.2. 데이터 준비"
   ]
  },
  {
   "cell_type": "code",
   "execution_count": 2,
   "id": "314cf915",
   "metadata": {
    "scrolled": false
   },
   "outputs": [
    {
     "name": "stdout",
     "output_type": "stream",
     "text": [
      "<class 'sklearn.utils.Bunch'>\n",
      "['DESCR', 'data', 'feature_names', 'frame', 'images', 'target', 'target_names']\n",
      "dict_keys(['data', 'target', 'frame', 'feature_names', 'target_names', 'images', 'DESCR'])\n"
     ]
    }
   ],
   "source": [
    "digits = load_digits()\n",
    "print(type(digits))\n",
    "# print(digits)\n",
    "print(dir(digits))\n",
    "print(digits.keys())"
   ]
  },
  {
   "cell_type": "markdown",
   "id": "419fb14c",
   "metadata": {},
   "source": [
    " - line 1 : `load_digits()`으로 데이터를 불러와 `digits`에 할당합니다.\n",
    " - line 2, 3 : `digits`는 `sklearn.utils.Bunch`라는 타입을 가지고 있는데, [이것](https://scikit-learn.org/stable/modules/generated/sklearn.utils.Bunch.html)은 `sklearn`에서 딕셔너리와 같은 역할을 하는 클래스인 것 같습니다.\n",
    " - line 4 : 파이썬의 내장함수 [`dir()`](https://docs.python.org/ko/3/library/functions.html#dir)을 사용합니다.\n",
    " - line 5 : `digits`의 키값을 `keys()` 메소드를 통해 호출합니다.\n",
    " `digits`의 key들이 나열되는데, 이 중 `data`, `target`, `target_names`, `DESCR`, `feature_names`를 살펴볼 예정입니다.\n",
    " 노드에서의 `iris` dataset에 비교하면, `filename`이 없습니다."
   ]
  },
  {
   "cell_type": "markdown",
   "id": "0b17d731",
   "metadata": {},
   "source": [
    "## 1.3. 데이터 이해하기"
   ]
  },
  {
   "cell_type": "code",
   "execution_count": 3,
   "id": "70cd3681",
   "metadata": {},
   "outputs": [],
   "source": [
    "digits_data = digits.data\n",
    "digits_label = digits.target"
   ]
  },
  {
   "cell_type": "markdown",
   "id": "9bb2bd4a",
   "metadata": {},
   "source": [
    "`digits_data`와 `digits_label`을 정의합니다.\n",
    " 각각 input feature와 label의 역할을 하게 될 것들입니다."
   ]
  },
  {
   "cell_type": "code",
   "execution_count": 4,
   "id": "dba416d3",
   "metadata": {
    "scrolled": false
   },
   "outputs": [
    {
     "name": "stdout",
     "output_type": "stream",
     "text": [
      "<class 'numpy.ndarray'>\n",
      "(1797, 64)\n",
      "[ 0.  0.  5. 13.  9.  1.  0.  0.  0.  0. 13. 15. 10. 15.  5.  0.  0.  3.\n",
      " 15.  2.  0. 11.  8.  0.  0.  4. 12.  0.  0.  8.  8.  0.  0.  5.  8.  0.\n",
      "  0.  9.  8.  0.  0.  4. 11.  0.  1. 12.  7.  0.  0.  2. 14.  5. 10. 12.\n",
      "  0.  0.  0.  0.  6. 13. 10.  0.  0.  0.]\n",
      "16.0\n"
     ]
    }
   ],
   "source": [
    "print(type(digits_data))\n",
    "print(digits_data.shape)\n",
    "print(digits_data[0])\n",
    "print(digits_data.max())"
   ]
  },
  {
   "cell_type": "markdown",
   "id": "6834d2bf",
   "metadata": {},
   "source": [
    "`digits_data`의 타입과 shape, 첫번째 요소를 출력합니다.\n",
    " - line 1 : 타입은 `np.array`입니다.\n",
    " - line 2 : shape으로 보아 $1797\\times 64$ 모양의 행렬입니다.\n",
    " 즉, data(sample)의 개수는 1797개이고, feature의 개수는 64개입니다.\n",
    " feature의 개수가 64개인 것은, 각각의 sample들이 $8\\times8$의 픽셀을 가진 그림파일이기 때문입니다.\n",
    " - line 3, 4 : 첫번째 sample을  출력하니 16차원의 벡터가 나옵니다.\n",
    " 많이 쓰이는 MNIST dataset이 0부터 255까지의 정수를 가지는 것과 달리, 여기에서는 0부터 15까지의 숫자가 보입니다.\n",
    " 실제로 `digits_data` 행렬에서 entry의 최댓값을 구해보니 16이 나오는 걸로 봐서, 0부터 255까지의 정수가 아닌 0부터 16까지의 정수를 고려하는 것으로 보입니다.\n",
    "\n",
    "첫번째 sample을 그림으로 나타내면 다음과 같습니다."
   ]
  },
  {
   "cell_type": "code",
   "execution_count": 5,
   "id": "6330bf9a",
   "metadata": {
    "scrolled": true
   },
   "outputs": [
    {
     "data": {
      "text/plain": [
       "<matplotlib.image.AxesImage at 0x7f7db9566f70>"
      ]
     },
     "execution_count": 5,
     "metadata": {},
     "output_type": "execute_result"
    },
    {
     "data": {
      "image/png": "[encoded data removed]",
      "text/plain": [
       "<Figure size 432x288 with 1 Axes>"
      ]
     },
     "metadata": {
      "needs_background": "light"
     },
     "output_type": "display_data"
    }
   ],
   "source": [
    "plt.imshow(digits.data[0].reshape(8, 8), cmap='gray')"
   ]
  },
  {
   "cell_type": "code",
   "execution_count": 6,
   "id": "9148c03c",
   "metadata": {
    "scrolled": true
   },
   "outputs": [
    {
     "name": "stdout",
     "output_type": "stream",
     "text": [
      "<class 'numpy.ndarray'>\n",
      "(1797,)\n",
      "0\n"
     ]
    }
   ],
   "source": [
    "print(type(digits_label))\n",
    "print(digits_label.shape)\n",
    "print(digits_label[0])"
   ]
  },
  {
   "cell_type": "markdown",
   "id": "c04d5a78",
   "metadata": {},
   "source": [
    "`digits_label`의 타입과 shape, 첫번째 요소를 출력합니다.\n",
    " - line 1 : 타입은 `np.array`입니다.\n",
    " - line 2 : shape으로 보아 1797 차원의 벡터라고 생각할 수 있습니다.\n",
    " 각각의 sample들의 label은 $\\{0,1,2,3,4,5,6,7,8,9\\}$의 원소입니다."
   ]
  },
  {
   "cell_type": "code",
   "execution_count": 7,
   "id": "fd190990",
   "metadata": {
    "scrolled": true
   },
   "outputs": [
    {
     "name": "stdout",
     "output_type": "stream",
     "text": [
      "[0 1 2 3 4 5 6 7 8 9]\n",
      "['pixel_0_0', 'pixel_0_1', 'pixel_0_2', 'pixel_0_3', 'pixel_0_4', 'pixel_0_5', 'pixel_0_6', 'pixel_0_7', 'pixel_1_0', 'pixel_1_1', 'pixel_1_2', 'pixel_1_3', 'pixel_1_4', 'pixel_1_5', 'pixel_1_6', 'pixel_1_7', 'pixel_2_0', 'pixel_2_1', 'pixel_2_2', 'pixel_2_3', 'pixel_2_4', 'pixel_2_5', 'pixel_2_6', 'pixel_2_7', 'pixel_3_0', 'pixel_3_1', 'pixel_3_2', 'pixel_3_3', 'pixel_3_4', 'pixel_3_5', 'pixel_3_6', 'pixel_3_7', 'pixel_4_0', 'pixel_4_1', 'pixel_4_2', 'pixel_4_3', 'pixel_4_4', 'pixel_4_5', 'pixel_4_6', 'pixel_4_7', 'pixel_5_0', 'pixel_5_1', 'pixel_5_2', 'pixel_5_3', 'pixel_5_4', 'pixel_5_5', 'pixel_5_6', 'pixel_5_7', 'pixel_6_0', 'pixel_6_1', 'pixel_6_2', 'pixel_6_3', 'pixel_6_4', 'pixel_6_5', 'pixel_6_6', 'pixel_6_7', 'pixel_7_0', 'pixel_7_1', 'pixel_7_2', 'pixel_7_3', 'pixel_7_4', 'pixel_7_5', 'pixel_7_6', 'pixel_7_7']\n",
      ".. _digits_dataset:\n",
      "\n",
      "Optical recognition of handwritten digits dataset\n",
      "--------------------------------------------------\n",
      "\n",
      "**Data Set Characteristics:**\n",
      "\n",
      "    :Number of Instances: 1797\n",
      "    :Number of Attributes: 64\n",
      "    :Attribute Information: 8x8 image of integer pixels in the range 0..16.\n",
      "    :Missing Attribute Values: None\n",
      "    :Creator: E. Alpaydin (alpaydin '@' boun.edu.tr)\n",
      "    :Date: July; 1998\n",
      "\n",
      "This is a copy of the test set of the UCI ML hand-written digits datasets\n",
      "https://archive.ics.uci.edu/ml/datasets/Optical+Recognition+of+Handwritten+Digits\n",
      "\n",
      "The data set contains images of hand-written digits: 10 classes where\n",
      "each class refers to a digit.\n",
      "\n",
      "Preprocessing programs made available by NIST were used to extract\n",
      "normalized bitmaps of handwritten digits from a preprinted form. From a\n",
      "total of 43 people, 30 contributed to the training set and different 13\n",
      "to the test set. 32x32 bitmaps are divided into nonoverlapping blocks of\n",
      "4x4 and the number of on pixels are counted in each block. This generates\n",
      "an input matrix of 8x8 where each element is an integer in the range\n",
      "0..16. This reduces dimensionality and gives invariance to small\n",
      "distortions.\n",
      "\n",
      "For info on NIST preprocessing routines, see M. D. Garris, J. L. Blue, G.\n",
      "T. Candela, D. L. Dimmick, J. Geist, P. J. Grother, S. A. Janet, and C.\n",
      "L. Wilson, NIST Form-Based Handprint Recognition System, NISTIR 5469,\n",
      "1994.\n",
      "\n",
      ".. topic:: References\n",
      "\n",
      "  - C. Kaynak (1995) Methods of Combining Multiple Classifiers and Their\n",
      "    Applications to Handwritten Digit Recognition, MSc Thesis, Institute of\n",
      "    Graduate Studies in Science and Engineering, Bogazici University.\n",
      "  - E. Alpaydin, C. Kaynak (1998) Cascading Classifiers, Kybernetika.\n",
      "  - Ken Tang and Ponnuthurai N. Suganthan and Xi Yao and A. Kai Qin.\n",
      "    Linear dimensionalityreduction using relevance weighted LDA. School of\n",
      "    Electrical and Electronic Engineering Nanyang Technological University.\n",
      "    2005.\n",
      "  - Claudio Gentile. A New Approximate Maximal Margin Classification\n",
      "    Algorithm. NIPS. 2000.\n",
      "\n"
     ]
    }
   ],
   "source": [
    "print(digits.target_names)\n",
    "print(digits.feature_names)\n",
    "# print(digits.filename)\n",
    "print(digits.DESCR)"
   ]
  },
  {
   "cell_type": "markdown",
   "id": "cb4a6674",
   "metadata": {},
   "source": [
    " - line 1 : label들의 이름을 출력합니다.\n",
    " 방금 언급했듯 label은 $\\{0,1,2,3,4,5,6,7,8,9\\}$의 원소입니다.\n",
    " - line 2 : feature들의 이름을 출력합니다.\n",
    " 위에 언급했듯, feature들은 $8\\times8$의 그림파일의 각 픽셀값을 나타냅니다. 그걸 반영하듯 feature의 이름들이 `'pixel_2_3'`와 같이 되어 있습니다.\n",
    " 좌표 (2,3)의 픽셀값이라는 뜻입니다.\n",
    " 픽셀값이 0이면 해당 픽셀이 검은색을 나타내고 픽셀값이 높아질수록 흰색에 가까운 색을 나타냅니다.\n",
    " - line 3 : 2번 셀에서 말했듯 `filename`은 불러올 수 없습니다.\n",
    " - line 4 : `digits` dataset에 대한 상세한 정보를 출력합니다."
   ]
  },
  {
   "cell_type": "markdown",
   "id": "1c79c43e",
   "metadata": {},
   "source": [
    "## 1.4. train, test 데이터 분리"
   ]
  },
  {
   "cell_type": "code",
   "execution_count": 8,
   "id": "daf71eb4",
   "metadata": {},
   "outputs": [],
   "source": [
    "X_train, X_test, y_train, y_test = train_test_split(digits_data, digits_label, test_size=0.2, random_state=1)"
   ]
  },
  {
   "cell_type": "markdown",
   "id": "a7e120e8",
   "metadata": {},
   "source": [
    "`digits_data`, `digits_label`을 각각 8:2의 비율로 잘라, training set과 test set으로 나눕니다.\n",
    " - `digits_data` → `X_train`, `X_test`\n",
    " - `digits_label` → `y_train`, `y_test`"
   ]
  },
  {
   "cell_type": "code",
   "execution_count": 9,
   "id": "d423f68e",
   "metadata": {
    "scrolled": true
   },
   "outputs": [
    {
     "name": "stdout",
     "output_type": "stream",
     "text": [
      "<class 'numpy.ndarray'>\n",
      "(1437, 64)\n",
      "[ 0.  0.  0.  2. 15.  8.  0.  0.  0.  0.  1. 15. 13.  3.  0.  0.  0.  0.\n",
      "  9. 13.  1.  0.  0.  0.  0.  1. 15.  6.  0.  5. 11.  0.  0.  7. 14.  0.\n",
      "  1. 15.  8.  0.  0.  8. 15.  9. 15. 16.  3.  0.  0.  1. 11. 16. 16. 10.\n",
      "  0.  0.  0.  0.  0.  2. 15.  5.  0.  0.]\n",
      "<class 'numpy.ndarray'>\n",
      "(360, 64)\n",
      "[ 0.  0.  6. 16. 11.  0.  0.  0.  0.  0.  9. 16. 16.  5.  0.  0.  0.  0.\n",
      "  8. 16. 16.  4.  0.  0.  0.  0. 10. 16. 13.  0.  0.  0.  0.  0. 13. 16.\n",
      " 12.  0.  0.  0.  0.  0. 10. 16.  9.  0.  0.  0.  0.  0.  9. 16. 10.  0.\n",
      "  0.  0.  0.  0.  4. 15. 16.  3.  0.  0.]\n",
      "<class 'numpy.ndarray'>\n",
      "(1437,)\n",
      "4\n",
      "<class 'numpy.ndarray'>\n",
      "(360,)\n",
      "1\n"
     ]
    }
   ],
   "source": [
    "print(type(X_train))\n",
    "print(X_train.shape)\n",
    "print(X_train[0])\n",
    "\n",
    "print(type(X_test))\n",
    "print(X_test.shape)\n",
    "print(X_test[0])\n",
    "\n",
    "print(type(y_train))\n",
    "print(y_train.shape)\n",
    "print(y_train[0])\n",
    "\n",
    "print(type(y_test))\n",
    "print(y_test.shape)\n",
    "print(y_test[0])"
   ]
  },
  {
   "cell_type": "markdown",
   "id": "b57b6ab4",
   "metadata": {},
   "source": [
    "네 개의 서로다른 `np.array`들에 대하여 타입과 shape, 첫번째 요소를 출력해봅니다.\n",
    " - line 1 ~ 3 : `X_train`은 $1437\\times 64$ 형태의 행렬입니다.\n",
    " 열의 개수, 즉 feature의 개수는 당연히 64로 일정하고 행의 개수는 1797에서 1437개로 약 80%가 되었습니다.\n",
    " 정확히 계산해보면 $1797\\times 0.8=1437.6$이므로 1797에 0.8을 곱한 후 `floor()`같은 것을 씌워 정수부분만 출력한 듯합니다.\n",
    " [공식문서](https://scikit-learn.org/stable/modules/generated/sklearn.model_selection.train_test_split.html)에는 정확히 나와있지 않습니다.\n",
    " - line 5 ~ 7 : `X_test`은 $360\\times 64$ 형태의 행렬입니다.\n",
    " - line 9 ~ 11 : `y_train`은 1437차원의 벡터입니다.\n",
    " - line 13 ~ 15 : `y_test`은 360차원의 벡터입니다."
   ]
  },
  {
   "cell_type": "code",
   "execution_count": 10,
   "id": "62266dab",
   "metadata": {
    "scrolled": true
   },
   "outputs": [
    {
     "name": "stdout",
     "output_type": "stream",
     "text": [
      "1437.6000000000001\n",
      "1437.0\n"
     ]
    }
   ],
   "source": [
    "print(1797*0.8)\n",
    "print(np.floor(1797*0.8))"
   ]
  },
  {
   "cell_type": "markdown",
   "id": "52426fe7",
   "metadata": {},
   "source": [
    "### 표준화(standardization)"
   ]
  },
  {
   "cell_type": "markdown",
   "id": "13b1d8ec",
   "metadata": {},
   "source": [
    "표준화(zscore, standardization)를 진행시킵니다.\n",
    "일부 모델의 경우 학습시 경고문구가 뜨기 때문에 하게 되었습니다.\n",
    "표준화해놓은 데이터를 만들어놓고 `_stan`이라는 접두어를 붙여 저장해놓았습니다.\n",
    "`X_train`의 평균과 표준편차를 계산한 후, `X_train`과 `X_test` 모두에 대하여 표준화했습니다.\n",
    "(`X_test`을 표준화할 때에도 `X_train`을 표준화할 때와 똑같이 해야 합니다.)"
   ]
  },
  {
   "cell_type": "code",
   "execution_count": 11,
   "id": "57f80c8b",
   "metadata": {},
   "outputs": [
    {
     "name": "stdout",
     "output_type": "stream",
     "text": [
      "[0.00000000e+00 3.04105776e-01 5.23312457e+00 1.18559499e+01\n",
      " 1.18469033e+01 5.78705637e+00 1.41057759e+00 1.28740431e-01\n",
      " 3.47947112e-03 1.97494781e+00 1.04272791e+01 1.20508003e+01\n",
      " 1.03145442e+01 8.15100905e+00 1.87265136e+00 1.07863605e-01\n",
      " 2.78357690e-03 2.57967989e+00 9.95685456e+00 7.08907446e+00\n",
      " 7.16144746e+00 7.85316632e+00 1.79610299e+00 5.01043841e-02\n",
      " 1.39178845e-03 2.48712596e+00 9.05288796e+00 8.90953375e+00\n",
      " 1.00981211e+01 7.50034795e+00 2.27696590e+00 1.39178845e-03\n",
      " 0.00000000e+00 2.30688935e+00 7.68823939e+00 9.25400139e+00\n",
      " 1.03799582e+01 8.64509395e+00 2.86430063e+00 0.00000000e+00\n",
      " 9.04662491e-03 1.51078636e+00 6.86778010e+00 7.33472512e+00\n",
      " 7.66597077e+00 8.10160056e+00 3.46068198e+00 2.71398747e-02\n",
      " 9.04662491e-03 6.96590118e-01 7.42171190e+00 9.62073765e+00\n",
      " 9.39665971e+00 8.64300626e+00 3.73764788e+00 2.01113431e-01\n",
      " 6.95894224e-04 2.86012526e-01 5.55671538e+00 1.21183020e+01\n",
      " 1.17153793e+01 6.69102296e+00 2.05567154e+00 3.47251218e-01]\n",
      "[1.         0.90544851 4.75663133 4.2304182  4.26230412 5.70150814\n",
      " 3.38687951 0.9944813  0.06970762 3.14430239 5.42114026 3.93185619\n",
      " 4.76765853 6.02004487 3.57888488 0.82001797 0.06455708 3.52820691\n",
      " 5.67400922 5.79723487 6.14375141 6.20020978 3.28502837 0.42240034\n",
      " 0.03728071 3.18759467 6.20985257 5.83693036 6.08219992 5.88779625\n",
      " 3.65412871 0.03728071 1.         3.43076078 6.3013144  6.25420051\n",
      " 5.89519595 5.9114904  3.51916303 1.         0.15580262 2.86425464\n",
      " 6.52498427 6.43732144 6.21498772 5.74542063 4.34627065 0.29838529\n",
      " 0.22827664 1.73420164 5.64136    5.23865391 5.29544019 6.0743401\n",
      " 4.94535858 0.96308995 0.02637063 0.93989474 5.09892587 4.33270875\n",
      " 4.9717777  5.90900697 4.06981063 1.79493636]\n"
     ]
    }
   ],
   "source": [
    "scaler = preprocessing.StandardScaler().fit(X_train)\n",
    "print(scaler.mean_)\n",
    "print(scaler.scale_)"
   ]
  },
  {
   "cell_type": "code",
   "execution_count": 12,
   "id": "f49a1625",
   "metadata": {},
   "outputs": [],
   "source": [
    "X_train_stan = scaler.transform(X_train)\n",
    "X_test_stan = scaler.transform(X_test)"
   ]
  },
  {
   "cell_type": "code",
   "execution_count": 13,
   "id": "6bb5d21d",
   "metadata": {},
   "outputs": [
    {
     "name": "stdout",
     "output_type": "stream",
     "text": [
      "<class 'numpy.ndarray'>\n",
      "(1437, 64)\n",
      "[ 0.         -0.33586203 -1.10017452 -2.32978146  0.73976343  0.38813303\n",
      " -0.41648296 -0.12945485 -0.04991522 -0.62810365 -1.73898453  0.75007823\n",
      "  0.56326513 -0.85564297 -0.52324996 -0.1315381  -0.04311807 -0.7311589\n",
      " -0.16863817  1.01961119 -1.00288033 -1.26659687 -0.54675418 -0.11861824\n",
      " -0.03733267 -0.46653546  0.95768973 -0.49846984 -1.66027444 -0.42466618\n",
      "  2.3871721  -0.03733267  0.          1.36795042  1.00165778 -1.47964578\n",
      " -1.59111899  1.07500911  1.4593525   0.         -0.05806465  2.26558545\n",
      "  1.24632023  0.25869065  1.1800553   1.37472954 -0.10599477 -0.09095581\n",
      " -0.03963009  0.17495652  0.63429529  1.2177293   1.2469861   0.22339772\n",
      " -0.75578905 -0.20882103 -0.02638899 -0.30430272 -1.08978156 -2.33532938\n",
      "  0.66065318 -0.28617718 -0.5051025  -0.19346158]\n",
      "<class 'numpy.ndarray'>\n",
      "(360, 64)\n",
      "[ 0.         -0.33586203  0.16122238  0.97958403 -0.19869612 -1.01500449\n",
      " -0.41648296 -0.12945485 -0.04991522 -0.62810365 -0.26328023  1.00441103\n",
      "  1.19250483 -0.52341953 -0.52324996 -0.1315381  -0.04311807 -0.7311589\n",
      " -0.3448804   1.53709928  1.4386247  -0.62145741 -0.54675418 -0.11861824\n",
      " -0.03733267 -0.78025164  0.15251764  1.21475944  0.47711008 -1.27388035\n",
      " -0.62312143 -0.03733267  0.         -0.67241335  0.84296073  1.07863485\n",
      "  0.27480711 -1.46242206 -0.8139153   0.         -0.05806465 -0.52746231\n",
      "  0.48003486  1.34609945  0.21464712 -1.41009703 -0.79624171 -0.09095581\n",
      " -0.03963009 -0.4016777   0.27977085  1.2177293   0.11393581 -1.42287164\n",
      " -0.75578905 -0.20882103 -0.02638899 -0.30430272 -0.30530261  0.66510309\n",
      "  0.86178848 -0.62464353 -0.5051025  -0.19346158]\n"
     ]
    }
   ],
   "source": [
    "print(type(X_train_stan))\n",
    "print(X_train_stan.shape)\n",
    "print(X_train_stan[0])\n",
    "\n",
    "print(type(X_test_stan))\n",
    "print(X_test_stan.shape)\n",
    "print(X_test_stan[0])"
   ]
  },
  {
   "cell_type": "markdown",
   "id": "cc272474",
   "metadata": {},
   "source": [
    "### 정규화(normalization)"
   ]
  },
  {
   "cell_type": "markdown",
   "id": "cd3ced07",
   "metadata": {},
   "source": [
    "정규화(minmax, normalization)를 진행시킵니다.\n",
    "일부 모델의 경우 학습시 경고문구가 뜨기 때문에 하게 되었습니다.\n",
    "정규화해놓은 데이터를 만들어놓고 `_norm`이라는 접두어를 붙여 저장해놓았습니다.\n",
    "`X_train`의 최솟값과 최댓값을 계산한 후, `X_train`과 `X_test` 모두에 대하여 정규화했습니다.\n",
    "(`X_test`을 정규화할 때에도 `X_train`을 정규화할 때와 똑같이 해야 합니다.)\n",
    "따라서 정규화해놓은 `X_test`의 값들은 0과 1사이의 범위를 넘어설 수 있습니다."
   ]
  },
  {
   "cell_type": "code",
   "execution_count": 14,
   "id": "cfa55b09",
   "metadata": {},
   "outputs": [
    {
     "data": {
      "text/plain": [
       "array([[0.    , 0.    , 0.    , ..., 0.3125, 0.    , 0.    ],\n",
       "       [0.    , 0.    , 0.    , ..., 0.    , 0.    , 0.    ],\n",
       "       [0.    , 0.    , 0.    , ..., 0.8125, 0.75  , 0.125 ],\n",
       "       ...,\n",
       "       [0.    , 0.    , 0.4375, ..., 0.8125, 0.125 , 0.    ],\n",
       "       [0.    , 0.    , 0.    , ..., 1.    , 0.0625, 0.    ],\n",
       "       [0.    , 0.    , 0.5   , ..., 0.    , 0.    , 0.    ]])"
      ]
     },
     "execution_count": 14,
     "metadata": {},
     "output_type": "execute_result"
    }
   ],
   "source": [
    "min_max_scaler = preprocessing.MinMaxScaler()\n",
    "X_train_norm = min_max_scaler.fit_transform(X_train)\n",
    "X_train_norm"
   ]
  },
  {
   "cell_type": "code",
   "execution_count": 15,
   "id": "3d23f997",
   "metadata": {},
   "outputs": [
    {
     "data": {
      "text/plain": [
       "array([[0.    , 0.    , 0.375 , ..., 0.1875, 0.    , 0.    ],\n",
       "       [0.    , 1.    , 0.8125, ..., 0.    , 0.    , 0.    ],\n",
       "       [0.    , 0.    , 0.25  , ..., 0.375 , 0.    , 0.    ],\n",
       "       ...,\n",
       "       [0.    , 0.    , 0.    , ..., 0.0625, 0.    , 0.    ],\n",
       "       [0.    , 0.375 , 0.9375, ..., 1.    , 1.    , 0.125 ],\n",
       "       [0.    , 0.    , 0.5   , ..., 0.    , 0.    , 0.    ]])"
      ]
     },
     "execution_count": 15,
     "metadata": {},
     "output_type": "execute_result"
    }
   ],
   "source": [
    "X_test_norm = min_max_scaler.transform(X_test)\n",
    "X_test_norm"
   ]
  },
  {
   "cell_type": "markdown",
   "id": "79e50842",
   "metadata": {},
   "source": [
    "## 1.5. 다양한 모델로 학습시켜보기"
   ]
  },
  {
   "cell_type": "markdown",
   "id": "a08320c9",
   "metadata": {},
   "source": [
    "여기에서는 다섯 개의 모델\n",
    " - decision tree classifier # _dt\n",
    " - random forest classifier # _rf\n",
    " - support vector machine # _svm\n",
    " - stochastic gradient descent classfier # sgd\n",
    " - logistic regression # _lr\n",
    " \n",
    "을 가지고 학습을 진행시키고, 그 결과로 여러 평가지표를 얻는 작업을 수행합니다.\n",
    "평가지표는 `y_pred_dt`와 같은 이름으로 출력됩니다.\n",
    "이때, 각각의 모델들에 따라 `y_pred`의 뒤에 접두어를 붙였습니다.\n",
    "예를 들어, `_dt`는 decision tree라는 뜻입니다.\n",
    " \n",
    "<!-- 이 과정을 앞으로 세 번 반복할 것이고, 또 어차피 결과적으로\n",
    " - `y_pred_dt`\n",
    " - `y_pred_rf`\n",
    " - `y_pred_svm`\n",
    " - `y_pred_sgd`\n",
    " - `y_pred_lr`\n",
    "\n",
    "의 다섯개만 잘 출력하면 되므로 이 과정을 하나의 함수 `get_y_pred`로 지정해놓았습니다. -->"
   ]
  },
  {
   "cell_type": "code",
   "execution_count": 16,
   "id": "e2a36597",
   "metadata": {},
   "outputs": [],
   "source": [
    "# decision tree\n",
    "# _dt\n",
    "decision_tree = DecisionTreeClassifier(random_state=1)\n",
    "decision_tree.fit(X_train, y_train)\n",
    "y_pred_dt = decision_tree.predict(X_test)"
   ]
  },
  {
   "cell_type": "code",
   "execution_count": 17,
   "id": "7e282d98",
   "metadata": {},
   "outputs": [],
   "source": [
    "# random forest\n",
    "# _rf\n",
    "random_forest = RandomForestClassifier(random_state=1)\n",
    "random_forest.fit(X_train, y_train)\n",
    "y_pred_rf = random_forest.predict(X_test)"
   ]
  },
  {
   "cell_type": "code",
   "execution_count": 18,
   "id": "01565cca",
   "metadata": {},
   "outputs": [],
   "source": [
    "# support vector machine\n",
    "# _svm\n",
    "svm_model = svm.SVC(random_state=1)\n",
    "svm_model.fit(X_train, y_train)\n",
    "y_pred_svm = svm_model.predict(X_test)"
   ]
  },
  {
   "cell_type": "code",
   "execution_count": 19,
   "id": "57079754",
   "metadata": {},
   "outputs": [],
   "source": [
    "# stochastic gradient descent classifier\n",
    "# sgd\n",
    "sgd_model = SGDClassifier(random_state=1)\n",
    "sgd_model.fit(X_train, y_train)\n",
    "y_pred_sgd = sgd_model.predict(X_test)"
   ]
  },
  {
   "cell_type": "code",
   "execution_count": 20,
   "id": "9f42c4aa",
   "metadata": {
    "scrolled": false
   },
   "outputs": [
    {
     "name": "stderr",
     "output_type": "stream",
     "text": [
      "/opt/conda/lib/python3.9/site-packages/sklearn/linear_model/_logistic.py:814: ConvergenceWarning: lbfgs failed to converge (status=1):\n",
      "STOP: TOTAL NO. of ITERATIONS REACHED LIMIT.\n",
      "\n",
      "Increase the number of iterations (max_iter) or scale the data as shown in:\n",
      "    https://scikit-learn.org/stable/modules/preprocessing.html\n",
      "Please also refer to the documentation for alternative solver options:\n",
      "    https://scikit-learn.org/stable/modules/linear_model.html#logistic-regression\n",
      "  n_iter_i = _check_optimize_result(\n"
     ]
    }
   ],
   "source": [
    "# logistic regerssion\n",
    "# _lr\n",
    "logistic_model = LogisticRegression() # convergence warning\n",
    "logistic_model.fit(X_train, y_train)\n",
    "y_pred_lr = logistic_model.predict(X_test) \n",
    "\n",
    "# logistic_model = LogisticRegression() # no convergence warning\n",
    "# logistic_model.fit(X_train_stan, y_train)\n",
    "# y_pred_lr = logistic_model.predict(X_test_stan) \n",
    "\n",
    "# logistic_model = LogisticRegression() # convergence warning\n",
    "# logistic_model.fit(X_train_norm, y_train)\n",
    "# y_pred_lr = logistic_model.predict(X_test_norm)"
   ]
  },
  {
   "cell_type": "markdown",
   "id": "22764deb",
   "metadata": {},
   "source": [
    " - `random_state` logistic regession을 제외한 각각의 모델들은 어느 정도의 임의성(randomness)을 수반합니다.\n",
    " 그 임의성은 각 알고리즘마다 작용되는 원리가 다 다릅니다.\n",
    " 예를 들어 `RandomForestClassifier`의 `random_state`에 관해서는 [다음과 같은 설명](https://scikit-learn.org/stable/modules/generated/sklearn.ensemble.RandomForestClassifier.html)을 찾을 수 있는 반면\n",
    " > Controls both the randomness of the bootstrapping of the samples used when building trees and the sampling of the features to consider when looking for the best split at each node\n",
    " \n",
    " `SGDClassifier`에 관해서는 [다른 설명](https://scikit-learn.org/stable/modules/generated/sklearn.linear_model.SGDClassifier.html)이 검색됩니다.\n",
    " > Used for shuffling the data, when shuffle is set to `True`.\n",
    " 정확히 말하면, `LogisticRegression` 모델도 `random_state`라는 인자를 갖기는 하지만, [사실상 사용되지 않는다고도 합니다.](https://github.com/scikit-learn/scikit-learn/issues/4760)\n",
    " \n",
    " - `LogisticRegression` 모델에 대해서는 기존과는 다른 데이터(`X_train_stan`, `X_test_stan`)를 넣었습니다.\n",
    " 이것들은 기존의 `X_train`과 `X_test`에 standardization을 적용한 결과입니다.\n",
    " 이렇게 넣은 이유는, 그냥 `X_train`과 `X_test`를 넣었을 때에 다음과 같은 경고 메시지가 뜨기 때문이었습니다.\n",
    " ```\n",
    " /opt/conda/lib/python3.9/site-packages/sklearn/linear_model/_logistic.py:814: ConvergenceWarning: lbfgs failed to converge (status=1):\n",
    "STOP: TOTAL NO. of ITERATIONS REACHED LIMIT.\n",
    "Increase the number of iterations (max_iter) or scale the data as shown in:\n",
    "    https://scikit-learn.org/stable/modules/preprocessing.html\n",
    "Please also refer to the documentation for alternative solver options:\n",
    "    https://scikit-learn.org/stable/modules/linear_model.html#logistic-regression\n",
    "  n_iter_i = _check_optimize_result(\n",
    " ```\n",
    " \n",
    " 같은 조의 한용님의 조언에 따라 standardization을 수행하여 `X_train_stan`과 `X_test_stan`을 넣으면, 경고 메시지가 더이상 뜨지 않습니다.\n",
    " 반면, normalization의 경우에는 여전히 경고 메시지가 뜹니다.\n",
    " 하지만, 다른 모델들과의 형평성을 위해 standardization과 normalization을 수행하지 않은 결과만을 출력했습니다.\n",
    " (다른 것들은 주석처리했습니다.)"
   ]
  },
  {
   "cell_type": "markdown",
   "id": "4873db85",
   "metadata": {},
   "source": [
    "## 1.6. 모델을 평가해보기"
   ]
  },
  {
   "cell_type": "markdown",
   "id": "b54c80e8",
   "metadata": {},
   "source": [
    " - 다섯 개의 모델들에 대하여 일단 confusion matrix를 그렸습니다.\n",
    " 그리는 데에는 `ConfusionMatrixDisplay`라는 메소드를 사용했습니다.\n",
    " - 이것보다 조금 더 잘 시각화할 수 있을 것 같은데, 그렇게 하지 못했습니다.\n",
    " 더 정확하게 말하면, `plt.subplot(3,2,n)`과 같은 형식으로 한번에 다섯 개의 confusion matrix를 그려보려고 했지만, 실패했습니다.\n",
    " `plot_confusion_matrix`를 사용하면 `plt.subplot(3,2,n)`와 같이 쓰는 것이 가능한데, `plot_confusion_matrix` 자체가 deprecated 될 예정이어서 사용하지 않았습니다.\n",
    " - `ConfusionMatrixDisplay`는 `display_labels`라는 인자를 따로 받습니다.\n",
    " 그런데 특별히 `digits` 데이터셋의 경우에는, 라벨들이 다름아닌 0, 1, 2, 3, 4, 5, 6, 7, 8, 9이므로, `display_labels`를 지정한 것과 지정하지 않은 것에 차이가 없었고, 따라서 지정하지 않았습니다."
   ]
  },
  {
   "cell_type": "code",
   "execution_count": 21,
   "id": "2af6a75d",
   "metadata": {},
   "outputs": [
    {
     "data": {
      "text/plain": [
       "Text(0.5, 1.0, 'linear regression')"
      ]
     },
     "execution_count": 21,
     "metadata": {},
     "output_type": "execute_result"
    },
    {
     "data": {
      "image/png": "[encoded data removed]",
      "text/plain": [
       "<Figure size 432x288 with 2 Axes>"
      ]
     },
     "metadata": {
      "needs_background": "light"
     },
     "output_type": "display_data"
    },
    {
     "data": {
      "image/png": "[encoded data removed]",
      "text/plain": [
       "<Figure size 432x288 with 2 Axes>"
      ]
     },
     "metadata": {
      "needs_background": "light"
     },
     "output_type": "display_data"
    },
    {
     "data": {
      "image/png": "[encoded data removed]",
      "text/plain": [
       "<Figure size 432x288 with 2 Axes>"
      ]
     },
     "metadata": {
      "needs_background": "light"
     },
     "output_type": "display_data"
    },
    {
     "data": {
      "image/png": "[encoded data removed]",
      "text/plain": [
       "<Figure size 432x288 with 2 Axes>"
      ]
     },
     "metadata": {
      "needs_background": "light"
     },
     "output_type": "display_data"
    },
    {
     "data": {
      "image/png": "[encoded data removed]",
      "text/plain": [
       "<Figure size 432x288 with 2 Axes>"
      ]
     },
     "metadata": {
      "needs_background": "light"
     },
     "output_type": "display_data"
    }
   ],
   "source": [
    "cm = confusion_matrix(y_test,y_pred_dt)\n",
    "display = ConfusionMatrixDisplay(confusion_matrix = cm)\n",
    "display.plot()\n",
    "plt.title('decision tree')\n",
    "\n",
    "cm = confusion_matrix(y_test,y_pred_rf)\n",
    "display = ConfusionMatrixDisplay(confusion_matrix = cm)\n",
    "display.plot()\n",
    "plt.title('random forest')\n",
    "\n",
    "cm = confusion_matrix(y_test,y_pred_svm)\n",
    "display = ConfusionMatrixDisplay(confusion_matrix = cm)\n",
    "display.plot()\n",
    "plt.title('support vector machine')\n",
    "\n",
    "cm = confusion_matrix(y_test,y_pred_sgd)\n",
    "display = ConfusionMatrixDisplay(confusion_matrix = cm)\n",
    "display.plot()\n",
    "plt.title('stochastic gradient descent')\n",
    "\n",
    "cm = confusion_matrix(y_test,y_pred_lr)\n",
    "display = ConfusionMatrixDisplay(confusion_matrix = cm)\n",
    "display.plot()\n",
    "plt.title('linear regression')"
   ]
  },
  {
   "cell_type": "markdown",
   "id": "4496bbca",
   "metadata": {},
   "source": [
    " - `digits` 데이터셋의 경우 다중분류문제입니다. 이 데이터셋에 대한 모델이 \"은행 창구의 비밀번호 입력\"과 같은 절차에 사용된다고 할 때, FP의 경우가 발생하는 것이 치명적입니다. 다시 말해, 비밀번호가 실제로 3인데, 다른 숫자나 다른 모양이 입력되었는데도 불구하고(actual negative), 우리 모델이 그것을 3으로 인식하는(predicted positive) 경우에는 심각한 보안상의 문제가 발생할 수 있습니다. 따라서 FP를 막기 위해 precision을 사용해야 한다고 보았습니다. 다만, 여기서의 precision의 의미는, 다중분류에서의 precision이므로, macro-precision이나 weighted precision을 고려해야 한다고 봤습니다. 한편, 다중분류이니만큼, 전체적인 상황을 아울러서 평가할 수 있는 Cohen's kappa를 사용하는 것도 괜찮은 대안이라고 보았습니다.\n",
    " - 따라서 아래 코드에, 세 개의 평가지표 **macro precision**, **weighted precision**, **Cohen's kappa**를 출력했습니다.\n",
    " 그리고 참고하기 위해어 accuracy도 적어놓았습니다.\n",
    " 아래 결과에 따르면, 세 지표에 대하여 모두 **support vector machine**이 가장 좋은 성능을 내고 있음을 알 수 있습니다."
   ]
  },
  {
   "cell_type": "code",
   "execution_count": 22,
   "id": "3addb3f8",
   "metadata": {
    "scrolled": false
   },
   "outputs": [
    {
     "name": "stdout",
     "output_type": "stream",
     "text": [
      "model                          macro precision      weighted precision   Cohen' kappa         accuracy            \n",
      "decision tree                  0.8367               0.8402               0.8208               0.8389              \n",
      "random forest                  0.9837               0.9838               0.9815               0.9833              \n",
      "support vector machine         0.9911               0.9919               0.9907               0.8389              \n",
      "stochastic gradient descent    0.9508               0.9581               0.9413               0.9472              \n",
      "linear regression              0.9690               0.9705               0.9660               0.9694              \n"
     ]
    }
   ],
   "source": [
    "print('{0:<30} {1:<20} {2:<20} {3:<20} {4:<20}'.format('model',\n",
    "      'macro precision','weighted precision','Cohen\\' kappa','accuracy'))\n",
    "print('{0:<30} {1:<20.4f} {2:<20.4f} {3:<20.4f} {4:<20.4f}'.format('decision tree',\n",
    "      precision_score(y_test, y_pred_dt, average='macro'),\n",
    "      precision_score(y_test, y_pred_dt, average='weighted'),\n",
    "      cohen_kappa_score(y_test,y_pred_dt),\n",
    "      accuracy_score(y_test,y_pred_dt)))\n",
    "print('{0:<30} {1:<20.4f} {2:<20.4f} {3:<20.4f} {4:<20.4f}'.format('random forest',\n",
    "      precision_score(y_test, y_pred_rf, average='macro'),\n",
    "      precision_score(y_test, y_pred_rf, average='weighted'),\n",
    "      cohen_kappa_score(y_test,y_pred_rf),\n",
    "      accuracy_score(y_test,y_pred_rf)))\n",
    "print('{0:<30} {1:<20.4f} {2:<20.4f} {3:<20.4f} {4:<20.4f}'.format('support vector machine',\n",
    "      precision_score(y_test, y_pred_svm, average='macro'),\n",
    "      precision_score(y_test, y_pred_svm, average='weighted'),\n",
    "      cohen_kappa_score(y_test,y_pred_svm),\n",
    "      accuracy_score(y_test,y_pred_dt)))\n",
    "print('{0:<30} {1:<20.4f} {2:<20.4f} {3:<20.4f} {4:<20.4f}'.format('stochastic gradient descent',\n",
    "      precision_score(y_test, y_pred_sgd, average='macro'),\n",
    "      precision_score(y_test, y_pred_sgd, average='weighted'),\n",
    "      cohen_kappa_score(y_test,y_pred_sgd),\n",
    "      accuracy_score(y_test,y_pred_sgd)))\n",
    "print('{0:<30} {1:<20.4f} {2:<20.4f} {3:<20.4f} {4:<20.4f}'.format('linear regression',\n",
    "      precision_score(y_test, y_pred_lr, average='macro'),\n",
    "      precision_score(y_test, y_pred_lr, average='weighted'),\n",
    "      cohen_kappa_score(y_test,y_pred_lr),\n",
    "      accuracy_score(y_test,y_pred_lr)))"
   ]
  },
  {
   "cell_type": "markdown",
   "id": "bc1ca88d",
   "metadata": {},
   "source": [
    "# 2. `wine` dataset"
   ]
  },
  {
   "cell_type": "markdown",
   "id": "61ea201e",
   "metadata": {},
   "source": [
    "## 2.1. 필요한 모듈 import 하기"
   ]
  },
  {
   "cell_type": "code",
   "execution_count": 23,
   "id": "4833dccd",
   "metadata": {},
   "outputs": [],
   "source": [
    "import numpy as np\n",
    "import matplotlib.pyplot as plt\n",
    "\n",
    "from sklearn.datasets import load_wine\n",
    "from sklearn.model_selection import train_test_split\n",
    "from sklearn import preprocessing\n",
    "\n",
    "from sklearn.tree import DecisionTreeClassifier # _dt\n",
    "from sklearn.ensemble import RandomForestClassifier # _rf\n",
    "from sklearn import svm # _svm`\n",
    "from sklearn.linear_model import SGDClassifier, LogisticRegression # _sgd,  _lr\n",
    "\n",
    "from sklearn.metrics import confusion_matrix, ConfusionMatrixDisplay\n",
    "from sklearn.metrics import accuracy_score, f1_score, cohen_kappa_score"
   ]
  },
  {
   "cell_type": "markdown",
   "id": "3aac0002",
   "metadata": {},
   "source": [
    "모듈들을 import합니다.\n",
    " - `digits`에서와 대부분 같습니다.\n",
    " - line 4 : `load_digits`을 불러왔습니다.\n",
    " - line 14 : `f1_score`를 불러왔습니다."
   ]
  },
  {
   "cell_type": "markdown",
   "id": "13226906",
   "metadata": {},
   "source": [
    "## 2.2. 데이터 준비"
   ]
  },
  {
   "cell_type": "code",
   "execution_count": 24,
   "id": "3795dd6f",
   "metadata": {
    "scrolled": false
   },
   "outputs": [
    {
     "name": "stdout",
     "output_type": "stream",
     "text": [
      "<class 'sklearn.utils.Bunch'>\n",
      "['DESCR', 'data', 'feature_names', 'frame', 'target', 'target_names']\n",
      "dict_keys(['data', 'target', 'frame', 'target_names', 'DESCR', 'feature_names'])\n"
     ]
    }
   ],
   "source": [
    "wine = load_wine()\n",
    "print(type(wine))\n",
    "# print(wine)\n",
    "print(dir(wine))\n",
    "print(wine.keys())"
   ]
  },
  {
   "cell_type": "markdown",
   "id": "beec4194",
   "metadata": {},
   "source": [
    " - `digits`에서와 같습니다."
   ]
  },
  {
   "cell_type": "markdown",
   "id": "100aa460",
   "metadata": {},
   "source": [
    "## 2.3. 데이터 이해하기"
   ]
  },
  {
   "cell_type": "code",
   "execution_count": 25,
   "id": "14111c31",
   "metadata": {},
   "outputs": [],
   "source": [
    "wine_data = wine.data\n",
    "wine_label = wine.target"
   ]
  },
  {
   "cell_type": "markdown",
   "id": "0b9a8c2b",
   "metadata": {},
   "source": [
    "`wine_data`와 `wine_label`을 정의합니다.\n",
    " 각각 input feature와 label의 역할을 하게 될 것들입니다."
   ]
  },
  {
   "cell_type": "code",
   "execution_count": 26,
   "id": "09f9419e",
   "metadata": {
    "scrolled": false
   },
   "outputs": [
    {
     "name": "stdout",
     "output_type": "stream",
     "text": [
      "<class 'numpy.ndarray'>\n",
      "(178, 13)\n",
      "[1.423e+01 1.710e+00 2.430e+00 1.560e+01 1.270e+02 2.800e+00 3.060e+00\n",
      " 2.800e-01 2.290e+00 5.640e+00 1.040e+00 3.920e+00 1.065e+03]\n"
     ]
    }
   ],
   "source": [
    "print(type(wine_data))\n",
    "print(wine_data.shape)\n",
    "print(wine_data[0])"
   ]
  },
  {
   "cell_type": "markdown",
   "id": "1334e8b9",
   "metadata": {},
   "source": [
    "`digits_data`의 타입과 shape, 첫번째 요소를 출력합니다.\n",
    " - line 1 : 타입은 `np.array`입니다.\n",
    " - line 2 : shape으로 보아 $178\\times 13$ 모양의 행렬입니다.\n",
    " 즉, data(sample)의 개수는 178개이고, feature의 개수는 13개입니다.\n",
    " - line 3 : 첫번째 sample을  출력하니 13차원의 벡터가 나옵니다."
   ]
  },
  {
   "cell_type": "code",
   "execution_count": 27,
   "id": "d8ae5129",
   "metadata": {
    "scrolled": true
   },
   "outputs": [
    {
     "name": "stdout",
     "output_type": "stream",
     "text": [
      "<class 'numpy.ndarray'>\n",
      "(178,)\n",
      "0\n"
     ]
    }
   ],
   "source": [
    "print(type(wine_label))\n",
    "print(wine_label.shape)\n",
    "print(wine_label[0])"
   ]
  },
  {
   "cell_type": "markdown",
   "id": "3d5e9e09",
   "metadata": {},
   "source": [
    "`wine_label`의 타입과 shape, 첫번째 요소를 출력합니다.\n",
    " - line 1 : 타입은 `np.array`입니다.\n",
    " - line 2 : shape으로 보아 178 차원의 벡터라고 생각할 수 있습니다.\n",
    " - line 3 : 첫번째 label은 0으로 출력됩니다."
   ]
  },
  {
   "cell_type": "code",
   "execution_count": 28,
   "id": "4c12c479",
   "metadata": {
    "scrolled": true
   },
   "outputs": [
    {
     "name": "stdout",
     "output_type": "stream",
     "text": [
      "['class_0' 'class_1' 'class_2']\n",
      "['alcohol', 'malic_acid', 'ash', 'alcalinity_of_ash', 'magnesium', 'total_phenols', 'flavanoids', 'nonflavanoid_phenols', 'proanthocyanins', 'color_intensity', 'hue', 'od280/od315_of_diluted_wines', 'proline']\n",
      ".. _wine_dataset:\n",
      "\n",
      "Wine recognition dataset\n",
      "------------------------\n",
      "\n",
      "**Data Set Characteristics:**\n",
      "\n",
      "    :Number of Instances: 178 (50 in each of three classes)\n",
      "    :Number of Attributes: 13 numeric, predictive attributes and the class\n",
      "    :Attribute Information:\n",
      " \t\t- Alcohol\n",
      " \t\t- Malic acid\n",
      " \t\t- Ash\n",
      "\t\t- Alcalinity of ash  \n",
      " \t\t- Magnesium\n",
      "\t\t- Total phenols\n",
      " \t\t- Flavanoids\n",
      " \t\t- Nonflavanoid phenols\n",
      " \t\t- Proanthocyanins\n",
      "\t\t- Color intensity\n",
      " \t\t- Hue\n",
      " \t\t- OD280/OD315 of diluted wines\n",
      " \t\t- Proline\n",
      "\n",
      "    - class:\n",
      "            - class_0\n",
      "            - class_1\n",
      "            - class_2\n",
      "\t\t\n",
      "    :Summary Statistics:\n",
      "    \n",
      "    ============================= ==== ===== ======= =====\n",
      "                                   Min   Max   Mean     SD\n",
      "    ============================= ==== ===== ======= =====\n",
      "    Alcohol:                      11.0  14.8    13.0   0.8\n",
      "    Malic Acid:                   0.74  5.80    2.34  1.12\n",
      "    Ash:                          1.36  3.23    2.36  0.27\n",
      "    Alcalinity of Ash:            10.6  30.0    19.5   3.3\n",
      "    Magnesium:                    70.0 162.0    99.7  14.3\n",
      "    Total Phenols:                0.98  3.88    2.29  0.63\n",
      "    Flavanoids:                   0.34  5.08    2.03  1.00\n",
      "    Nonflavanoid Phenols:         0.13  0.66    0.36  0.12\n",
      "    Proanthocyanins:              0.41  3.58    1.59  0.57\n",
      "    Colour Intensity:              1.3  13.0     5.1   2.3\n",
      "    Hue:                          0.48  1.71    0.96  0.23\n",
      "    OD280/OD315 of diluted wines: 1.27  4.00    2.61  0.71\n",
      "    Proline:                       278  1680     746   315\n",
      "    ============================= ==== ===== ======= =====\n",
      "\n",
      "    :Missing Attribute Values: None\n",
      "    :Class Distribution: class_0 (59), class_1 (71), class_2 (48)\n",
      "    :Creator: R.A. Fisher\n",
      "    :Donor: Michael Marshall (MARSHALL%PLU@io.arc.nasa.gov)\n",
      "    :Date: July, 1988\n",
      "\n",
      "This is a copy of UCI ML Wine recognition datasets.\n",
      "https://archive.ics.uci.edu/ml/machine-learning-databases/wine/wine.data\n",
      "\n",
      "The data is the results of a chemical analysis of wines grown in the same\n",
      "region in Italy by three different cultivators. There are thirteen different\n",
      "measurements taken for different constituents found in the three types of\n",
      "wine.\n",
      "\n",
      "Original Owners: \n",
      "\n",
      "Forina, M. et al, PARVUS - \n",
      "An Extendible Package for Data Exploration, Classification and Correlation. \n",
      "Institute of Pharmaceutical and Food Analysis and Technologies,\n",
      "Via Brigata Salerno, 16147 Genoa, Italy.\n",
      "\n",
      "Citation:\n",
      "\n",
      "Lichman, M. (2013). UCI Machine Learning Repository\n",
      "[https://archive.ics.uci.edu/ml]. Irvine, CA: University of California,\n",
      "School of Information and Computer Science. \n",
      "\n",
      ".. topic:: References\n",
      "\n",
      "  (1) S. Aeberhard, D. Coomans and O. de Vel, \n",
      "  Comparison of Classifiers in High Dimensional Settings, \n",
      "  Tech. Rep. no. 92-02, (1992), Dept. of Computer Science and Dept. of  \n",
      "  Mathematics and Statistics, James Cook University of North Queensland. \n",
      "  (Also submitted to Technometrics). \n",
      "\n",
      "  The data was used with many others for comparing various \n",
      "  classifiers. The classes are separable, though only RDA \n",
      "  has achieved 100% correct classification. \n",
      "  (RDA : 100%, QDA 99.4%, LDA 98.9%, 1NN 96.1% (z-transformed data)) \n",
      "  (All results using the leave-one-out technique) \n",
      "\n",
      "  (2) S. Aeberhard, D. Coomans and O. de Vel, \n",
      "  \"THE CLASSIFICATION PERFORMANCE OF RDA\" \n",
      "  Tech. Rep. no. 92-01, (1992), Dept. of Computer Science and Dept. of \n",
      "  Mathematics and Statistics, James Cook University of North Queensland. \n",
      "  (Also submitted to Journal of Chemometrics).\n",
      "\n"
     ]
    }
   ],
   "source": [
    "print(wine.target_names)\n",
    "print(wine.feature_names)\n",
    "# print(wine.filename)\n",
    "print(wine.DESCR)"
   ]
  },
  {
   "cell_type": "markdown",
   "id": "56ac23a4",
   "metadata": {},
   "source": [
    " - line 1 : label들의 이름을 출력합니다.\n",
    " - line 2 : feature들의 이름을 출력합니다.\n",
    " feature의 목록은 다음과 같습니다.\n",
    "    - Alcohol\n",
    " \t- Malic acid\n",
    " \t- Ash\n",
    "\t- Alcalinity of ash  \n",
    " \t- Magnesium\n",
    "\t- Total phenols\n",
    " \t- Flavanoids\n",
    " \t- Nonflavanoid phenols\n",
    " \t- Proanthocyanins\n",
    "\t- Color intensity\n",
    " \t- Hue\n",
    " \t- OD280/OD315 of diluted wines\n",
    " \t- Proline\n",
    " - line 3 : 이번에도 `filename`은 불러올 수 없습니다.\n",
    " - line 4 : `digits` dataset에 대한 상세한 정보를 출력합니다.\n",
    "    - 총 178개의 sample이 있습니다.\n",
    "    - 그 중 59개는 첫번째 품종(cultivator)에, 71개는 두번째 품종에, 48개는 세번째 품종에 속합니다.\n",
    "    - 이 데이터의 label은 해당 sample이 어떤 품종에 속하는가 하는 것입니다.\n",
    "    - 이 데이터의 feature는 포도주에 대한 여러가지 사항들(성분, 색 등)로, 13개의 수치적인 자료로 되어 있습니다. (feature의 개수는 13개입니다.)"
   ]
  },
  {
   "cell_type": "markdown",
   "id": "5a9e737e",
   "metadata": {},
   "source": [
    "## 2.4. train, test 데이터 분리"
   ]
  },
  {
   "cell_type": "code",
   "execution_count": 29,
   "id": "9c93d2ed",
   "metadata": {},
   "outputs": [],
   "source": [
    "X_train, X_test, y_train, y_test = train_test_split(wine_data, wine_label, test_size=0.2, random_state=1)"
   ]
  },
  {
   "cell_type": "markdown",
   "id": "fe2ada82",
   "metadata": {},
   "source": [
    "`wine_data`, `wine_label`을 각각 8:2의 비율로 잘라, training set과 test set으로 나눕니다.\n",
    " - `wine_data` → `X_train`, `X_test`\n",
    " - `wine_label` → `y_train`, `y_test`"
   ]
  },
  {
   "cell_type": "code",
   "execution_count": 30,
   "id": "a806a179",
   "metadata": {
    "scrolled": true
   },
   "outputs": [
    {
     "name": "stdout",
     "output_type": "stream",
     "text": [
      "<class 'numpy.ndarray'>\n",
      "(142, 13)\n",
      "[ 12.     1.51   2.42  22.    86.     1.45   1.25   0.5    1.63   3.6\n",
      "   1.05   2.65 450.  ]\n",
      "<class 'numpy.ndarray'>\n",
      "(36, 13)\n",
      "[1.369e+01 3.260e+00 2.540e+00 2.000e+01 1.070e+02 1.830e+00 5.600e-01\n",
      " 5.000e-01 8.000e-01 5.880e+00 9.600e-01 1.820e+00 6.800e+02]\n",
      "<class 'numpy.ndarray'>\n",
      "(142,)\n",
      "1\n",
      "<class 'numpy.ndarray'>\n",
      "(36,)\n",
      "2\n"
     ]
    }
   ],
   "source": [
    "print(type(X_train))\n",
    "print(X_train.shape)\n",
    "print(X_train[0])\n",
    "\n",
    "print(type(X_test))\n",
    "print(X_test.shape)\n",
    "print(X_test[0])\n",
    "\n",
    "print(type(y_train))\n",
    "print(y_train.shape)\n",
    "print(y_train[0])\n",
    "\n",
    "print(type(y_test))\n",
    "print(y_test.shape)\n",
    "print(y_test[0])"
   ]
  },
  {
   "cell_type": "markdown",
   "id": "917e254b",
   "metadata": {},
   "source": [
    "네 개의 서로다른 `np.array`들에 대하여 타입과 shape, 첫번째 요소를 출력해봅니다.\n",
    " - line 1 ~ 3 : `X_train`은 $142\\times 13$ 형태의 행렬입니다.\n",
    " 즉, training sample의 개수는 142개인데, 이것은 178의 약 80%에 해당하는 값입니다.\n",
    " - line 5 ~ 7 : `X_test`은 $36\\times 13$ 형태의 행렬입니다.\n",
    " - line 9 ~ 11 : `y_train`은 142차원의 벡터입니다.\n",
    " - line 13 ~ 15 : `y_test`은 36차원의 벡터입니다."
   ]
  },
  {
   "cell_type": "code",
   "execution_count": 31,
   "id": "7cfd73d5",
   "metadata": {},
   "outputs": [
    {
     "name": "stdout",
     "output_type": "stream",
     "text": [
      "142.4\n",
      "142.0\n"
     ]
    }
   ],
   "source": [
    "print(178*0.8)\n",
    "print(np.floor(178*0.8))"
   ]
  },
  {
   "cell_type": "markdown",
   "id": "6e8b6c10",
   "metadata": {},
   "source": [
    "표준화와 정규화는 하지 않았습니다."
   ]
  },
  {
   "cell_type": "markdown",
   "id": "6c7299cc",
   "metadata": {},
   "source": [
    "## 2.5. 다양한 모델로 학습시켜보기"
   ]
  },
  {
   "cell_type": "markdown",
   "id": "91ad7a77",
   "metadata": {},
   "source": [
    " - `y_pred_dt`, `y_pred_rf`, `y_pred_svm`, `y_pred_sgd`, `y_pred_lr`을 얻어냅니다.\n",
    " - `digits`에서와 같은 명령어들을 사용했습니다."
   ]
  },
  {
   "cell_type": "code",
   "execution_count": 32,
   "id": "2ef185bf",
   "metadata": {},
   "outputs": [],
   "source": [
    "# decision tree\n",
    "# _dt\n",
    "decision_tree = DecisionTreeClassifier(random_state=1)\n",
    "decision_tree.fit(X_train, y_train)\n",
    "y_pred_dt = decision_tree.predict(X_test)"
   ]
  },
  {
   "cell_type": "code",
   "execution_count": 33,
   "id": "3b78030c",
   "metadata": {},
   "outputs": [],
   "source": [
    "# random forest\n",
    "# _rf\n",
    "random_forest = RandomForestClassifier(random_state=1)\n",
    "random_forest.fit(X_train, y_train)\n",
    "y_pred_rf = random_forest.predict(X_test)"
   ]
  },
  {
   "cell_type": "code",
   "execution_count": 34,
   "id": "e3a0f00c",
   "metadata": {},
   "outputs": [],
   "source": [
    "# support vector machine\n",
    "# _svm\n",
    "svm_model = svm.SVC(random_state=1)\n",
    "svm_model.fit(X_train, y_train)\n",
    "y_pred_svm = svm_model.predict(X_test)"
   ]
  },
  {
   "cell_type": "code",
   "execution_count": 35,
   "id": "84ce7a4e",
   "metadata": {},
   "outputs": [],
   "source": [
    "# stochastic gradient descent classifier\n",
    "# sgd\n",
    "sgd_model = SGDClassifier(random_state=1)\n",
    "sgd_model.fit(X_train, y_train)\n",
    "y_pred_sgd = sgd_model.predict(X_test)"
   ]
  },
  {
   "cell_type": "code",
   "execution_count": 36,
   "id": "627b97ab",
   "metadata": {
    "scrolled": false
   },
   "outputs": [
    {
     "name": "stderr",
     "output_type": "stream",
     "text": [
      "/opt/conda/lib/python3.9/site-packages/sklearn/linear_model/_logistic.py:814: ConvergenceWarning: lbfgs failed to converge (status=1):\n",
      "STOP: TOTAL NO. of ITERATIONS REACHED LIMIT.\n",
      "\n",
      "Increase the number of iterations (max_iter) or scale the data as shown in:\n",
      "    https://scikit-learn.org/stable/modules/preprocessing.html\n",
      "Please also refer to the documentation for alternative solver options:\n",
      "    https://scikit-learn.org/stable/modules/linear_model.html#logistic-regression\n",
      "  n_iter_i = _check_optimize_result(\n"
     ]
    }
   ],
   "source": [
    "# logistic regerssion\n",
    "# _lr\n",
    "logistic_model = LogisticRegression() # convergence warning\n",
    "logistic_model.fit(X_train, y_train)\n",
    "y_pred_lr = logistic_model.predict(X_test)"
   ]
  },
  {
   "cell_type": "markdown",
   "id": "bca34805",
   "metadata": {},
   "source": [
    "## 2.6. 모델을 평가해보기"
   ]
  },
  {
   "cell_type": "markdown",
   "id": "b3dc0640",
   "metadata": {},
   "source": [
    " - 다섯 개의 모델들에 대하여 일단 confusion matrix를 그렸습니다.\n",
    " - `digits`에서와 같은 명령어를 사용했습니다."
   ]
  },
  {
   "cell_type": "code",
   "execution_count": 37,
   "id": "0cb95b95",
   "metadata": {},
   "outputs": [
    {
     "data": {
      "text/plain": [
       "Text(0.5, 1.0, 'linear regression')"
      ]
     },
     "execution_count": 37,
     "metadata": {},
     "output_type": "execute_result"
    },
    {
     "data": {
      "image/png": "[encoded data removed]",
      "text/plain": [
       "<Figure size 432x288 with 2 Axes>"
      ]
     },
     "metadata": {
      "needs_background": "light"
     },
     "output_type": "display_data"
    },
    {
     "data": {
      "image/png": "[encoded data removed]",
      "text/plain": [
       "<Figure size 432x288 with 2 Axes>"
      ]
     },
     "metadata": {
      "needs_background": "light"
     },
     "output_type": "display_data"
    },
    {
     "data": {
      "image/png": "[encoded data removed]",
      "text/plain": [
       "<Figure size 432x288 with 2 Axes>"
      ]
     },
     "metadata": {
      "needs_background": "light"
     },
     "output_type": "display_data"
    },
    {
     "data": {
      "image/png": "[encoded data removed]",
      "text/plain": [
       "<Figure size 432x288 with 2 Axes>"
      ]
     },
     "metadata": {
      "needs_background": "light"
     },
     "output_type": "display_data"
    },
    {
     "data": {
      "image/png": "[encoded data removed]",
      "text/plain": [
       "<Figure size 432x288 with 2 Axes>"
      ]
     },
     "metadata": {
      "needs_background": "light"
     },
     "output_type": "display_data"
    }
   ],
   "source": [
    "cm = confusion_matrix(y_test,y_pred_dt)\n",
    "display = ConfusionMatrixDisplay(confusion_matrix = cm)\n",
    "display.plot()\n",
    "plt.title('decision tree')\n",
    "\n",
    "cm = confusion_matrix(y_test,y_pred_rf)\n",
    "display = ConfusionMatrixDisplay(confusion_matrix = cm)\n",
    "display.plot()\n",
    "plt.title('random forest')\n",
    "\n",
    "cm = confusion_matrix(y_test,y_pred_svm)\n",
    "display = ConfusionMatrixDisplay(confusion_matrix = cm)\n",
    "display.plot()\n",
    "plt.title('support vector machine')\n",
    "\n",
    "cm = confusion_matrix(y_test,y_pred_sgd)\n",
    "display = ConfusionMatrixDisplay(confusion_matrix = cm)\n",
    "display.plot()\n",
    "plt.title('stochastic gradient descent')\n",
    "\n",
    "cm = confusion_matrix(y_test,y_pred_lr)\n",
    "display = ConfusionMatrixDisplay(confusion_matrix = cm)\n",
    "display.plot()\n",
    "plt.title('linear regression')"
   ]
  },
  {
   "cell_type": "markdown",
   "id": "43dc279b",
   "metadata": {},
   "source": [
    " - `wine` 데이터셋의 경우 다중 분류문제입니다.\n",
    " 여기에서는 특별히 FP나 FN이 대단한 피해를 주거나 하는 것이 없습니다.\n",
    " 따라서 이 경우에는 FP와 FN을 골고루 고려하는, 즉, recall과 precision을 골고루 고려하는 F1-score를 사용하는 것이 맞다고 보았습니다.\n",
    " 이번에도, 여기서의 F1-score의 의미는 macro F1-score이나 weighted F1-score입니다.\n",
    " 마찬가지로, 다중분류이니만큼, 전체적인 상황을 아울러서 평가할 수 있는 Cohen's kappa를 사용하는 것도 괜찮은 대안이라고 보았습니다.\n",
    " - 따라서 아래 코드에, 세 개의 평가지표 **macro F1-score**, **weighted F1-score**, **Cohen's kappa**를 출력했습니다.\n",
    " 또한, 참고하기 위하여 accuracy도 적어보았습니다.\n",
    " - 아래 결과에 따르면, 세 지표에 대하여 모두 **random forest**가 가장 좋은 성능을 내고 있음을 알 수 있습니다."
   ]
  },
  {
   "cell_type": "code",
   "execution_count": 38,
   "id": "25e2e27d",
   "metadata": {},
   "outputs": [
    {
     "name": "stdout",
     "output_type": "stream",
     "text": [
      "model                          macro F1-score       weighted F1-score    Cohen' kappa         accuracy            \n",
      "decision tree                  0.8521               0.8600               0.7852               0.8611              \n",
      "random forest                  0.9752               0.9721               0.9576               0.9722              \n",
      "support vector machine         0.5588               0.6130               0.4402               0.8611              \n",
      "stochastic gradient descent    0.5274               0.5942               0.5099               0.6944              \n",
      "linear regression              0.9442               0.9451               0.9150               0.9444              \n"
     ]
    }
   ],
   "source": [
    "print('{0:<30} {1:<20} {2:<20} {3:<20} {4:<20}'.format('model',\n",
    "      'macro F1-score','weighted F1-score','Cohen\\' kappa','accuracy'))\n",
    "print('{0:<30} {1:<20.4f} {2:<20.4f} {3:<20.4f} {4:<20.4f}'.format('decision tree',\n",
    "      f1_score(y_test, y_pred_dt, average='macro'),\n",
    "      f1_score(y_test, y_pred_dt, average='weighted'),\n",
    "      cohen_kappa_score(y_test,y_pred_dt),\n",
    "      accuracy_score(y_test,y_pred_dt)))\n",
    "print('{0:<30} {1:<20.4f} {2:<20.4f} {3:<20.4f} {4:<20.4f}'.format('random forest',\n",
    "      f1_score(y_test, y_pred_rf, average='macro'),\n",
    "      f1_score(y_test, y_pred_rf, average='weighted'),\n",
    "      cohen_kappa_score(y_test,y_pred_rf),\n",
    "      accuracy_score(y_test,y_pred_rf)))\n",
    "print('{0:<30} {1:<20.4f} {2:<20.4f} {3:<20.4f} {4:<20.4f}'.format('support vector machine',\n",
    "      f1_score(y_test, y_pred_svm, average='macro'),\n",
    "      f1_score(y_test, y_pred_svm, average='weighted'),\n",
    "      cohen_kappa_score(y_test,y_pred_svm),\n",
    "      accuracy_score(y_test,y_pred_dt)))\n",
    "print('{0:<30} {1:<20.4f} {2:<20.4f} {3:<20.4f} {4:<20.4f}'.format('stochastic gradient descent',\n",
    "      f1_score(y_test, y_pred_sgd, average='macro'),\n",
    "      f1_score(y_test, y_pred_sgd, average='weighted'),\n",
    "      cohen_kappa_score(y_test,y_pred_sgd),\n",
    "      accuracy_score(y_test,y_pred_sgd)))\n",
    "print('{0:<30} {1:<20.4f} {2:<20.4f} {3:<20.4f} {4:<20.4f}'.format('linear regression',\n",
    "      f1_score(y_test, y_pred_lr, average='macro'),\n",
    "      f1_score(y_test, y_pred_lr, average='weighted'),\n",
    "      cohen_kappa_score(y_test,y_pred_lr),\n",
    "      accuracy_score(y_test,y_pred_lr)))"
   ]
  },
  {
   "cell_type": "markdown",
   "id": "02ac7f02",
   "metadata": {},
   "source": [
    "# 3. `breast_cancer` dataset"
   ]
  },
  {
   "cell_type": "markdown",
   "id": "03d27ae4",
   "metadata": {},
   "source": [
    "## 3.1. 필요한 모듈 import 하기"
   ]
  },
  {
   "cell_type": "code",
   "execution_count": 39,
   "id": "820334e8",
   "metadata": {},
   "outputs": [],
   "source": [
    "import numpy as np\n",
    "import matplotlib.pyplot as plt\n",
    "\n",
    "from sklearn.datasets import load_breast_cancer\n",
    "from sklearn.model_selection import train_test_split\n",
    "from sklearn import preprocessing\n",
    "\n",
    "from sklearn.tree import DecisionTreeClassifier # _dt\n",
    "from sklearn.ensemble import RandomForestClassifier # _rf\n",
    "from sklearn import svm # _svm`\n",
    "from sklearn.linear_model import SGDClassifier, LogisticRegression # _sgd,  _lr\n",
    "\n",
    "from sklearn.metrics import confusion_matrix, ConfusionMatrixDisplay\n",
    "from sklearn.metrics import accuracy_score, recall_score, cohen_kappa_score"
   ]
  },
  {
   "cell_type": "markdown",
   "id": "5e4e269e",
   "metadata": {},
   "source": [
    "모듈들을 import합니다.\n",
    " - `digits`, `wine`에서와 대부분 같습니다.\n",
    " - line 4 : `load_breast_cancer`을 불러왔습니다.\n",
    " - line 14 : `recall_score`를 불러왔습니다."
   ]
  },
  {
   "cell_type": "markdown",
   "id": "738b6e1b",
   "metadata": {},
   "source": [
    "## 3.2. 데이터 준비"
   ]
  },
  {
   "cell_type": "code",
   "execution_count": 40,
   "id": "acf5ad28",
   "metadata": {
    "scrolled": false
   },
   "outputs": [
    {
     "name": "stdout",
     "output_type": "stream",
     "text": [
      "<class 'sklearn.utils.Bunch'>\n",
      "['DESCR', 'data', 'data_module', 'feature_names', 'filename', 'frame', 'target', 'target_names']\n",
      "dict_keys(['data', 'target', 'frame', 'target_names', 'DESCR', 'feature_names', 'filename', 'data_module'])\n"
     ]
    }
   ],
   "source": [
    "breast_cancer = load_breast_cancer()\n",
    "print(type(breast_cancer))\n",
    "# print(breast_cancer)\n",
    "print(dir(breast_cancer))\n",
    "print(breast_cancer.keys())"
   ]
  },
  {
   "cell_type": "markdown",
   "id": "1263733b",
   "metadata": {},
   "source": [
    " - `digits`, `wine`에서와 같습니다."
   ]
  },
  {
   "cell_type": "markdown",
   "id": "64b828ca",
   "metadata": {},
   "source": [
    "## 3.3. 데이터 이해하기"
   ]
  },
  {
   "cell_type": "code",
   "execution_count": 41,
   "id": "006a4380",
   "metadata": {},
   "outputs": [],
   "source": [
    "breast_cancer_data = breast_cancer.data\n",
    "breast_cancer_label = breast_cancer.target"
   ]
  },
  {
   "cell_type": "markdown",
   "id": "16a4927b",
   "metadata": {},
   "source": [
    "`wine_data`와 `wine_label`을 정의합니다.\n",
    " 각각 input feature와 label의 역할을 하게 될 것들입니다."
   ]
  },
  {
   "cell_type": "code",
   "execution_count": 42,
   "id": "a3c244fe",
   "metadata": {
    "scrolled": false
   },
   "outputs": [
    {
     "name": "stdout",
     "output_type": "stream",
     "text": [
      "<class 'numpy.ndarray'>\n",
      "(569, 30)\n",
      "[1.799e+01 1.038e+01 1.228e+02 1.001e+03 1.184e-01 2.776e-01 3.001e-01\n",
      " 1.471e-01 2.419e-01 7.871e-02 1.095e+00 9.053e-01 8.589e+00 1.534e+02\n",
      " 6.399e-03 4.904e-02 5.373e-02 1.587e-02 3.003e-02 6.193e-03 2.538e+01\n",
      " 1.733e+01 1.846e+02 2.019e+03 1.622e-01 6.656e-01 7.119e-01 2.654e-01\n",
      " 4.601e-01 1.189e-01]\n"
     ]
    }
   ],
   "source": [
    "print(type(breast_cancer_data))\n",
    "print(breast_cancer_data.shape)\n",
    "print(breast_cancer_data[0])"
   ]
  },
  {
   "cell_type": "markdown",
   "id": "e9ab9ad6",
   "metadata": {},
   "source": [
    "`breast_cancer_data`의 타입과 shape, 첫번째 요소를 출력합니다.\n",
    " - line 1 : 타입은 `np.array`입니다.\n",
    " - line 2 : shape으로 보아 $569\\times 30$ 모양의 행렬입니다.\n",
    " 즉, data(sample)의 개수는 569개이고, feature의 개수는 30개입니다.\n",
    " - line 3 : 첫번째 sample을  출력하니 30차원의 벡터가 나옵니다."
   ]
  },
  {
   "cell_type": "code",
   "execution_count": 43,
   "id": "4f2f986f",
   "metadata": {
    "scrolled": true
   },
   "outputs": [
    {
     "name": "stdout",
     "output_type": "stream",
     "text": [
      "<class 'numpy.ndarray'>\n",
      "(569,)\n",
      "0\n"
     ]
    }
   ],
   "source": [
    "print(type(breast_cancer_label))\n",
    "print(breast_cancer_label.shape)\n",
    "print(breast_cancer_label[0])"
   ]
  },
  {
   "cell_type": "markdown",
   "id": "bc2d9dcc",
   "metadata": {},
   "source": [
    "`breast_cancer_label`의 타입과 shape, 첫번째 요소를 출력합니다.\n",
    " - line 1 : 타입은 `np.array`입니다.\n",
    " - line 2 : shape으로 보아 569 차원의 벡터라고 생각할 수 있습니다.\n",
    " - line 3 : 첫번째 label은 0으로 출력됩니다."
   ]
  },
  {
   "cell_type": "code",
   "execution_count": 44,
   "id": "21b525f5",
   "metadata": {
    "scrolled": true
   },
   "outputs": [
    {
     "name": "stdout",
     "output_type": "stream",
     "text": [
      "['malignant' 'benign']\n",
      "['mean radius' 'mean texture' 'mean perimeter' 'mean area'\n",
      " 'mean smoothness' 'mean compactness' 'mean concavity'\n",
      " 'mean concave points' 'mean symmetry' 'mean fractal dimension'\n",
      " 'radius error' 'texture error' 'perimeter error' 'area error'\n",
      " 'smoothness error' 'compactness error' 'concavity error'\n",
      " 'concave points error' 'symmetry error' 'fractal dimension error'\n",
      " 'worst radius' 'worst texture' 'worst perimeter' 'worst area'\n",
      " 'worst smoothness' 'worst compactness' 'worst concavity'\n",
      " 'worst concave points' 'worst symmetry' 'worst fractal dimension']\n",
      "breast_cancer.csv\n",
      ".. _breast_cancer_dataset:\n",
      "\n",
      "Breast cancer wisconsin (diagnostic) dataset\n",
      "--------------------------------------------\n",
      "\n",
      "**Data Set Characteristics:**\n",
      "\n",
      "    :Number of Instances: 569\n",
      "\n",
      "    :Number of Attributes: 30 numeric, predictive attributes and the class\n",
      "\n",
      "    :Attribute Information:\n",
      "        - radius (mean of distances from center to points on the perimeter)\n",
      "        - texture (standard deviation of gray-scale values)\n",
      "        - perimeter\n",
      "        - area\n",
      "        - smoothness (local variation in radius lengths)\n",
      "        - compactness (perimeter^2 / area - 1.0)\n",
      "        - concavity (severity of concave portions of the contour)\n",
      "        - concave points (number of concave portions of the contour)\n",
      "        - symmetry\n",
      "        - fractal dimension (\"coastline approximation\" - 1)\n",
      "\n",
      "        The mean, standard error, and \"worst\" or largest (mean of the three\n",
      "        worst/largest values) of these features were computed for each image,\n",
      "        resulting in 30 features.  For instance, field 0 is Mean Radius, field\n",
      "        10 is Radius SE, field 20 is Worst Radius.\n",
      "\n",
      "        - class:\n",
      "                - WDBC-Malignant\n",
      "                - WDBC-Benign\n",
      "\n",
      "    :Summary Statistics:\n",
      "\n",
      "    ===================================== ====== ======\n",
      "                                           Min    Max\n",
      "    ===================================== ====== ======\n",
      "    radius (mean):                        6.981  28.11\n",
      "    texture (mean):                       9.71   39.28\n",
      "    perimeter (mean):                     43.79  188.5\n",
      "    area (mean):                          143.5  2501.0\n",
      "    smoothness (mean):                    0.053  0.163\n",
      "    compactness (mean):                   0.019  0.345\n",
      "    concavity (mean):                     0.0    0.427\n",
      "    concave points (mean):                0.0    0.201\n",
      "    symmetry (mean):                      0.106  0.304\n",
      "    fractal dimension (mean):             0.05   0.097\n",
      "    radius (standard error):              0.112  2.873\n",
      "    texture (standard error):             0.36   4.885\n",
      "    perimeter (standard error):           0.757  21.98\n",
      "    area (standard error):                6.802  542.2\n",
      "    smoothness (standard error):          0.002  0.031\n",
      "    compactness (standard error):         0.002  0.135\n",
      "    concavity (standard error):           0.0    0.396\n",
      "    concave points (standard error):      0.0    0.053\n",
      "    symmetry (standard error):            0.008  0.079\n",
      "    fractal dimension (standard error):   0.001  0.03\n",
      "    radius (worst):                       7.93   36.04\n",
      "    texture (worst):                      12.02  49.54\n",
      "    perimeter (worst):                    50.41  251.2\n",
      "    area (worst):                         185.2  4254.0\n",
      "    smoothness (worst):                   0.071  0.223\n",
      "    compactness (worst):                  0.027  1.058\n",
      "    concavity (worst):                    0.0    1.252\n",
      "    concave points (worst):               0.0    0.291\n",
      "    symmetry (worst):                     0.156  0.664\n",
      "    fractal dimension (worst):            0.055  0.208\n",
      "    ===================================== ====== ======\n",
      "\n",
      "    :Missing Attribute Values: None\n",
      "\n",
      "    :Class Distribution: 212 - Malignant, 357 - Benign\n",
      "\n",
      "    :Creator:  Dr. William H. Wolberg, W. Nick Street, Olvi L. Mangasarian\n",
      "\n",
      "    :Donor: Nick Street\n",
      "\n",
      "    :Date: November, 1995\n",
      "\n",
      "This is a copy of UCI ML Breast Cancer Wisconsin (Diagnostic) datasets.\n",
      "https://goo.gl/U2Uwz2\n",
      "\n",
      "Features are computed from a digitized image of a fine needle\n",
      "aspirate (FNA) of a breast mass.  They describe\n",
      "characteristics of the cell nuclei present in the image.\n",
      "\n",
      "Separating plane described above was obtained using\n",
      "Multisurface Method-Tree (MSM-T) [K. P. Bennett, \"Decision Tree\n",
      "Construction Via Linear Programming.\" Proceedings of the 4th\n",
      "Midwest Artificial Intelligence and Cognitive Science Society,\n",
      "pp. 97-101, 1992], a classification method which uses linear\n",
      "programming to construct a decision tree.  Relevant features\n",
      "were selected using an exhaustive search in the space of 1-4\n",
      "features and 1-3 separating planes.\n",
      "\n",
      "The actual linear program used to obtain the separating plane\n",
      "in the 3-dimensional space is that described in:\n",
      "[K. P. Bennett and O. L. Mangasarian: \"Robust Linear\n",
      "Programming Discrimination of Two Linearly Inseparable Sets\",\n",
      "Optimization Methods and Software 1, 1992, 23-34].\n",
      "\n",
      "This database is also available through the UW CS ftp server:\n",
      "\n",
      "ftp ftp.cs.wisc.edu\n",
      "cd math-prog/cpo-dataset/machine-learn/WDBC/\n",
      "\n",
      ".. topic:: References\n",
      "\n",
      "   - W.N. Street, W.H. Wolberg and O.L. Mangasarian. Nuclear feature extraction \n",
      "     for breast tumor diagnosis. IS&T/SPIE 1993 International Symposium on \n",
      "     Electronic Imaging: Science and Technology, volume 1905, pages 861-870,\n",
      "     San Jose, CA, 1993.\n",
      "   - O.L. Mangasarian, W.N. Street and W.H. Wolberg. Breast cancer diagnosis and \n",
      "     prognosis via linear programming. Operations Research, 43(4), pages 570-577, \n",
      "     July-August 1995.\n",
      "   - W.H. Wolberg, W.N. Street, and O.L. Mangasarian. Machine learning techniques\n",
      "     to diagnose breast cancer from fine-needle aspirates. Cancer Letters 77 (1994) \n",
      "     163-171.\n"
     ]
    }
   ],
   "source": [
    "print(breast_cancer.target_names)\n",
    "print(breast_cancer.feature_names)\n",
    "print(breast_cancer.filename)\n",
    "print(breast_cancer.DESCR)"
   ]
  },
  {
   "cell_type": "markdown",
   "id": "d83b8921",
   "metadata": {},
   "source": [
    " - line 1 : label들의 이름을 출력합니다.\n",
    " - line 2 : feature들의 이름을 출력합니다.\n",
    " feature의 목록은 다음과 같습니다.\n",
    "    - radius (mean of distances from center to points on the perimeter)\n",
    "    - texture (standard deviation of gray-scale values)\n",
    "    - perimeter\n",
    "    - area\n",
    "    - smoothness (local variation in radius lengths)\n",
    "    - compactness (perimeter^2 / area - 1.0)\n",
    "    - concavity (severity of concave portions of the contour)\n",
    "    - concave points (number of concave portions of the contour)\n",
    "    - symmetry\n",
    "    - fractal dimension (\"coastline approximation\" - 1)\n",
    " - line 3 : `digits`, `wine`에서와는 다르게 `filename`을 불러올 수 있습니다.\n",
    " 파일 이름은 `breast_cancer.csv`입니다.\n",
    " - line 4 : `digits` dataset에 대한 상세한 정보를 출력합니다.\n",
    "    - 총 569개의 sample이 있습니다.\n",
    "    - 그 중 212개는 악성 종양(malignant)에, 357개는 양성 종양(benign)에 속합니다.\n",
    "    - 이 데이터의 label은 해당 sample이 악성인지 아니면 양성인지 나타냅니다.\n",
    "    - 이 데이터의 feature는 유방암에 대한 여러가지 사항들(종양의 반지름, 넓이, 대칭성 등)로, 30개의 수치적인 자료로 되어 있습니다. (feature의 개수는 30개입니다.)"
   ]
  },
  {
   "cell_type": "markdown",
   "id": "1d75cf14",
   "metadata": {},
   "source": [
    "## 3.4. train, test 데이터 분리"
   ]
  },
  {
   "cell_type": "code",
   "execution_count": 45,
   "id": "70d0e6d9",
   "metadata": {},
   "outputs": [],
   "source": [
    "X_train, X_test, y_train, y_test = train_test_split(breast_cancer_data, breast_cancer_label, test_size=0.2, random_state=1)"
   ]
  },
  {
   "cell_type": "markdown",
   "id": "df7b0ba3",
   "metadata": {},
   "source": [
    "`breast_cancer_data`, `breast_cancer_label`을 각각 8:2의 비율로 잘라, training set과 test set으로 나눕니다.\n",
    " - `breast_cancer_data` → `X_train`, `X_test`\n",
    " - `breast_cancer_label` → `y_train`, `y_test`"
   ]
  },
  {
   "cell_type": "code",
   "execution_count": 46,
   "id": "5be540f1",
   "metadata": {
    "scrolled": true
   },
   "outputs": [
    {
     "name": "stdout",
     "output_type": "stream",
     "text": [
      "<class 'numpy.ndarray'>\n",
      "(455, 30)\n",
      "[1.799e+01 2.066e+01 1.178e+02 9.917e+02 1.036e-01 1.304e-01 1.201e-01\n",
      " 8.824e-02 1.992e-01 6.069e-02 4.537e-01 8.733e-01 3.061e+00 4.981e+01\n",
      " 7.231e-03 2.772e-02 2.509e-02 1.480e-02 1.414e-02 3.336e-03 2.108e+01\n",
      " 2.541e+01 1.381e+02 1.349e+03 1.482e-01 3.735e-01 3.301e-01 1.974e-01\n",
      " 3.060e-01 8.503e-02]\n",
      "<class 'numpy.ndarray'>\n",
      "(114, 30)\n",
      "[1.469e+01 1.398e+01 9.822e+01 6.561e+02 1.031e-01 1.836e-01 1.450e-01\n",
      " 6.300e-02 2.086e-01 7.406e-02 5.462e-01 1.511e+00 4.795e+00 4.945e+01\n",
      " 9.976e-03 5.244e-02 5.278e-02 1.580e-02 2.653e-02 5.444e-03 1.646e+01\n",
      " 1.834e+01 1.141e+02 8.092e+02 1.312e-01 3.635e-01 3.219e-01 1.108e-01\n",
      " 2.827e-01 9.208e-02]\n",
      "<class 'numpy.ndarray'>\n",
      "(455,)\n",
      "0\n",
      "<class 'numpy.ndarray'>\n",
      "(114,)\n",
      "1\n"
     ]
    }
   ],
   "source": [
    "print(type(X_train))\n",
    "print(X_train.shape)\n",
    "print(X_train[0])\n",
    "\n",
    "print(type(X_test))\n",
    "print(X_test.shape)\n",
    "print(X_test[0])\n",
    "\n",
    "print(type(y_train))\n",
    "print(y_train.shape)\n",
    "print(y_train[0])\n",
    "\n",
    "print(type(y_test))\n",
    "print(y_test.shape)\n",
    "print(y_test[0])"
   ]
  },
  {
   "cell_type": "markdown",
   "id": "93b583fd",
   "metadata": {},
   "source": [
    "네 개의 서로다른 `np.array`들에 대하여 타입과 shape, 첫번째 요소를 출력해봅니다.\n",
    " - line 1 ~ 3 : `X_train`은 $455\\times 30$ 형태의 행렬입니다.\n",
    " 즉, training sample의 개수는 455개인데, 이것은 569의 약 80%에 해당하는 값입니다.\n",
    " - line 5 ~ 7 : `X_test`은 $455\\times 30$ 형태의 행렬입니다.\n",
    " - line 9 ~ 11 : `y_train`은 455차원의 벡터입니다.\n",
    " - line 13 ~ 15 : `y_test`은 144차원의 벡터입니다."
   ]
  },
  {
   "cell_type": "code",
   "execution_count": 47,
   "id": "852393ae",
   "metadata": {},
   "outputs": [
    {
     "name": "stdout",
     "output_type": "stream",
     "text": [
      "455.20000000000005\n",
      "455.0\n"
     ]
    }
   ],
   "source": [
    "print(569*0.8)\n",
    "print(np.floor(569*0.8))"
   ]
  },
  {
   "cell_type": "markdown",
   "id": "00706d95",
   "metadata": {},
   "source": [
    "표준화와 정규화는 하지 않았습니다."
   ]
  },
  {
   "cell_type": "markdown",
   "id": "3a965933",
   "metadata": {},
   "source": [
    "## 3.5. 다양한 모델로 학습시켜보기"
   ]
  },
  {
   "cell_type": "markdown",
   "id": "f0ccef2e",
   "metadata": {},
   "source": [
    " - `y_pred_dt`, `y_pred_rf`, `y_pred_svm`, `y_pred_sgd`, `y_pred_lr`을 얻어냅니다.\n",
    " - `digits`, `wine`에서와 같은 명령어들을 사용했습니다."
   ]
  },
  {
   "cell_type": "code",
   "execution_count": 48,
   "id": "7ed40bd4",
   "metadata": {},
   "outputs": [],
   "source": [
    "# decision tree\n",
    "# _dt\n",
    "decision_tree = DecisionTreeClassifier(random_state=1)\n",
    "decision_tree.fit(X_train, y_train)\n",
    "y_pred_dt = decision_tree.predict(X_test)"
   ]
  },
  {
   "cell_type": "code",
   "execution_count": 49,
   "id": "5b5888aa",
   "metadata": {},
   "outputs": [],
   "source": [
    "# random forest\n",
    "# _rf\n",
    "random_forest = RandomForestClassifier(random_state=1)\n",
    "random_forest.fit(X_train, y_train)\n",
    "y_pred_rf = random_forest.predict(X_test)"
   ]
  },
  {
   "cell_type": "code",
   "execution_count": 50,
   "id": "15b6ecdc",
   "metadata": {},
   "outputs": [],
   "source": [
    "# support vector machine\n",
    "# _svm\n",
    "svm_model = svm.SVC(random_state=1)\n",
    "svm_model.fit(X_train, y_train)\n",
    "y_pred_svm = svm_model.predict(X_test)"
   ]
  },
  {
   "cell_type": "code",
   "execution_count": 51,
   "id": "e1ead695",
   "metadata": {},
   "outputs": [],
   "source": [
    "# stochastic gradient descent classifier\n",
    "# sgd\n",
    "sgd_model = SGDClassifier(random_state=1)\n",
    "sgd_model.fit(X_train, y_train)\n",
    "y_pred_sgd = sgd_model.predict(X_test)"
   ]
  },
  {
   "cell_type": "code",
   "execution_count": 52,
   "id": "b27b297c",
   "metadata": {
    "scrolled": false
   },
   "outputs": [
    {
     "name": "stderr",
     "output_type": "stream",
     "text": [
      "/opt/conda/lib/python3.9/site-packages/sklearn/linear_model/_logistic.py:814: ConvergenceWarning: lbfgs failed to converge (status=1):\n",
      "STOP: TOTAL NO. of ITERATIONS REACHED LIMIT.\n",
      "\n",
      "Increase the number of iterations (max_iter) or scale the data as shown in:\n",
      "    https://scikit-learn.org/stable/modules/preprocessing.html\n",
      "Please also refer to the documentation for alternative solver options:\n",
      "    https://scikit-learn.org/stable/modules/linear_model.html#logistic-regression\n",
      "  n_iter_i = _check_optimize_result(\n"
     ]
    }
   ],
   "source": [
    "# logistic regerssion\n",
    "# _lr\n",
    "logistic_model = LogisticRegression() # convergence warning\n",
    "logistic_model.fit(X_train, y_train)\n",
    "y_pred_lr = logistic_model.predict(X_test)"
   ]
  },
  {
   "cell_type": "markdown",
   "id": "a567f07e",
   "metadata": {},
   "source": [
    "## 3.6. 모델을 평가해보기"
   ]
  },
  {
   "cell_type": "markdown",
   "id": "58d9b393",
   "metadata": {},
   "source": [
    " - 다섯 개의 모델들에 대하여 일단 confusion matrix를 그렸습니다.\n",
    " - `digits`, `wine`에서와 같은 명령어를 사용했습니다."
   ]
  },
  {
   "cell_type": "code",
   "execution_count": 53,
   "id": "406eea60",
   "metadata": {},
   "outputs": [
    {
     "data": {
      "text/plain": [
       "Text(0.5, 1.0, 'linear regression')"
      ]
     },
     "execution_count": 53,
     "metadata": {},
     "output_type": "execute_result"
    },
    {
     "data": {
      "image/png": "[encoded data removed]",
      "text/plain": [
       "<Figure size 432x288 with 2 Axes>"
      ]
     },
     "metadata": {
      "needs_background": "light"
     },
     "output_type": "display_data"
    },
    {
     "data": {
      "image/png": "[encoded data removed]",
      "text/plain": [
       "<Figure size 432x288 with 2 Axes>"
      ]
     },
     "metadata": {
      "needs_background": "light"
     },
     "output_type": "display_data"
    },
    {
     "data": {
      "image/png": "[encoded data removed]",
      "text/plain": [
       "<Figure size 432x288 with 2 Axes>"
      ]
     },
     "metadata": {
      "needs_background": "light"
     },
     "output_type": "display_data"
    },
    {
     "data": {
      "image/png": "[encoded data removed]",
      "text/plain": [
       "<Figure size 432x288 with 2 Axes>"
      ]
     },
     "metadata": {
      "needs_background": "light"
     },
     "output_type": "display_data"
    },
    {
     "data": {
      "image/png": "[encoded data removed]",
      "text/plain": [
       "<Figure size 432x288 with 2 Axes>"
      ]
     },
     "metadata": {
      "needs_background": "light"
     },
     "output_type": "display_data"
    }
   ],
   "source": [
    "cm = confusion_matrix(y_test,y_pred_dt)\n",
    "display = ConfusionMatrixDisplay(confusion_matrix = cm)\n",
    "display.plot()\n",
    "plt.title('decision tree')\n",
    "\n",
    "cm = confusion_matrix(y_test,y_pred_rf)\n",
    "display = ConfusionMatrixDisplay(confusion_matrix = cm)\n",
    "display.plot()\n",
    "plt.title('random forest')\n",
    "\n",
    "cm = confusion_matrix(y_test,y_pred_svm)\n",
    "display = ConfusionMatrixDisplay(confusion_matrix = cm)\n",
    "display.plot()\n",
    "plt.title('support vector machine')\n",
    "\n",
    "cm = confusion_matrix(y_test,y_pred_sgd)\n",
    "display = ConfusionMatrixDisplay(confusion_matrix = cm)\n",
    "display.plot()\n",
    "plt.title('stochastic gradient descent')\n",
    "\n",
    "cm = confusion_matrix(y_test,y_pred_lr)\n",
    "display = ConfusionMatrixDisplay(confusion_matrix = cm)\n",
    "display.plot()\n",
    "plt.title('linear regression')"
   ]
  },
  {
   "cell_type": "markdown",
   "id": "25e54439",
   "metadata": {},
   "source": [
    " - `breast_cancer` 데이터셋은 이진분류문제입니다.\n",
    " 이 문제의 경우 FN(false negative)가 발생하면 치명적입니다.\n",
    " 다시 말해, 실제로 암에 걸렸는데, 암이라고 진단하지 못한 경우가 발생하는 것은 어떻게 해서든 막아야 합니다.\n",
    " 따라서, recall을 사용하는 것이 맞다고 보았습니다.\n",
    " - 따라서 아래 코드에, 세 개의 평가지표 **macro recall**, **weighted recall**, **Cohen's kappa**를 출력했습니다.\n",
    " 또한, 비교를 위해 accuracy도 출력했습니다.\n",
    " - 아래 결과에 따르면, 세 지표에 대하여 모두 **random forest**가 가장 좋은 성능을 내고 있음을 알 수 있습니다."
   ]
  },
  {
   "cell_type": "code",
   "execution_count": 54,
   "id": "68117d71",
   "metadata": {
    "scrolled": false
   },
   "outputs": [
    {
     "name": "stdout",
     "output_type": "stream",
     "text": [
      "model                          macro recall         weighted recall      Cohen' kappa         accuracy            \n",
      "decision tree                  0.9335               0.9474               0.8846               0.9474              \n",
      "random forest                  0.9405               0.9561               0.9034               0.9561              \n",
      "support vector machine         0.8690               0.9035               0.7807               0.9474              \n",
      "stochastic gradient descent    0.9266               0.9386               0.8661               0.9386              \n",
      "linear regression              0.9385               0.9474               0.8858               0.9474              \n"
     ]
    }
   ],
   "source": [
    "print('{0:<30} {1:<20} {2:<20} {3:<20} {4:<20}'.format('model',\n",
    "      'macro recall','weighted recall','Cohen\\' kappa','accuracy'))\n",
    "print('{0:<30} {1:<20.4f} {2:<20.4f} {3:<20.4f} {4:<20.4f}'.format('decision tree',\n",
    "      recall_score(y_test, y_pred_dt, average='macro'),\n",
    "      recall_score(y_test, y_pred_dt, average='weighted'),\n",
    "      cohen_kappa_score(y_test,y_pred_dt),\n",
    "      accuracy_score(y_test,y_pred_dt)))\n",
    "print('{0:<30} {1:<20.4f} {2:<20.4f} {3:<20.4f} {4:<20.4f}'.format('random forest',\n",
    "      recall_score(y_test, y_pred_rf, average='macro'),\n",
    "      recall_score(y_test, y_pred_rf, average='weighted'),\n",
    "      cohen_kappa_score(y_test,y_pred_rf),\n",
    "      accuracy_score(y_test,y_pred_rf)))\n",
    "print('{0:<30} {1:<20.4f} {2:<20.4f} {3:<20.4f} {4:<20.4f}'.format('support vector machine',\n",
    "      recall_score(y_test, y_pred_svm, average='macro'),\n",
    "      recall_score(y_test, y_pred_svm, average='weighted'),\n",
    "      cohen_kappa_score(y_test,y_pred_svm),\n",
    "      accuracy_score(y_test,y_pred_dt)))\n",
    "print('{0:<30} {1:<20.4f} {2:<20.4f} {3:<20.4f} {4:<20.4f}'.format('stochastic gradient descent',\n",
    "      recall_score(y_test, y_pred_sgd, average='macro'),\n",
    "      recall_score(y_test, y_pred_sgd, average='weighted'),\n",
    "      cohen_kappa_score(y_test,y_pred_sgd),\n",
    "      accuracy_score(y_test,y_pred_sgd)))\n",
    "print('{0:<30} {1:<20.4f} {2:<20.4f} {3:<20.4f} {4:<20.4f}'.format('linear regression',\n",
    "      recall_score(y_test, y_pred_lr, average='macro'),\n",
    "      recall_score(y_test, y_pred_lr, average='weighted'),\n",
    "      cohen_kappa_score(y_test,y_pred_lr),\n",
    "      accuracy_score(y_test,y_pred_lr)))"
   ]
  }
 ],
 "metadata": {
  "kernelspec": {
   "display_name": "Python 3 (ipykernel)",
   "language": "python",
   "name": "python3"
  },
  "language_info": {
   "codemirror_mode": {
    "name": "ipython",
    "version": 3
   },
   "file_extension": ".py",
   "mimetype": "text/x-python",
   "name": "python",
   "nbconvert_exporter": "python",
   "pygments_lexer": "ipython3",
   "version": "3.9.7"
  }
 },
 "nbformat": 4,
 "nbformat_minor": 5
}
