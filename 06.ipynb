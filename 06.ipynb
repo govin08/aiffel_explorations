{
 "cells": [
  {
   "cell_type": "markdown",
   "id": "049d82d2",
   "metadata": {},
   "source": [
    "## 모듈 불러오기"
   ]
  },
  {
   "cell_type": "code",
   "execution_count": 1,
   "id": "90368e6e",
   "metadata": {},
   "outputs": [],
   "source": [
    "import os, re, glob\n",
    "import numpy as np\n",
    "import pandas as pd\n",
    "import matplotlib.pyplot as plt\n",
    "import tensorflow as tf"
   ]
  },
  {
   "cell_type": "markdown",
   "id": "d3dc0e67",
   "metadata": {},
   "source": [
    "### Step 1. 데이터 다운로드"
   ]
  },
  {
   "cell_type": "markdown",
   "id": "825045ec",
   "metadata": {},
   "source": [
    "### Step 2. 데이터 읽어오기"
   ]
  },
  {
   "cell_type": "code",
   "execution_count": 2,
   "id": "1de2a744",
   "metadata": {},
   "outputs": [],
   "source": [
    "txt_file_path = '../data/exploration_06/data/lyrics/*'\n",
    "txt_list = glob.glob(txt_file_path)"
   ]
  },
  {
   "cell_type": "code",
   "execution_count": 3,
   "id": "aa6cbb3c",
   "metadata": {},
   "outputs": [
    {
     "name": "stdout",
     "output_type": "stream",
     "text": [
      "49\n",
      "['../data/exploration_06/data/lyrics/lin-manuel-miranda.txt'\n",
      " '../data/exploration_06/data/lyrics/bob-marley.txt'\n",
      " '../data/exploration_06/data/lyrics/lil-wayne.txt']\n"
     ]
    }
   ],
   "source": [
    "print(len(txt_list))\n",
    "print(np.array(txt_list[:3]))"
   ]
  },
  {
   "cell_type": "code",
   "execution_count": 4,
   "id": "e5f444d7",
   "metadata": {},
   "outputs": [
    {
     "name": "stdout",
     "output_type": "stream",
     "text": [
      "187088\n",
      "['How does a bastard, orphan, son of a whore'\n",
      " 'And a Scotsman, dropped in the middle of a forgotten spot in the Caribbean by providence impoverished,'\n",
      " 'In squalor, grow up to be a hero and a scholar? The ten-dollar founding father without a father']\n"
     ]
    }
   ],
   "source": [
    "raw_corpus = []\n",
    "for txt_file in txt_list:\n",
    "    with open(txt_file, \"r\") as f:\n",
    "        raw = f.read().splitlines()\n",
    "        raw_corpus.extend(raw)\n",
    "print(len(raw_corpus))\n",
    "print(np.array(raw_corpus[:3]))"
   ]
  },
  {
   "cell_type": "markdown",
   "id": "f3028327",
   "metadata": {},
   "source": [
    "### Step 3. 데이터 정제"
   ]
  },
  {
   "cell_type": "code",
   "execution_count": 5,
   "id": "5dcfc297",
   "metadata": {},
   "outputs": [],
   "source": [
    "def preprocess_sentence(sentence):\n",
    "    sentence = sentence.lower().strip() # 1\n",
    "    sentence = re.sub(r\"([?.!,¿])\", r\" \\1 \", sentence) # 2\n",
    "    sentence = re.sub(r'[\" \"]+', \" \", sentence) # 3\n",
    "    sentence = re.sub(r\"[^a-zA-Z?.!,¿]+\", \" \", sentence) # 4\n",
    "    sentence = sentence.strip() # 5\n",
    "    sentence = '<start> ' + sentence + ' <end>' # 6\n",
    "    return sentence"
   ]
  },
  {
   "cell_type": "code",
   "execution_count": 6,
   "id": "7b941afc",
   "metadata": {
    "scrolled": true
   },
   "outputs": [],
   "source": [
    "corpus = []\n",
    "for sentence in raw_corpus:\n",
    "    if len(sentence) == 0: continue\n",
    "    if sentence[-1] == \":\": continue\n",
    "    preprocessed_sentence = preprocess_sentence(sentence)\n",
    "    corpus.append(preprocessed_sentence)"
   ]
  },
  {
   "cell_type": "code",
   "execution_count": 7,
   "id": "36e13027",
   "metadata": {},
   "outputs": [
    {
     "name": "stdout",
     "output_type": "stream",
     "text": [
      "175749\n",
      "1478\n"
     ]
    }
   ],
   "source": [
    "print(len(corpus))\n",
    "print(max([len(sentence) for sentence in corpus]))"
   ]
  },
  {
   "cell_type": "code",
   "execution_count": 8,
   "id": "1f080b23",
   "metadata": {},
   "outputs": [
    {
     "data": {
      "text/plain": [
       "(array([9.3330e+04, 7.8055e+04, 4.0740e+03, 1.9400e+02, 4.9000e+01,\n",
       "        1.8000e+01, 1.1000e+01, 1.0000e+00, 2.0000e+00, 6.0000e+00,\n",
       "        1.0000e+00, 2.0000e+00, 0.0000e+00, 1.0000e+00, 0.0000e+00,\n",
       "        1.0000e+00, 1.0000e+00, 0.0000e+00, 0.0000e+00, 1.0000e+00,\n",
       "        0.0000e+00, 0.0000e+00, 1.0000e+00, 0.0000e+00, 0.0000e+00,\n",
       "        0.0000e+00, 0.0000e+00, 0.0000e+00, 0.0000e+00]),\n",
       " array([   0,   50,  100,  150,  200,  250,  300,  350,  400,  450,  500,\n",
       "         550,  600,  650,  700,  750,  800,  850,  900,  950, 1000, 1050,\n",
       "        1100, 1150, 1200, 1250, 1300, 1350, 1400, 1450]),\n",
       " <BarContainer object of 29 artists>)"
      ]
     },
     "execution_count": 8,
     "metadata": {},
     "output_type": "execute_result"
    },
    {
     "data": {
      "image/png": "[encoded data removed]",
      "text/plain": [
       "<Figure size 432x288 with 1 Axes>"
      ]
     },
     "metadata": {
      "needs_background": "light"
     },
     "output_type": "display_data"
    }
   ],
   "source": [
    "lengths = np.array([len(sentence) for sentence in corpus])\n",
    "plt.hist(lengths,bins=range(0,1500,50))"
   ]
  },
  {
   "cell_type": "markdown",
   "id": "9e05f684",
   "metadata": {},
   "source": [
    "### Step 4. 평가 데이터셋 분리"
   ]
  },
  {
   "cell_type": "code",
   "execution_count": 9,
   "id": "6345416c",
   "metadata": {
    "scrolled": true
   },
   "outputs": [
    {
     "name": "stdout",
     "output_type": "stream",
     "text": [
      "<class 'list'>\n",
      "[list([2, 78, 626, 9, 4376, 4, 5629, 4, 611, 19, 9, 3293, 3])\n",
      " list([2, 8, 9, 1, 4, 1372, 14, 6, 881, 19, 9, 1974, 808, 14, 6, 4179, 122, 1, 1, 4, 3])\n",
      " list([2, 14, 1, 4, 831, 29, 10, 27, 9, 2040, 8, 9, 1, 43, 6, 743, 1128, 1, 635, 258, 9, 635, 3])]\n",
      "347\n"
     ]
    },
    {
     "name": "stderr",
     "output_type": "stream",
     "text": [
      "/tmp/ipykernel_413/668456425.py:6: VisibleDeprecationWarning: Creating an ndarray from ragged nested sequences (which is a list-or-tuple of lists-or-tuples-or ndarrays with different lengths or shapes) is deprecated. If you meant to do this, you must specify 'dtype=object' when creating the ndarray.\n",
      "  print(np.array(tensor)[:3])\n"
     ]
    },
    {
     "name": "stdout",
     "output_type": "stream",
     "text": [
      "<class 'numpy.ndarray'>\n",
      "[[   2   78  626    9 4376    4 5629    4  611   19    9 3293    3    0\n",
      "     0]\n",
      " [   2    8    9    1    4 1372   14    6  881   19    9 1974  808   14\n",
      "     6]\n",
      " [   2   14    1    4  831   29   10   27    9 2040    8    9    1   43\n",
      "     6]]\n",
      "(175749, 15)\n"
     ]
    }
   ],
   "source": [
    "tokenizer = tf.keras.preprocessing.text.Tokenizer(\n",
    "    num_words=7000, filters=' ', oov_token=\"<unk>\")\n",
    "tokenizer.fit_on_texts(corpus)\n",
    "tensor = tokenizer.texts_to_sequences(corpus)\n",
    "print(type(tensor))\n",
    "print(np.array(tensor)[:3])\n",
    "print(np.array([len(sentence) for sentence in tensor]).max())\n",
    "tensor = tf.keras.preprocessing.sequence.pad_sequences(\n",
    "    tensor, padding = 'post',maxlen = 15, truncating = 'post')\n",
    "print(type(tensor))\n",
    "print(np.array(tensor)[:3])\n",
    "print(tensor.shape)"
   ]
  },
  {
   "cell_type": "code",
   "execution_count": 10,
   "id": "7e725649",
   "metadata": {},
   "outputs": [
    {
     "name": "stdout",
     "output_type": "stream",
     "text": [
      "175749\n",
      "(175749, 15)\n",
      "<start> how does a bastard , orphan , son of a whore <end>\n",
      "<start> and a scotsman , dropped in the middle of a forgotten spot in the caribbean by providence impoverished , <end>\n",
      "<start> in squalor , grow up to be a hero and a scholar ? the ten dollar founding father without a father <end>\n",
      "[   2   78  626    9 4376    4 5629    4  611   19    9 3293    3    0\n",
      "    0]\n",
      "[   2    8    9    1    4 1372   14    6  881   19    9 1974  808   14\n",
      "    6]\n",
      "[   2   14    1    4  831   29   10   27    9 2040    8    9    1   43\n",
      "    6]\n"
     ]
    }
   ],
   "source": [
    "print(len(corpus))\n",
    "print(tensor.shape) #24015개의 문장, 각 문장은 21차원의 벡터\n",
    "print(corpus[0])\n",
    "print(corpus[1])\n",
    "print(corpus[2])\n",
    "print(tensor[0])\n",
    "print(tensor[1])\n",
    "print(tensor[2])"
   ]
  },
  {
   "attachments": {
    "image.png": {
     "image/png": "[encoded data removed]"
    }
   },
   "cell_type": "markdown",
   "id": "99c2b2ca",
   "metadata": {},
   "source": [
    "![image.png](attachment:image.png)"
   ]
  },
  {
   "cell_type": "code",
   "execution_count": 11,
   "id": "6ea219ba",
   "metadata": {},
   "outputs": [
    {
     "name": "stdout",
     "output_type": "stream",
     "text": [
      "[   2   78  626    9 4376    4 5629    4  611   19    9 3293    3    0]\n",
      "[  78  626    9 4376    4 5629    4  611   19    9 3293    3    0    0]\n"
     ]
    }
   ],
   "source": [
    "src_input = tensor[:, :-1]  \n",
    "tgt_input = tensor[:, 1:]    \n",
    "print(src_input[0])\n",
    "print(tgt_input[0])"
   ]
  },
  {
   "cell_type": "code",
   "execution_count": 12,
   "id": "71833570",
   "metadata": {},
   "outputs": [
    {
     "name": "stdout",
     "output_type": "stream",
     "text": [
      "BUFFER_SIZE : 175749\n",
      "BATCH_SIZE : 256\n",
      "steps_per_epoch : 686\n",
      "VOCAB_SIZE : 7001\n"
     ]
    }
   ],
   "source": [
    "BUFFER_SIZE = len(src_input)\n",
    "print('BUFFER_SIZE :',BUFFER_SIZE)\n",
    "BATCH_SIZE = 256\n",
    "print('BATCH_SIZE :',BATCH_SIZE)\n",
    "steps_per_epoch = len(src_input) // BATCH_SIZE\n",
    "print('steps_per_epoch :',steps_per_epoch)\n",
    "VOCAB_SIZE = tokenizer.num_words + 1\n",
    "print('VOCAB_SIZE :',VOCAB_SIZE)"
   ]
  },
  {
   "cell_type": "code",
   "execution_count": 13,
   "id": "3ac64ae7",
   "metadata": {},
   "outputs": [
    {
     "name": "stdout",
     "output_type": "stream",
     "text": [
      "(175749, 2, 14)\n",
      "(175749, 2, 14)\n",
      "(686, 2, 256, 14)\n",
      "<BatchDataset shapes: ((256, 14), (256, 14)), types: (tf.int32, tf.int32)>\n"
     ]
    }
   ],
   "source": [
    "dataset = tf.data.Dataset.from_tensor_slices((src_input, tgt_input))\n",
    "dataset_as_np_array = np.array([data for data in dataset])\n",
    "print(dataset_as_np_array.shape)\n",
    "dataset = dataset.shuffle(BUFFER_SIZE)\n",
    "dataset_as_np_array = np.array([data for data in dataset])\n",
    "print(dataset_as_np_array.shape)\n",
    "dataset = dataset.batch(BATCH_SIZE, drop_remainder=True)\n",
    "dataset_as_np_array = np.array([data for data in dataset])\n",
    "print(dataset_as_np_array.shape)\n",
    "print(dataset)"
   ]
  },
  {
   "cell_type": "markdown",
   "id": "78b061bf",
   "metadata": {},
   "source": [
    "### Step 5. 인공지능 만들기"
   ]
  },
  {
   "cell_type": "code",
   "execution_count": 14,
   "id": "4c17da9e",
   "metadata": {},
   "outputs": [],
   "source": [
    "class TextGenerator(tf.keras.Model):\n",
    "    def __init__(self, vocab_size, embedding_size, hidden_size):\n",
    "        super().__init__()\n",
    "        self.embedding = tf.keras.layers.Embedding(vocab_size, embedding_size) \n",
    "        self.rnn_1 = tf.keras.layers.LSTM(hidden_size, return_sequences=True)  \n",
    "        self.rnn_2 = tf.keras.layers.LSTM(hidden_size, return_sequences=True)\n",
    "        self.linear = tf.keras.layers.Dense(vocab_size)\n",
    "        \n",
    "    def call(self, x):\n",
    "        out = self.embedding(x)\n",
    "        out = self.rnn_1(out)\n",
    "        out = self.rnn_2(out)\n",
    "        out = self.linear(out)\n",
    "        \n",
    "        return out"
   ]
  },
  {
   "cell_type": "code",
   "execution_count": 15,
   "id": "eded6e8d",
   "metadata": {},
   "outputs": [],
   "source": [
    "embedding_size = 256\n",
    "hidden_size = 1024\n",
    "model = TextGenerator(tokenizer.num_words + 1, embedding_size , hidden_size)"
   ]
  },
  {
   "cell_type": "code",
   "execution_count": 16,
   "id": "ba8b8397",
   "metadata": {},
   "outputs": [
    {
     "data": {
      "text/plain": [
       "TensorShape([256, 14, 7001])"
      ]
     },
     "execution_count": 16,
     "metadata": {},
     "output_type": "execute_result"
    }
   ],
   "source": [
    "for src_sample, tgt_sample in dataset.take(1): break\n",
    "prd_sample = model(src_sample)\n",
    "prd_sample.shape"
   ]
  },
  {
   "cell_type": "code",
   "execution_count": 17,
   "id": "95132cb6",
   "metadata": {
    "scrolled": true
   },
   "outputs": [
    {
     "name": "stdout",
     "output_type": "stream",
     "text": [
      "Model: \"text_generator\"\n",
      "_________________________________________________________________\n",
      "Layer (type)                 Output Shape              Param #   \n",
      "=================================================================\n",
      "embedding (Embedding)        multiple                  1792256   \n",
      "_________________________________________________________________\n",
      "lstm (LSTM)                  multiple                  5246976   \n",
      "_________________________________________________________________\n",
      "lstm_1 (LSTM)                multiple                  8392704   \n",
      "_________________________________________________________________\n",
      "dense (Dense)                multiple                  7176025   \n",
      "=================================================================\n",
      "Total params: 22,607,961\n",
      "Trainable params: 22,607,961\n",
      "Non-trainable params: 0\n",
      "_________________________________________________________________\n"
     ]
    }
   ],
   "source": [
    "model.summary()"
   ]
  },
  {
   "cell_type": "code",
   "execution_count": 18,
   "id": "50089640",
   "metadata": {},
   "outputs": [],
   "source": [
    "optimizer = tf.keras.optimizers.Adam()\n",
    "loss = tf.keras.losses.SparseCategoricalCrossentropy( \n",
    "    from_logits=True, reduction='none')"
   ]
  },
  {
   "cell_type": "code",
   "execution_count": 19,
   "id": "837b3552",
   "metadata": {
    "scrolled": true
   },
   "outputs": [
    {
     "name": "stdout",
     "output_type": "stream",
     "text": [
      "Epoch 1/30\n",
      "686/686 [==============================] - 94s 134ms/step - loss: 3.5286\n",
      "Epoch 2/30\n",
      "686/686 [==============================] - 92s 134ms/step - loss: 3.0585\n",
      "Epoch 3/30\n",
      "686/686 [==============================] - 92s 134ms/step - loss: 2.8722\n",
      "Epoch 4/30\n",
      "686/686 [==============================] - 92s 134ms/step - loss: 2.7348\n",
      "Epoch 5/30\n",
      "686/686 [==============================] - 92s 134ms/step - loss: 2.6203\n",
      "Epoch 6/30\n",
      "686/686 [==============================] - 92s 134ms/step - loss: 2.5185\n",
      "Epoch 7/30\n",
      "686/686 [==============================] - 92s 134ms/step - loss: 2.4243\n",
      "Epoch 8/30\n",
      "686/686 [==============================] - 92s 134ms/step - loss: 2.3356\n",
      "Epoch 9/30\n",
      "686/686 [==============================] - 92s 134ms/step - loss: 2.2504\n",
      "Epoch 10/30\n",
      "686/686 [==============================] - 92s 134ms/step - loss: 2.1676\n",
      "Epoch 11/30\n",
      "686/686 [==============================] - 92s 134ms/step - loss: 2.0880\n",
      "Epoch 12/30\n",
      "686/686 [==============================] - 92s 134ms/step - loss: 2.0107\n",
      "Epoch 13/30\n",
      "686/686 [==============================] - 92s 134ms/step - loss: 1.9360\n",
      "Epoch 14/30\n",
      "686/686 [==============================] - 92s 134ms/step - loss: 1.8646\n",
      "Epoch 15/30\n",
      "686/686 [==============================] - 95s 139ms/step - loss: 1.7952\n",
      "Epoch 16/30\n",
      "686/686 [==============================] - 92s 134ms/step - loss: 1.7289\n",
      "Epoch 17/30\n",
      "686/686 [==============================] - 92s 134ms/step - loss: 1.6657\n",
      "Epoch 18/30\n",
      "686/686 [==============================] - 92s 134ms/step - loss: 1.6058\n",
      "Epoch 19/30\n",
      "686/686 [==============================] - 92s 134ms/step - loss: 1.5492\n",
      "Epoch 20/30\n",
      "686/686 [==============================] - 92s 133ms/step - loss: 1.4962\n",
      "Epoch 21/30\n",
      "686/686 [==============================] - 92s 134ms/step - loss: 1.4461\n",
      "Epoch 22/30\n",
      "686/686 [==============================] - 92s 134ms/step - loss: 1.3992\n",
      "Epoch 23/30\n",
      "686/686 [==============================] - 92s 134ms/step - loss: 1.3564\n",
      "Epoch 24/30\n",
      "686/686 [==============================] - 92s 134ms/step - loss: 1.3157\n",
      "Epoch 25/30\n",
      "686/686 [==============================] - 92s 134ms/step - loss: 1.2783\n",
      "Epoch 26/30\n",
      "686/686 [==============================] - 92s 134ms/step - loss: 1.2437\n",
      "Epoch 27/30\n",
      "686/686 [==============================] - 92s 134ms/step - loss: 1.2116\n",
      "Epoch 28/30\n",
      "686/686 [==============================] - 92s 133ms/step - loss: 1.1828\n",
      "Epoch 29/30\n",
      "686/686 [==============================] - 92s 134ms/step - loss: 1.1557\n",
      "Epoch 30/30\n",
      "686/686 [==============================] - 92s 134ms/step - loss: 1.1311\n"
     ]
    }
   ],
   "source": [
    "model.compile(loss=loss, optimizer=optimizer)\n",
    "hist = model.fit(dataset, epochs=30)"
   ]
  },
  {
   "cell_type": "code",
   "execution_count": 20,
   "id": "3ca488af",
   "metadata": {},
   "outputs": [],
   "source": [
    "def generate_text(model, tokenizer, init_sentence=\"<start>\", max_len=15):\n",
    "    test_input = tokenizer.texts_to_sequences([init_sentence])\n",
    "    test_tensor = tf.convert_to_tensor(test_input, dtype=tf.int64)\n",
    "    end_token = tokenizer.word_index[\"<end>\"]\n",
    "    while True:\n",
    "        predict = model(test_tensor) \n",
    "        predict_word = tf.argmax(tf.nn.softmax(predict, axis=-1), axis=-1)[:, -1] \n",
    "        test_tensor = tf.concat([test_tensor, tf.expand_dims(predict_word, axis=0)], axis=-1)\n",
    "        if predict_word.numpy()[0] == end_token: break\n",
    "        if test_tensor.shape[1] >= max_len: break\n",
    "\n",
    "    generated = \"\"\n",
    "    for word_index in test_tensor[0].numpy():\n",
    "        generated += tokenizer.index_word[word_index] + \" \"\n",
    "\n",
    "    return generated"
   ]
  },
  {
   "cell_type": "code",
   "execution_count": 22,
   "id": "8479dae8",
   "metadata": {},
   "outputs": [
    {
     "data": {
      "text/plain": [
       "'<start> i love you , i love you , i love you <end> '"
      ]
     },
     "execution_count": 22,
     "metadata": {},
     "output_type": "execute_result"
    }
   ],
   "source": [
    "generate_text(model, tokenizer, init_sentence=\"<start> i love\", max_len=20)"
   ]
  }
 ],
 "metadata": {
  "kernelspec": {
   "display_name": "Python 3 (ipykernel)",
   "language": "python",
   "name": "python3"
  },
  "language_info": {
   "codemirror_mode": {
    "name": "ipython",
    "version": 3
   },
   "file_extension": ".py",
   "mimetype": "text/x-python",
   "name": "python",
   "nbconvert_exporter": "python",
   "pygments_lexer": "ipython3",
   "version": "3.9.7"
  }
 },
 "nbformat": 4,
 "nbformat_minor": 5
}
